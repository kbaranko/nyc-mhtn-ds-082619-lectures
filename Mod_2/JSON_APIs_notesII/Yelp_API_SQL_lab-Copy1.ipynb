{
 "cells": [
  {
   "cell_type": "markdown",
   "metadata": {},
   "source": [
    "# Yelp API - Lab\n",
    "\n",
    "\n",
    "\n",
    "## Introduction \n",
    "\n",
    "Now that we've seen how the Yelp API works, it's time to put those API and SQL skills to work in order to do some basic business analysis! Taking things a step further, you'll also independently explore how to perform pagination in order to retrieve a full results set from the Yelp API!\n",
    "\n",
    "## Objectives\n",
    "\n",
    "You will be able to:\n",
    "* Create a DB on AWS to store information from Yelp about businesses\n",
    "* Create HTTP requests to get data from Yelp API\n",
    "* Parse HTTP responses and insert the information into your DB\n",
    "* Perform pagination to retrieve troves of data!\n",
    "* Write SQL queries to answer questions about your data "
   ]
  },
  {
   "cell_type": "markdown",
   "metadata": {},
   "source": [
    "## Problem Introduction\n",
    "\n",
    "You've now worked with some API calls, but we have yet to see how to retrieve a more complete dataset in a programmatic manner and combine it with our other data skills. In this lab you will get data from the Yelp API, store that data in a SQL Database on AWS, and write queries to answer follow-up questions. \n",
    "\n",
    "\n",
    "### Outline:\n",
    "\n",
    "1. Determine which pieces of information you need to pull from the Yelp API.\n",
    "\n",
    "2. Create a DB schema with 2 tables. One for the businesses and one for the reviews.\n",
    "\n",
    "3. Create Python functions to:\n",
    "  - Perform a search of businesses using pagination\n",
    "  - Parse the API response for specific data points\n",
    "  - Insert the data into your AWS DB\n",
    "\n",
    "4. Use the functions above in a loop that will paginate over the results to retrieve all of the results. \n",
    "\n",
    "*Something might cause your code to break while it is running. You don't want to constantly repull the same data when this happens, so you should insert the data into the database as you call and parse it, not after you have all of the data*\n",
    "\n",
    "5. Create functions to:\n",
    "  - Retrieve the reviews data of one business\n",
    "  - Parse the reviews response for specific review data\n",
    "  - Insert the review data into the DB\n",
    "\n",
    "6. Using SQL, query all of the business IDs. Using the 3 Python functions you've created, run your business IDs through a loop to get the reviews for each business and insert them into your DB.\n",
    "\n",
    "7. Write SQL queries to answer the following questions about your data.\n",
    "\n",
    "\n",
    "Bonus Steps:  \n",
    "- Place your helper functions in a package so that your final notebook only has the major steps listed.\n",
    "- Rewrite your business search functions to be able take an argument for the type of business you are searching for.\n",
    "- Add another group of businesses to your database.\n"
   ]
  },
  {
   "cell_type": "markdown",
   "metadata": {},
   "source": [
    " \n",
    "## SQL Questions:\n",
    "\n",
    "- What are the 5 businesses with the highest average ratings?\n",
    "- What are the 5 businesses with the lowest average ratings?\n",
    "- What is the average rating of restaurants that have a price label of one dollar sign? Two dollar signs? Three dollar signs? \n",
    "- How many businesses have a rating greater than or  4.5?\n",
    "- How many businesses have a rating less than 3?\n",
    "- Return the text of the reviews for the most reviewed restaurant. \n",
    "- Return the name of the business with the most recent review. \n",
    "- Find the highest rated business and return text of the most recent review. If multiple business have the same rating, select the restaurant with the most reviews. \n",
    "- Find the lowest rated business and return text of the most recent review.  If multiple business have the same rating, select the restaurant with the least reviews. \n"
   ]
  },
  {
   "cell_type": "code",
   "execution_count": null,
   "metadata": {},
   "outputs": [],
   "source": []
  },
  {
   "cell_type": "markdown",
   "metadata": {},
   "source": [
    "## Part I - Set up the DB\n",
    "\n",
    "Start by reading SQL questions above to get an understanding of the data you will need. Then, read the documentation of Yelp API to understand what data you will receive in the response.  \n",
    "\n",
    "\n",
    "Now that you are familiar with the data, create your SQL queries to create the DB and the appropriate tables. "
   ]
  },
  {
   "cell_type": "code",
   "execution_count": 1,
   "metadata": {},
   "outputs": [],
   "source": [
    "## Connect to DB server on AWS\n",
    "import mysql.connector\n",
    "from mysql.connector import errorcode"
   ]
  },
  {
   "cell_type": "code",
   "execution_count": 2,
   "metadata": {},
   "outputs": [],
   "source": [
    "## Create new DB \n",
    "db_name = 'Yelp_Reviews'"
   ]
  },
  {
   "cell_type": "code",
   "execution_count": 3,
   "metadata": {},
   "outputs": [],
   "source": [
    "import config"
   ]
  },
  {
   "cell_type": "code",
   "execution_count": 4,
   "metadata": {},
   "outputs": [
    {
     "data": {
      "text/plain": [
       "'kyledb.cyfsqcs7xvaz.us-east-2.rds.amazonaws.com'"
      ]
     },
     "execution_count": 4,
     "metadata": {},
     "output_type": "execute_result"
    }
   ],
   "source": [
    "config.host"
   ]
  },
  {
   "cell_type": "code",
   "execution_count": 5,
   "metadata": {},
   "outputs": [
    {
     "name": "stdout",
     "output_type": "stream",
     "text": [
      "<mysql.connector.connection_cext.CMySQLConnection object at 0x103fdb6a0>\n"
     ]
    }
   ],
   "source": [
    "cnx = mysql.connector.connect(\n",
    "    host = config.host,\n",
    "    user = config.user,\n",
    "    passwd = config.passwd\n",
    ")\n",
    "\n",
    "print(cnx)"
   ]
  },
  {
   "cell_type": "code",
   "execution_count": 6,
   "metadata": {},
   "outputs": [],
   "source": [
    "cur = cnx.cursor()"
   ]
  },
  {
   "cell_type": "code",
   "execution_count": 7,
   "metadata": {},
   "outputs": [],
   "source": [
    "def create_database(cur, database):\n",
    "    try:\n",
    "        cur.execute(\n",
    "            \"CREATE DATABASE {} DEFAULT CHARACTER SET 'utf8'\".format(database))\n",
    "    except mysql.connector.Error as err:\n",
    "        print(\"Failed creating database: {}\".format(err))\n",
    "        exit(1)\n",
    "\n",
    "try:\n",
    "    cur.execute(\"USE {}\".format(db_name))\n",
    "except mysql.connector.Error as err:\n",
    "    print(\"Database {} does not exists.\".format(db_name))\n",
    "    if err.errno == errorcode.ER_BAD_DB_ERROR:\n",
    "        create_database(cur, db_name)\n",
    "        print(\"Database {} created successfully.\".format(db_name))\n",
    "        cnx.database = db_name\n",
    "    else:\n",
    "        print(err)\n",
    "        exit(1)"
   ]
  },
  {
   "cell_type": "code",
   "execution_count": null,
   "metadata": {},
   "outputs": [],
   "source": []
  },
  {
   "cell_type": "code",
   "execution_count": 58,
   "metadata": {},
   "outputs": [],
   "source": [
    "# Create a table for the Businesses\n",
    "db_name = 'Yelp_Reviews'"
   ]
  },
  {
   "cell_type": "code",
   "execution_count": 70,
   "metadata": {},
   "outputs": [],
   "source": [
    "tables = {}\n",
    "tables['businesses'] =(\n",
    "     \"\"\"CREATE TABLE businesses (\n",
    "        id char(100) NOT NULL,\n",
    "        name char(50) NOT NULL,\n",
    "        city char(50),\n",
    "        rating float(10),\n",
    "        price char(10),\n",
    "        reviews_count int(100),\n",
    "        zip int(10),\n",
    "        phone char(50),\n",
    "        PRIMARY KEY (id))\"\"\"\n",
    ")"
   ]
  },
  {
   "cell_type": "code",
   "execution_count": 71,
   "metadata": {},
   "outputs": [
    {
     "data": {
      "text/plain": [
       "'CREATE TABLE businesses (\\n        id char(100) NOT NULL,\\n        name char(50) NOT NULL,\\n        city char(50),\\n        rating float(10),\\n        price char(10),\\n        reviews_count int(100),\\n        zip int(10),\\n        phone char(50),\\n        PRIMARY KEY (id))'"
      ]
     },
     "execution_count": 71,
     "metadata": {},
     "output_type": "execute_result"
    }
   ],
   "source": [
    "tables['businesses']"
   ]
  },
  {
   "cell_type": "code",
   "execution_count": 72,
   "metadata": {},
   "outputs": [],
   "source": [
    "cnx = mysql.connector.connect(\n",
    "    host = config.host,\n",
    "    user = config.user,\n",
    "    passwd = config.passwd,\n",
    "    database = db_name\n",
    ")\n",
    "cur = cnx.cursor()"
   ]
  },
  {
   "cell_type": "code",
   "execution_count": 73,
   "metadata": {},
   "outputs": [],
   "source": [
    "table_description = tables['businesses']\n",
    "cur.execute(table_description)"
   ]
  },
  {
   "cell_type": "code",
   "execution_count": null,
   "metadata": {},
   "outputs": [],
   "source": [
    "# Create a table for the reviews\n",
    "\n"
   ]
  },
  {
   "cell_type": "code",
   "execution_count": null,
   "metadata": {},
   "outputs": [],
   "source": []
  },
  {
   "cell_type": "markdown",
   "metadata": {},
   "source": [
    "## Part 2: Create ETL pipeline for the business data from the API"
   ]
  },
  {
   "cell_type": "code",
   "execution_count": 8,
   "metadata": {},
   "outputs": [],
   "source": [
    "# write a function to make a call to the DB\n",
    "import json\n",
    "import requests"
   ]
  },
  {
   "cell_type": "code",
   "execution_count": null,
   "metadata": {},
   "outputs": [],
   "source": []
  },
  {
   "cell_type": "code",
   "execution_count": 9,
   "metadata": {},
   "outputs": [],
   "source": [
    "client_id = \"9J_ck2JO3fi6RH5JLu8A-A\"\n",
    "api_key = \"viVSrhO9Q0gaHiDJCaGZMUlypHjZRjgi5D6DIcQbcjxpkBbHncF1QEI48CNtGPiKpCoCO06tp6SnnzzWUMXwh6Sz-mFRT1Z0a5iD3L0n-D57m2hwBXxaNJOwZHh6XXYx\"\n"
   ]
  },
  {
   "cell_type": "code",
   "execution_count": 10,
   "metadata": {},
   "outputs": [
    {
     "name": "stdout",
     "output_type": "stream",
     "text": [
      "<Response [200]>\n",
      "<class 'str'>\n",
      "{\"businesses\": [{\"id\": \"zj8Lq1T8KIC5zwFief15jg\", \"alias\": \"prince-street-pizza-new-york-2\", \"name\": \"Prince Street Pizza\", \"image_url\": \"https://s3-media3.fl.yelpcdn.com/bphoto/ZAukOyv530w4KjOHC5YY1w/o.jpg\", \"is_closed\": false, \"url\": \"https://www.yelp.com/biz/prince-street-pizza-new-york-2?adjust_creative=9J_ck2JO3fi6RH5JLu8A-A&utm_campaign=yelp_api_v3&utm_medium=api_v3_business_search&utm_source=9J_ck2JO3fi6RH5JLu8A-A\", \"review_count\": 3083, \"categories\": [{\"alias\": \"pizza\", \"title\": \"Pizza\"},\n"
     ]
    }
   ],
   "source": [
    "term = 'Pizza'\n",
    "location = 'New York City'\n",
    "SEARCH_LIMIT = 10\n",
    "\n",
    "url = 'https://api.yelp.com/v3/businesses/search' #endpoint \n",
    "\n",
    "headers = {\n",
    "        'Authorization': 'Bearer {}'.format(api_key), # need to pass along the API key, this is how it asks for authorization\n",
    "    }\n",
    "#when you make the request, it will look into the header for this information \n",
    "\n",
    "url_params = {\n",
    "                'term': term.replace(' ', '+'),\n",
    "                'location': location.replace(' ', '+'),\n",
    "                'limit': SEARCH_LIMIT\n",
    "            }\n",
    "response = requests.get(url, headers=headers, params=url_params)\n",
    "print(response)\n",
    "print(type(response.text))\n",
    "print(response.text[:500])"
   ]
  },
  {
   "cell_type": "code",
   "execution_count": 11,
   "metadata": {},
   "outputs": [
    {
     "name": "stdout",
     "output_type": "stream",
     "text": [
      "200\n"
     ]
    }
   ],
   "source": [
    "print(response.status_code)"
   ]
  },
  {
   "cell_type": "code",
   "execution_count": 12,
   "metadata": {},
   "outputs": [
    {
     "data": {
      "text/plain": [
       "dict_keys(['businesses', 'total', 'region'])"
      ]
     },
     "execution_count": 12,
     "metadata": {},
     "output_type": "execute_result"
    }
   ],
   "source": [
    "response.json().keys()"
   ]
  },
  {
   "cell_type": "code",
   "execution_count": null,
   "metadata": {},
   "outputs": [],
   "source": []
  },
  {
   "cell_type": "code",
   "execution_count": null,
   "metadata": {},
   "outputs": [],
   "source": []
  },
  {
   "cell_type": "code",
   "execution_count": 13,
   "metadata": {},
   "outputs": [
    {
     "name": "stdout",
     "output_type": "stream",
     "text": [
      "businesses\n",
      "<class 'list'>\n",
      "\n",
      "\n",
      "\n",
      "total\n",
      "<class 'int'>\n",
      "\n",
      "\n",
      "\n",
      "region\n",
      "<class 'dict'>\n",
      "\n",
      "\n",
      "\n"
     ]
    }
   ],
   "source": [
    "for key in response.json().keys():\n",
    "    print(key)\n",
    "    value = response.json()[key] #Use standard dictionary formatting\n",
    "    print(type(value)) #What type is it?\n",
    "    print('\\n\\n')"
   ]
  },
  {
   "cell_type": "code",
   "execution_count": 14,
   "metadata": {},
   "outputs": [],
   "source": [
    "yelp_pizza_data =response.json()"
   ]
  },
  {
   "cell_type": "code",
   "execution_count": 15,
   "metadata": {},
   "outputs": [
    {
     "data": {
      "text/plain": [
       "{'businesses': [{'id': 'zj8Lq1T8KIC5zwFief15jg',\n",
       "   'alias': 'prince-street-pizza-new-york-2',\n",
       "   'name': 'Prince Street Pizza',\n",
       "   'image_url': 'https://s3-media3.fl.yelpcdn.com/bphoto/ZAukOyv530w4KjOHC5YY1w/o.jpg',\n",
       "   'is_closed': False,\n",
       "   'url': 'https://www.yelp.com/biz/prince-street-pizza-new-york-2?adjust_creative=9J_ck2JO3fi6RH5JLu8A-A&utm_campaign=yelp_api_v3&utm_medium=api_v3_business_search&utm_source=9J_ck2JO3fi6RH5JLu8A-A',\n",
       "   'review_count': 3083,\n",
       "   'categories': [{'alias': 'pizza', 'title': 'Pizza'},\n",
       "    {'alias': 'italian', 'title': 'Italian'}],\n",
       "   'rating': 4.5,\n",
       "   'coordinates': {'latitude': 40.7229087705545,\n",
       "    'longitude': -73.9944863319397},\n",
       "   'transactions': ['delivery', 'pickup'],\n",
       "   'price': '$',\n",
       "   'location': {'address1': '27 Prince St',\n",
       "    'address2': None,\n",
       "    'address3': '',\n",
       "    'city': 'New York',\n",
       "    'zip_code': '10012',\n",
       "    'country': 'US',\n",
       "    'state': 'NY',\n",
       "    'display_address': ['27 Prince St', 'New York, NY 10012']},\n",
       "   'phone': '+12129664100',\n",
       "   'display_phone': '(212) 966-4100',\n",
       "   'distance': 1941.9638172538225},\n",
       "  {'id': 'ysqgdbSrezXgVwER2kQWKA',\n",
       "   'alias': 'julianas-pizza-brooklyn-5',\n",
       "   'name': \"Juliana's Pizza\",\n",
       "   'image_url': 'https://s3-media1.fl.yelpcdn.com/bphoto/7JtwTxhWHf3YS70Ss_CfxA/o.jpg',\n",
       "   'is_closed': False,\n",
       "   'url': 'https://www.yelp.com/biz/julianas-pizza-brooklyn-5?adjust_creative=9J_ck2JO3fi6RH5JLu8A-A&utm_campaign=yelp_api_v3&utm_medium=api_v3_business_search&utm_source=9J_ck2JO3fi6RH5JLu8A-A',\n",
       "   'review_count': 2071,\n",
       "   'categories': [{'alias': 'pizza', 'title': 'Pizza'}],\n",
       "   'rating': 4.5,\n",
       "   'coordinates': {'latitude': 40.7026153030093,\n",
       "    'longitude': -73.9934159993549},\n",
       "   'transactions': [],\n",
       "   'price': '$$',\n",
       "   'location': {'address1': '19 Old Fulton St',\n",
       "    'address2': '',\n",
       "    'address3': '',\n",
       "    'city': 'Brooklyn',\n",
       "    'zip_code': '11201',\n",
       "    'country': 'US',\n",
       "    'state': 'NY',\n",
       "    'display_address': ['19 Old Fulton St', 'Brooklyn, NY 11201']},\n",
       "   'phone': '+17185966700',\n",
       "   'display_phone': '(718) 596-6700',\n",
       "   'distance': 323.20506308227306},\n",
       "  {'id': 'WIhm0W9197f_rRtDziq5qQ',\n",
       "   'alias': 'lombardis-pizza-new-york-4',\n",
       "   'name': \"Lombardi's Pizza\",\n",
       "   'image_url': 'https://s3-media1.fl.yelpcdn.com/bphoto/UZ6V_hobp1KpYDPOHNoCKw/o.jpg',\n",
       "   'is_closed': False,\n",
       "   'url': 'https://www.yelp.com/biz/lombardis-pizza-new-york-4?adjust_creative=9J_ck2JO3fi6RH5JLu8A-A&utm_campaign=yelp_api_v3&utm_medium=api_v3_business_search&utm_source=9J_ck2JO3fi6RH5JLu8A-A',\n",
       "   'review_count': 5960,\n",
       "   'categories': [{'alias': 'pizza', 'title': 'Pizza'}],\n",
       "   'rating': 4.0,\n",
       "   'coordinates': {'latitude': 40.7215934960083,\n",
       "    'longitude': -73.9955956044561},\n",
       "   'transactions': ['delivery', 'pickup'],\n",
       "   'price': '$$',\n",
       "   'location': {'address1': '32 Spring St',\n",
       "    'address2': '',\n",
       "    'address3': '',\n",
       "    'city': 'New York',\n",
       "    'zip_code': '10012',\n",
       "    'country': 'US',\n",
       "    'state': 'NY',\n",
       "    'display_address': ['32 Spring St', 'New York, NY 10012']},\n",
       "   'phone': '+12129417994',\n",
       "   'display_phone': '(212) 941-7994',\n",
       "   'distance': 1798.9959778083735},\n",
       "  {'id': 'uc5qQMzs96rzjK27epDCug',\n",
       "   'alias': 'joes-pizza-new-york-4',\n",
       "   'name': \"Joe's Pizza\",\n",
       "   'image_url': 'https://s3-media2.fl.yelpcdn.com/bphoto/FhbFkrh_3TrAOZvoWTyOJA/o.jpg',\n",
       "   'is_closed': False,\n",
       "   'url': 'https://www.yelp.com/biz/joes-pizza-new-york-4?adjust_creative=9J_ck2JO3fi6RH5JLu8A-A&utm_campaign=yelp_api_v3&utm_medium=api_v3_business_search&utm_source=9J_ck2JO3fi6RH5JLu8A-A',\n",
       "   'review_count': 2391,\n",
       "   'categories': [{'alias': 'pizza', 'title': 'Pizza'}],\n",
       "   'rating': 4.0,\n",
       "   'coordinates': {'latitude': 40.730655, 'longitude': -74.002189},\n",
       "   'transactions': [],\n",
       "   'price': '$',\n",
       "   'location': {'address1': '7 Carmine St',\n",
       "    'address2': '',\n",
       "    'address3': '',\n",
       "    'city': 'New York',\n",
       "    'zip_code': '10014',\n",
       "    'country': 'US',\n",
       "    'state': 'NY',\n",
       "    'display_address': ['7 Carmine St', 'New York, NY 10014']},\n",
       "   'phone': '+12123661182',\n",
       "   'display_phone': '(212) 366-1182',\n",
       "   'distance': 2881.2882146124957},\n",
       "  {'id': 'v1DHGRNCH9247WLYoaoA9A',\n",
       "   'alias': 'l-industrie-pizzeria-brooklyn',\n",
       "   'name': \"L'industrie Pizzeria\",\n",
       "   'image_url': 'https://s3-media2.fl.yelpcdn.com/bphoto/SRL_RztRRUijgQwt67daGw/o.jpg',\n",
       "   'is_closed': False,\n",
       "   'url': 'https://www.yelp.com/biz/l-industrie-pizzeria-brooklyn?adjust_creative=9J_ck2JO3fi6RH5JLu8A-A&utm_campaign=yelp_api_v3&utm_medium=api_v3_business_search&utm_source=9J_ck2JO3fi6RH5JLu8A-A',\n",
       "   'review_count': 471,\n",
       "   'categories': [{'alias': 'pizza', 'title': 'Pizza'}],\n",
       "   'rating': 5.0,\n",
       "   'coordinates': {'latitude': 40.71162, 'longitude': -73.95783},\n",
       "   'transactions': ['delivery', 'pickup'],\n",
       "   'price': '$',\n",
       "   'location': {'address1': '254 S 2nd St',\n",
       "    'address2': '',\n",
       "    'address3': '',\n",
       "    'city': 'Brooklyn',\n",
       "    'zip_code': '11211',\n",
       "    'country': 'US',\n",
       "    'state': 'NY',\n",
       "    'display_address': ['254 S 2nd St', 'Brooklyn, NY 11211']},\n",
       "   'phone': '+17185990002',\n",
       "   'display_phone': '(718) 599-0002',\n",
       "   'distance': 3145.016041338447},\n",
       "  {'id': 'oJ_XSPZFpvIt6rvheSQl7A',\n",
       "   'alias': 'bleecker-street-pizza-new-york',\n",
       "   'name': 'Bleecker Street Pizza',\n",
       "   'image_url': 'https://s3-media4.fl.yelpcdn.com/bphoto/Kyi2tP43S_a6s-zXD38NUQ/o.jpg',\n",
       "   'is_closed': False,\n",
       "   'url': 'https://www.yelp.com/biz/bleecker-street-pizza-new-york?adjust_creative=9J_ck2JO3fi6RH5JLu8A-A&utm_campaign=yelp_api_v3&utm_medium=api_v3_business_search&utm_source=9J_ck2JO3fi6RH5JLu8A-A',\n",
       "   'review_count': 2207,\n",
       "   'categories': [{'alias': 'pizza', 'title': 'Pizza'},\n",
       "    {'alias': 'italian', 'title': 'Italian'}],\n",
       "   'rating': 4.0,\n",
       "   'coordinates': {'latitude': 40.7320627016512,\n",
       "    'longitude': -74.0036552270137},\n",
       "   'transactions': ['delivery', 'pickup'],\n",
       "   'price': '$',\n",
       "   'location': {'address1': '69 7th Ave S',\n",
       "    'address2': None,\n",
       "    'address3': '',\n",
       "    'city': 'New York',\n",
       "    'zip_code': '10014',\n",
       "    'country': 'US',\n",
       "    'state': 'NY',\n",
       "    'display_address': ['69 7th Ave S', 'New York, NY 10014']},\n",
       "   'phone': '+12129244466',\n",
       "   'display_phone': '(212) 924-4466',\n",
       "   'distance': 3072.9540450669765},\n",
       "  {'id': 'oRdM7n-AfBPBGAlH4Q0Sag',\n",
       "   'alias': 'my-pie-pizzeria-romana-new-york-2',\n",
       "   'name': 'My Pie Pizzeria Romana',\n",
       "   'image_url': 'https://s3-media3.fl.yelpcdn.com/bphoto/vo36uaolTTa5aREAcddJnw/o.jpg',\n",
       "   'is_closed': False,\n",
       "   'url': 'https://www.yelp.com/biz/my-pie-pizzeria-romana-new-york-2?adjust_creative=9J_ck2JO3fi6RH5JLu8A-A&utm_campaign=yelp_api_v3&utm_medium=api_v3_business_search&utm_source=9J_ck2JO3fi6RH5JLu8A-A',\n",
       "   'review_count': 709,\n",
       "   'categories': [{'alias': 'italian', 'title': 'Italian'},\n",
       "    {'alias': 'pizza', 'title': 'Pizza'}],\n",
       "   'rating': 4.5,\n",
       "   'coordinates': {'latitude': 40.7608512, 'longitude': -73.9694809},\n",
       "   'transactions': ['delivery', 'pickup'],\n",
       "   'price': '$',\n",
       "   'location': {'address1': '690 Lexington Ave',\n",
       "    'address2': '',\n",
       "    'address3': '',\n",
       "    'city': 'New York',\n",
       "    'zip_code': '10022',\n",
       "    'country': 'US',\n",
       "    'state': 'NY',\n",
       "    'display_address': ['690 Lexington Ave', 'New York, NY 10022']},\n",
       "   'phone': '+12123171850',\n",
       "   'display_phone': '(212) 317-1850',\n",
       "   'distance': 6505.9564779774955},\n",
       "  {'id': 'xxgcU_oFIox_pAmroo9WwA',\n",
       "   'alias': 'front-street-pizza-brooklyn',\n",
       "   'name': 'Front Street Pizza',\n",
       "   'image_url': 'https://s3-media1.fl.yelpcdn.com/bphoto/ybrfmg0lGdBoJRM7X1_s3A/o.jpg',\n",
       "   'is_closed': False,\n",
       "   'url': 'https://www.yelp.com/biz/front-street-pizza-brooklyn?adjust_creative=9J_ck2JO3fi6RH5JLu8A-A&utm_campaign=yelp_api_v3&utm_medium=api_v3_business_search&utm_source=9J_ck2JO3fi6RH5JLu8A-A',\n",
       "   'review_count': 323,\n",
       "   'categories': [{'alias': 'pizza', 'title': 'Pizza'},\n",
       "    {'alias': 'bars', 'title': 'Bars'},\n",
       "    {'alias': 'italian', 'title': 'Italian'}],\n",
       "   'rating': 4.0,\n",
       "   'coordinates': {'latitude': 40.70244, 'longitude': -73.98943},\n",
       "   'transactions': ['delivery', 'pickup'],\n",
       "   'price': '$',\n",
       "   'location': {'address1': '80 Front St',\n",
       "    'address2': '',\n",
       "    'address3': '',\n",
       "    'city': 'Brooklyn',\n",
       "    'zip_code': '11201',\n",
       "    'country': 'US',\n",
       "    'state': 'NY',\n",
       "    'display_address': ['80 Front St', 'Brooklyn, NY 11201']},\n",
       "   'phone': '+17188753700',\n",
       "   'display_phone': '(718) 875-3700',\n",
       "   'distance': 550.4392264831844},\n",
       "  {'id': '4h4Tuuc56YPO6lWfZ1bdSQ',\n",
       "   'alias': 'joes-pizza-new-york-152',\n",
       "   'name': \"Joe's Pizza\",\n",
       "   'image_url': 'https://s3-media3.fl.yelpcdn.com/bphoto/iiFPnKfxI2_UjJHbCd2iCQ/o.jpg',\n",
       "   'is_closed': False,\n",
       "   'url': 'https://www.yelp.com/biz/joes-pizza-new-york-152?adjust_creative=9J_ck2JO3fi6RH5JLu8A-A&utm_campaign=yelp_api_v3&utm_medium=api_v3_business_search&utm_source=9J_ck2JO3fi6RH5JLu8A-A',\n",
       "   'review_count': 110,\n",
       "   'categories': [{'alias': 'pizza', 'title': 'Pizza'}],\n",
       "   'rating': 4.0,\n",
       "   'coordinates': {'latitude': 40.7101297729083,\n",
       "    'longitude': -74.0077206864953},\n",
       "   'transactions': ['delivery', 'pickup'],\n",
       "   'price': '$',\n",
       "   'location': {'address1': '124 Fulton St',\n",
       "    'address2': '',\n",
       "    'address3': None,\n",
       "    'city': 'New York',\n",
       "    'zip_code': '10038',\n",
       "    'country': 'US',\n",
       "    'state': 'NY',\n",
       "    'display_address': ['124 Fulton St', 'New York, NY 10038']},\n",
       "   'phone': '+12122670860',\n",
       "   'display_phone': '(212) 267-0860',\n",
       "   'distance': 1245.9428626945232},\n",
       "  {'id': 'nUpA3sY5b6dynC7aj0eV6A',\n",
       "   'alias': 'rizzos-fine-pizza-new-york-4',\n",
       "   'name': \"Rizzo's Fine Pizza\",\n",
       "   'image_url': 'https://s3-media1.fl.yelpcdn.com/bphoto/dnLj-NVZx4TUp608hDVBvw/o.jpg',\n",
       "   'is_closed': False,\n",
       "   'url': 'https://www.yelp.com/biz/rizzos-fine-pizza-new-york-4?adjust_creative=9J_ck2JO3fi6RH5JLu8A-A&utm_campaign=yelp_api_v3&utm_medium=api_v3_business_search&utm_source=9J_ck2JO3fi6RH5JLu8A-A',\n",
       "   'review_count': 708,\n",
       "   'categories': [{'alias': 'pizza', 'title': 'Pizza'},\n",
       "    {'alias': 'wine_bars', 'title': 'Wine Bars'},\n",
       "    {'alias': 'beerbar', 'title': 'Beer Bar'}],\n",
       "   'rating': 4.5,\n",
       "   'coordinates': {'latitude': 40.720852, 'longitude': -73.984456},\n",
       "   'transactions': ['delivery', 'pickup', 'restaurant_reservation'],\n",
       "   'price': '$$',\n",
       "   'location': {'address1': '17 Clinton St',\n",
       "    'address2': '',\n",
       "    'address3': '',\n",
       "    'city': 'New York',\n",
       "    'zip_code': '10002',\n",
       "    'country': 'US',\n",
       "    'state': 'NY',\n",
       "    'display_address': ['17 Clinton St', 'New York, NY 10002']},\n",
       "   'phone': '+16464541262',\n",
       "   'display_phone': '(646) 454-1262',\n",
       "   'distance': 1903.2788345091096}],\n",
       " 'total': 10900,\n",
       " 'region': {'center': {'longitude': -73.99429321289062,\n",
       "   'latitude': 40.70544486444615}}}"
      ]
     },
     "execution_count": 15,
     "metadata": {},
     "output_type": "execute_result"
    }
   ],
   "source": [
    "yelp_pizza_data"
   ]
  },
  {
   "cell_type": "code",
   "execution_count": 16,
   "metadata": {
    "scrolled": true
   },
   "outputs": [
    {
     "data": {
      "text/plain": [
       "[{'id': 'zj8Lq1T8KIC5zwFief15jg',\n",
       "  'alias': 'prince-street-pizza-new-york-2',\n",
       "  'name': 'Prince Street Pizza',\n",
       "  'image_url': 'https://s3-media3.fl.yelpcdn.com/bphoto/ZAukOyv530w4KjOHC5YY1w/o.jpg',\n",
       "  'is_closed': False,\n",
       "  'url': 'https://www.yelp.com/biz/prince-street-pizza-new-york-2?adjust_creative=9J_ck2JO3fi6RH5JLu8A-A&utm_campaign=yelp_api_v3&utm_medium=api_v3_business_search&utm_source=9J_ck2JO3fi6RH5JLu8A-A',\n",
       "  'review_count': 3083,\n",
       "  'categories': [{'alias': 'pizza', 'title': 'Pizza'},\n",
       "   {'alias': 'italian', 'title': 'Italian'}],\n",
       "  'rating': 4.5,\n",
       "  'coordinates': {'latitude': 40.7229087705545,\n",
       "   'longitude': -73.9944863319397},\n",
       "  'transactions': ['delivery', 'pickup'],\n",
       "  'price': '$',\n",
       "  'location': {'address1': '27 Prince St',\n",
       "   'address2': None,\n",
       "   'address3': '',\n",
       "   'city': 'New York',\n",
       "   'zip_code': '10012',\n",
       "   'country': 'US',\n",
       "   'state': 'NY',\n",
       "   'display_address': ['27 Prince St', 'New York, NY 10012']},\n",
       "  'phone': '+12129664100',\n",
       "  'display_phone': '(212) 966-4100',\n",
       "  'distance': 1941.9638172538225},\n",
       " {'id': 'ysqgdbSrezXgVwER2kQWKA',\n",
       "  'alias': 'julianas-pizza-brooklyn-5',\n",
       "  'name': \"Juliana's Pizza\",\n",
       "  'image_url': 'https://s3-media1.fl.yelpcdn.com/bphoto/7JtwTxhWHf3YS70Ss_CfxA/o.jpg',\n",
       "  'is_closed': False,\n",
       "  'url': 'https://www.yelp.com/biz/julianas-pizza-brooklyn-5?adjust_creative=9J_ck2JO3fi6RH5JLu8A-A&utm_campaign=yelp_api_v3&utm_medium=api_v3_business_search&utm_source=9J_ck2JO3fi6RH5JLu8A-A',\n",
       "  'review_count': 2071,\n",
       "  'categories': [{'alias': 'pizza', 'title': 'Pizza'}],\n",
       "  'rating': 4.5,\n",
       "  'coordinates': {'latitude': 40.7026153030093,\n",
       "   'longitude': -73.9934159993549},\n",
       "  'transactions': [],\n",
       "  'price': '$$',\n",
       "  'location': {'address1': '19 Old Fulton St',\n",
       "   'address2': '',\n",
       "   'address3': '',\n",
       "   'city': 'Brooklyn',\n",
       "   'zip_code': '11201',\n",
       "   'country': 'US',\n",
       "   'state': 'NY',\n",
       "   'display_address': ['19 Old Fulton St', 'Brooklyn, NY 11201']},\n",
       "  'phone': '+17185966700',\n",
       "  'display_phone': '(718) 596-6700',\n",
       "  'distance': 323.20506308227306},\n",
       " {'id': 'WIhm0W9197f_rRtDziq5qQ',\n",
       "  'alias': 'lombardis-pizza-new-york-4',\n",
       "  'name': \"Lombardi's Pizza\",\n",
       "  'image_url': 'https://s3-media1.fl.yelpcdn.com/bphoto/UZ6V_hobp1KpYDPOHNoCKw/o.jpg',\n",
       "  'is_closed': False,\n",
       "  'url': 'https://www.yelp.com/biz/lombardis-pizza-new-york-4?adjust_creative=9J_ck2JO3fi6RH5JLu8A-A&utm_campaign=yelp_api_v3&utm_medium=api_v3_business_search&utm_source=9J_ck2JO3fi6RH5JLu8A-A',\n",
       "  'review_count': 5960,\n",
       "  'categories': [{'alias': 'pizza', 'title': 'Pizza'}],\n",
       "  'rating': 4.0,\n",
       "  'coordinates': {'latitude': 40.7215934960083,\n",
       "   'longitude': -73.9955956044561},\n",
       "  'transactions': ['delivery', 'pickup'],\n",
       "  'price': '$$',\n",
       "  'location': {'address1': '32 Spring St',\n",
       "   'address2': '',\n",
       "   'address3': '',\n",
       "   'city': 'New York',\n",
       "   'zip_code': '10012',\n",
       "   'country': 'US',\n",
       "   'state': 'NY',\n",
       "   'display_address': ['32 Spring St', 'New York, NY 10012']},\n",
       "  'phone': '+12129417994',\n",
       "  'display_phone': '(212) 941-7994',\n",
       "  'distance': 1798.9959778083735},\n",
       " {'id': 'uc5qQMzs96rzjK27epDCug',\n",
       "  'alias': 'joes-pizza-new-york-4',\n",
       "  'name': \"Joe's Pizza\",\n",
       "  'image_url': 'https://s3-media2.fl.yelpcdn.com/bphoto/FhbFkrh_3TrAOZvoWTyOJA/o.jpg',\n",
       "  'is_closed': False,\n",
       "  'url': 'https://www.yelp.com/biz/joes-pizza-new-york-4?adjust_creative=9J_ck2JO3fi6RH5JLu8A-A&utm_campaign=yelp_api_v3&utm_medium=api_v3_business_search&utm_source=9J_ck2JO3fi6RH5JLu8A-A',\n",
       "  'review_count': 2391,\n",
       "  'categories': [{'alias': 'pizza', 'title': 'Pizza'}],\n",
       "  'rating': 4.0,\n",
       "  'coordinates': {'latitude': 40.730655, 'longitude': -74.002189},\n",
       "  'transactions': [],\n",
       "  'price': '$',\n",
       "  'location': {'address1': '7 Carmine St',\n",
       "   'address2': '',\n",
       "   'address3': '',\n",
       "   'city': 'New York',\n",
       "   'zip_code': '10014',\n",
       "   'country': 'US',\n",
       "   'state': 'NY',\n",
       "   'display_address': ['7 Carmine St', 'New York, NY 10014']},\n",
       "  'phone': '+12123661182',\n",
       "  'display_phone': '(212) 366-1182',\n",
       "  'distance': 2881.2882146124957},\n",
       " {'id': 'v1DHGRNCH9247WLYoaoA9A',\n",
       "  'alias': 'l-industrie-pizzeria-brooklyn',\n",
       "  'name': \"L'industrie Pizzeria\",\n",
       "  'image_url': 'https://s3-media2.fl.yelpcdn.com/bphoto/SRL_RztRRUijgQwt67daGw/o.jpg',\n",
       "  'is_closed': False,\n",
       "  'url': 'https://www.yelp.com/biz/l-industrie-pizzeria-brooklyn?adjust_creative=9J_ck2JO3fi6RH5JLu8A-A&utm_campaign=yelp_api_v3&utm_medium=api_v3_business_search&utm_source=9J_ck2JO3fi6RH5JLu8A-A',\n",
       "  'review_count': 471,\n",
       "  'categories': [{'alias': 'pizza', 'title': 'Pizza'}],\n",
       "  'rating': 5.0,\n",
       "  'coordinates': {'latitude': 40.71162, 'longitude': -73.95783},\n",
       "  'transactions': ['delivery', 'pickup'],\n",
       "  'price': '$',\n",
       "  'location': {'address1': '254 S 2nd St',\n",
       "   'address2': '',\n",
       "   'address3': '',\n",
       "   'city': 'Brooklyn',\n",
       "   'zip_code': '11211',\n",
       "   'country': 'US',\n",
       "   'state': 'NY',\n",
       "   'display_address': ['254 S 2nd St', 'Brooklyn, NY 11211']},\n",
       "  'phone': '+17185990002',\n",
       "  'display_phone': '(718) 599-0002',\n",
       "  'distance': 3145.016041338447},\n",
       " {'id': 'oJ_XSPZFpvIt6rvheSQl7A',\n",
       "  'alias': 'bleecker-street-pizza-new-york',\n",
       "  'name': 'Bleecker Street Pizza',\n",
       "  'image_url': 'https://s3-media4.fl.yelpcdn.com/bphoto/Kyi2tP43S_a6s-zXD38NUQ/o.jpg',\n",
       "  'is_closed': False,\n",
       "  'url': 'https://www.yelp.com/biz/bleecker-street-pizza-new-york?adjust_creative=9J_ck2JO3fi6RH5JLu8A-A&utm_campaign=yelp_api_v3&utm_medium=api_v3_business_search&utm_source=9J_ck2JO3fi6RH5JLu8A-A',\n",
       "  'review_count': 2207,\n",
       "  'categories': [{'alias': 'pizza', 'title': 'Pizza'},\n",
       "   {'alias': 'italian', 'title': 'Italian'}],\n",
       "  'rating': 4.0,\n",
       "  'coordinates': {'latitude': 40.7320627016512,\n",
       "   'longitude': -74.0036552270137},\n",
       "  'transactions': ['delivery', 'pickup'],\n",
       "  'price': '$',\n",
       "  'location': {'address1': '69 7th Ave S',\n",
       "   'address2': None,\n",
       "   'address3': '',\n",
       "   'city': 'New York',\n",
       "   'zip_code': '10014',\n",
       "   'country': 'US',\n",
       "   'state': 'NY',\n",
       "   'display_address': ['69 7th Ave S', 'New York, NY 10014']},\n",
       "  'phone': '+12129244466',\n",
       "  'display_phone': '(212) 924-4466',\n",
       "  'distance': 3072.9540450669765},\n",
       " {'id': 'oRdM7n-AfBPBGAlH4Q0Sag',\n",
       "  'alias': 'my-pie-pizzeria-romana-new-york-2',\n",
       "  'name': 'My Pie Pizzeria Romana',\n",
       "  'image_url': 'https://s3-media3.fl.yelpcdn.com/bphoto/vo36uaolTTa5aREAcddJnw/o.jpg',\n",
       "  'is_closed': False,\n",
       "  'url': 'https://www.yelp.com/biz/my-pie-pizzeria-romana-new-york-2?adjust_creative=9J_ck2JO3fi6RH5JLu8A-A&utm_campaign=yelp_api_v3&utm_medium=api_v3_business_search&utm_source=9J_ck2JO3fi6RH5JLu8A-A',\n",
       "  'review_count': 709,\n",
       "  'categories': [{'alias': 'italian', 'title': 'Italian'},\n",
       "   {'alias': 'pizza', 'title': 'Pizza'}],\n",
       "  'rating': 4.5,\n",
       "  'coordinates': {'latitude': 40.7608512, 'longitude': -73.9694809},\n",
       "  'transactions': ['delivery', 'pickup'],\n",
       "  'price': '$',\n",
       "  'location': {'address1': '690 Lexington Ave',\n",
       "   'address2': '',\n",
       "   'address3': '',\n",
       "   'city': 'New York',\n",
       "   'zip_code': '10022',\n",
       "   'country': 'US',\n",
       "   'state': 'NY',\n",
       "   'display_address': ['690 Lexington Ave', 'New York, NY 10022']},\n",
       "  'phone': '+12123171850',\n",
       "  'display_phone': '(212) 317-1850',\n",
       "  'distance': 6505.9564779774955},\n",
       " {'id': 'xxgcU_oFIox_pAmroo9WwA',\n",
       "  'alias': 'front-street-pizza-brooklyn',\n",
       "  'name': 'Front Street Pizza',\n",
       "  'image_url': 'https://s3-media1.fl.yelpcdn.com/bphoto/ybrfmg0lGdBoJRM7X1_s3A/o.jpg',\n",
       "  'is_closed': False,\n",
       "  'url': 'https://www.yelp.com/biz/front-street-pizza-brooklyn?adjust_creative=9J_ck2JO3fi6RH5JLu8A-A&utm_campaign=yelp_api_v3&utm_medium=api_v3_business_search&utm_source=9J_ck2JO3fi6RH5JLu8A-A',\n",
       "  'review_count': 323,\n",
       "  'categories': [{'alias': 'pizza', 'title': 'Pizza'},\n",
       "   {'alias': 'bars', 'title': 'Bars'},\n",
       "   {'alias': 'italian', 'title': 'Italian'}],\n",
       "  'rating': 4.0,\n",
       "  'coordinates': {'latitude': 40.70244, 'longitude': -73.98943},\n",
       "  'transactions': ['delivery', 'pickup'],\n",
       "  'price': '$',\n",
       "  'location': {'address1': '80 Front St',\n",
       "   'address2': '',\n",
       "   'address3': '',\n",
       "   'city': 'Brooklyn',\n",
       "   'zip_code': '11201',\n",
       "   'country': 'US',\n",
       "   'state': 'NY',\n",
       "   'display_address': ['80 Front St', 'Brooklyn, NY 11201']},\n",
       "  'phone': '+17188753700',\n",
       "  'display_phone': '(718) 875-3700',\n",
       "  'distance': 550.4392264831844},\n",
       " {'id': '4h4Tuuc56YPO6lWfZ1bdSQ',\n",
       "  'alias': 'joes-pizza-new-york-152',\n",
       "  'name': \"Joe's Pizza\",\n",
       "  'image_url': 'https://s3-media3.fl.yelpcdn.com/bphoto/iiFPnKfxI2_UjJHbCd2iCQ/o.jpg',\n",
       "  'is_closed': False,\n",
       "  'url': 'https://www.yelp.com/biz/joes-pizza-new-york-152?adjust_creative=9J_ck2JO3fi6RH5JLu8A-A&utm_campaign=yelp_api_v3&utm_medium=api_v3_business_search&utm_source=9J_ck2JO3fi6RH5JLu8A-A',\n",
       "  'review_count': 110,\n",
       "  'categories': [{'alias': 'pizza', 'title': 'Pizza'}],\n",
       "  'rating': 4.0,\n",
       "  'coordinates': {'latitude': 40.7101297729083,\n",
       "   'longitude': -74.0077206864953},\n",
       "  'transactions': ['delivery', 'pickup'],\n",
       "  'price': '$',\n",
       "  'location': {'address1': '124 Fulton St',\n",
       "   'address2': '',\n",
       "   'address3': None,\n",
       "   'city': 'New York',\n",
       "   'zip_code': '10038',\n",
       "   'country': 'US',\n",
       "   'state': 'NY',\n",
       "   'display_address': ['124 Fulton St', 'New York, NY 10038']},\n",
       "  'phone': '+12122670860',\n",
       "  'display_phone': '(212) 267-0860',\n",
       "  'distance': 1245.9428626945232},\n",
       " {'id': 'nUpA3sY5b6dynC7aj0eV6A',\n",
       "  'alias': 'rizzos-fine-pizza-new-york-4',\n",
       "  'name': \"Rizzo's Fine Pizza\",\n",
       "  'image_url': 'https://s3-media1.fl.yelpcdn.com/bphoto/dnLj-NVZx4TUp608hDVBvw/o.jpg',\n",
       "  'is_closed': False,\n",
       "  'url': 'https://www.yelp.com/biz/rizzos-fine-pizza-new-york-4?adjust_creative=9J_ck2JO3fi6RH5JLu8A-A&utm_campaign=yelp_api_v3&utm_medium=api_v3_business_search&utm_source=9J_ck2JO3fi6RH5JLu8A-A',\n",
       "  'review_count': 708,\n",
       "  'categories': [{'alias': 'pizza', 'title': 'Pizza'},\n",
       "   {'alias': 'wine_bars', 'title': 'Wine Bars'},\n",
       "   {'alias': 'beerbar', 'title': 'Beer Bar'}],\n",
       "  'rating': 4.5,\n",
       "  'coordinates': {'latitude': 40.720852, 'longitude': -73.984456},\n",
       "  'transactions': ['delivery', 'pickup', 'restaurant_reservation'],\n",
       "  'price': '$$',\n",
       "  'location': {'address1': '17 Clinton St',\n",
       "   'address2': '',\n",
       "   'address3': '',\n",
       "   'city': 'New York',\n",
       "   'zip_code': '10002',\n",
       "   'country': 'US',\n",
       "   'state': 'NY',\n",
       "   'display_address': ['17 Clinton St', 'New York, NY 10002']},\n",
       "  'phone': '+16464541262',\n",
       "  'display_phone': '(646) 454-1262',\n",
       "  'distance': 1903.2788345091096}]"
      ]
     },
     "execution_count": 16,
     "metadata": {},
     "output_type": "execute_result"
    }
   ],
   "source": [
    "yelp_pizza_data['businesses']"
   ]
  },
  {
   "cell_type": "code",
   "execution_count": 17,
   "metadata": {},
   "outputs": [
    {
     "data": {
      "text/plain": [
       "{'Connection': 'keep-alive',\n",
       " 'Server': 'nginx',\n",
       " 'Content-Type': 'application/json',\n",
       " 'RateLimit-DailyLimit': '5000',\n",
       " 'RateLimit-Remaining': '5000',\n",
       " 'RateLimit-ResetTime': '2019-09-14T00:00:00+00:00',\n",
       " 'X-Zipkin-Id': '6f4aa3ff4b85883e',\n",
       " 'X-B3-Sampled': '0',\n",
       " 'X-Proxied': '10-65-175-107-useast1bprod',\n",
       " 'Content-Encoding': 'gzip',\n",
       " 'Accept-Ranges': 'bytes',\n",
       " 'Date': 'Fri, 13 Sep 2019 13:31:54 GMT',\n",
       " 'Via': '1.1 varnish',\n",
       " 'X-Served-By': 'cache-lga21938-LGA',\n",
       " 'X-Cache': 'MISS',\n",
       " 'X-Cache-Hits': '0',\n",
       " 'transfer-encoding': 'chunked'}"
      ]
     },
     "execution_count": 17,
     "metadata": {},
     "output_type": "execute_result"
    }
   ],
   "source": [
    "dict(response.headers)"
   ]
  },
  {
   "cell_type": "code",
   "execution_count": 18,
   "metadata": {
    "scrolled": true
   },
   "outputs": [
    {
     "data": {
      "text/plain": [
       "{'id': 'nUpA3sY5b6dynC7aj0eV6A',\n",
       " 'name': \"Rizzo's Fine Pizza\",\n",
       " 'city': 'New York',\n",
       " 'zip': '10002',\n",
       " 'reviews_count': 708,\n",
       " 'phone': '+16464541262'}"
      ]
     },
     "execution_count": 18,
     "metadata": {},
     "output_type": "execute_result"
    }
   ],
   "source": [
    "# write a function to parse the API response \n",
    "# so that you can easily insert the data in to the DB\n",
    "\n",
    "restaurant_info= {}    \n",
    "for restaurant in yelp_pizza_data['businesses']:\n",
    "    restaurant_info['id']= restaurant['id']\n",
    "    restaurant_info['name']= restaurant['name']\n",
    "    for i in restaurant['location']:\n",
    "        restaurant_info['city']= restaurant['location']['city']\n",
    "        restaurant_info['zip']= restaurant['location']['zip_code']\n",
    "    restaurant_info['reviews_count']= restaurant['review_count']\n",
    "    restaurant_info['phone']= restaurant['phone']\n",
    "\n",
    "    \n",
    "    \n",
    "    \n",
    "\n",
    "    \n",
    "#      \"\"\"CREATE TABLE businesses (\n",
    "\n",
    "\n",
    "#     city char(50),\n",
    "#         rating float(10),\n",
    "#         price char(10),\n",
    "#         reviews_count int(100),\n",
    "#         zip int(10),\n",
    "#         phone char(50),\n",
    "#         PRIMARY KEY (id))\"\"\"\n",
    "restaurant_info"
   ]
  },
  {
   "cell_type": "code",
   "execution_count": 19,
   "metadata": {},
   "outputs": [],
   "source": [
    "restaurant = yelp_pizza_data['businesses'][0]"
   ]
  },
  {
   "cell_type": "code",
   "execution_count": 20,
   "metadata": {},
   "outputs": [],
   "source": [
    "def dict_maker(dictionary):   \n",
    "    \n",
    "    \n",
    "    restaurant_info= {}    \n",
    "    for restaurant in dictionary:\n",
    "        restaurant_info['id']= restaurant['id']\n",
    "        restaurant_info['name']= restaurant['name']\n",
    "        for i in restaurant['location']:\n",
    "            restaurant_info['city']= restaurant['location']['city']\n",
    "            restaurant_info['zip']= restaurant['location']['zip_code']\n",
    "        restaurant_info['reviews_count']= restaurant['review_count']\n",
    "        restaurant_info['phone']= restaurant['phone']\n",
    "        return restaurant_info "
   ]
  },
  {
   "cell_type": "code",
   "execution_count": 22,
   "metadata": {},
   "outputs": [
    {
     "ename": "TypeError",
     "evalue": "string indices must be integers",
     "output_type": "error",
     "traceback": [
      "\u001b[0;31m---------------------------------------------------------------------------\u001b[0m",
      "\u001b[0;31mTypeError\u001b[0m                                 Traceback (most recent call last)",
      "\u001b[0;32m<ipython-input-22-61b9f4c47605>\u001b[0m in \u001b[0;36m<module>\u001b[0;34m()\u001b[0m\n\u001b[1;32m      1\u001b[0m \u001b[0;32mfor\u001b[0m \u001b[0mbusiness\u001b[0m \u001b[0;32min\u001b[0m \u001b[0myelp_pizza_data\u001b[0m\u001b[0;34m[\u001b[0m\u001b[0;34m'businesses'\u001b[0m\u001b[0;34m]\u001b[0m\u001b[0;34m:\u001b[0m\u001b[0;34m\u001b[0m\u001b[0m\n\u001b[0;32m----> 2\u001b[0;31m     \u001b[0mdict_maker\u001b[0m\u001b[0;34m(\u001b[0m\u001b[0myelp_pizza_data\u001b[0m\u001b[0;34m)\u001b[0m\u001b[0;34m\u001b[0m\u001b[0m\n\u001b[0m",
      "\u001b[0;32m<ipython-input-20-61a6fe9fc14d>\u001b[0m in \u001b[0;36mdict_maker\u001b[0;34m(dictionary)\u001b[0m\n\u001b[1;32m      4\u001b[0m     \u001b[0mrestaurant_info\u001b[0m\u001b[0;34m=\u001b[0m \u001b[0;34m{\u001b[0m\u001b[0;34m}\u001b[0m\u001b[0;34m\u001b[0m\u001b[0m\n\u001b[1;32m      5\u001b[0m     \u001b[0;32mfor\u001b[0m \u001b[0mrestaurant\u001b[0m \u001b[0;32min\u001b[0m \u001b[0mdictionary\u001b[0m\u001b[0;34m:\u001b[0m\u001b[0;34m\u001b[0m\u001b[0m\n\u001b[0;32m----> 6\u001b[0;31m         \u001b[0mrestaurant_info\u001b[0m\u001b[0;34m[\u001b[0m\u001b[0;34m'id'\u001b[0m\u001b[0;34m]\u001b[0m\u001b[0;34m=\u001b[0m \u001b[0mrestaurant\u001b[0m\u001b[0;34m[\u001b[0m\u001b[0;34m'id'\u001b[0m\u001b[0;34m]\u001b[0m\u001b[0;34m\u001b[0m\u001b[0m\n\u001b[0m\u001b[1;32m      7\u001b[0m         \u001b[0mrestaurant_info\u001b[0m\u001b[0;34m[\u001b[0m\u001b[0;34m'name'\u001b[0m\u001b[0;34m]\u001b[0m\u001b[0;34m=\u001b[0m \u001b[0mrestaurant\u001b[0m\u001b[0;34m[\u001b[0m\u001b[0;34m'name'\u001b[0m\u001b[0;34m]\u001b[0m\u001b[0;34m\u001b[0m\u001b[0m\n\u001b[1;32m      8\u001b[0m         \u001b[0;32mfor\u001b[0m \u001b[0mi\u001b[0m \u001b[0;32min\u001b[0m \u001b[0mrestaurant\u001b[0m\u001b[0;34m[\u001b[0m\u001b[0;34m'location'\u001b[0m\u001b[0;34m]\u001b[0m\u001b[0;34m:\u001b[0m\u001b[0;34m\u001b[0m\u001b[0m\n",
      "\u001b[0;31mTypeError\u001b[0m: string indices must be integers"
     ]
    }
   ],
   "source": [
    "for business in yelp_pizza_data['businesses']:\n",
    "    dict_maker(yelp_pizza_data)"
   ]
  },
  {
   "cell_type": "code",
   "execution_count": 84,
   "metadata": {},
   "outputs": [
    {
     "data": {
      "text/plain": [
       "{'id': 'ysqgdbSrezXgVwER2kQWKA',\n",
       " 'name': \"Juliana's Pizza\",\n",
       " 'city': 'Brooklyn',\n",
       " 'zip': '11201',\n",
       " 'reviews_count': 2071,\n",
       " 'phone': '+17185966700'}"
      ]
     },
     "execution_count": 84,
     "metadata": {},
     "output_type": "execute_result"
    }
   ],
   "source": [
    "restaurant_info"
   ]
  },
  {
   "cell_type": "code",
   "execution_count": null,
   "metadata": {},
   "outputs": [],
   "source": [
    "# Write a function to take your parsed data and insert it into the DB"
   ]
  },
  {
   "cell_type": "code",
   "execution_count": null,
   "metadata": {},
   "outputs": [],
   "source": []
  },
  {
   "cell_type": "markdown",
   "metadata": {},
   "source": [
    "## Part 3: Create ETL pipeline for the restaurant review data from the API"
   ]
  },
  {
   "cell_type": "code",
   "execution_count": null,
   "metadata": {},
   "outputs": [],
   "source": [
    "# write a query to pull back all of the business ids \n",
    "# you will need these ids to pull back the reviews for each restaurant"
   ]
  },
  {
   "cell_type": "code",
   "execution_count": null,
   "metadata": {},
   "outputs": [],
   "source": [
    "# write a function that takes a business id \n",
    "# and makes a call to the API for reivews\n",
    "# then parse out the relevant information"
   ]
  },
  {
   "cell_type": "code",
   "execution_count": null,
   "metadata": {},
   "outputs": [],
   "source": [
    "# write a function to insert the parsed data into the reviews table"
   ]
  },
  {
   "cell_type": "markdown",
   "metadata": {},
   "source": [
    "## Part 4: Write SQL queries that will answer the questions posed. "
   ]
  },
  {
   "cell_type": "markdown",
   "metadata": {},
   "source": [
    "###  Pagination\n",
    "\n",
    "Returning to the Yelp API, the [documentation](https://www.yelp.com/developers/documentation/v3/business_search) also provides us details regarding the API limits. These often include details about the number of requests a user is allowed to make within a specified time limit and the maximum number of results to be returned. In this case, we are told that any request has a maximum of 50 results per request and defaults to 20. Furthermore, any search will be limited to a total of 1000 results. To retrieve all 1000 of these results, we would have to page through the results piece by piece, retriving 50 at a time. Processes such as these are often refered to as pagination.\n",
    "\n",
    "Now that you have an initial response, you can examine the contents of the json container. For example, you might start with ```response.json().keys()```. Here, you'll see a key for `'total'`, which tells you the full number of matching results given your query parameters. Write a loop (or ideally a function) which then makes successive API calls using the offset parameter to retrieve all of the results (or 5000 for a particularly large result set) for the original query. As you do this, be mindful of how you store the data. \n",
    "\n",
    "**Note: be mindful of the API rate limits. You can only make 5000 requests per day, and APIs can make requests too fast. Start prototyping small before running a loop that could be faulty. You can also use time.sleep(n) to add delays. For more details see https://www.yelp.com/developers/documentation/v3/rate_limiting.**"
   ]
  },
  {
   "cell_type": "markdown",
   "metadata": {},
   "source": [
    "***Below is sample code that you can use to help you deal with the pagination parameter.***"
   ]
  },
  {
   "cell_type": "code",
   "execution_count": null,
   "metadata": {},
   "outputs": [],
   "source": [
    "# Your code here; use a function or loop to retrieve all the results from your original request\n",
    "import time\n",
    "\n",
    "def yelp_call(url_params, api_key):\n",
    "    url = 'https://api.yelp.com/v3/businesses/search'\n",
    "    headers = {'Authorization': 'Bearer {}'.format(api_key)}\n",
    "    response = requests.get(url, headers=headers, params=url_params)\n",
    "    \n",
    "    data = response.json()['businesses']\n",
    "    return data\n",
    "\n",
    "def all_results(url_params, api_key):\n",
    "    num = response.json()['total']\n",
    "    print('{} total matches found.'.format(num))\n",
    "    cur = 0\n",
    "    results = []\n",
    "    while cur < num and cur < 1000:\n",
    "        url_params['offset'] = cur\n",
    "        results.append(yelp_call(url_params, api_key))\n",
    "        time.sleep(1) #Wait a second\n",
    "        results += 50\n",
    "    return df\n",
    "\n",
    "term = 'pizza'\n",
    "location = 'Astoria NY'\n",
    "url_params = {  'term': term.replace(' ', '+'),\n",
    "                'location': location.replace(' ', '+'),\n",
    "                'limit' : 50\n",
    "             }\n",
    "df = all_results(url_params, api_key)\n",
    "print(len(df))\n",
    "df.head()"
   ]
  },
  {
   "cell_type": "markdown",
   "metadata": {},
   "source": [
    "### Sample SQL Query \n",
    "\n",
    "Below is a SQL query to create a table.  Additionally here is a link to create a table with a foreign key.\n",
    "\n",
    "http://www.mysqltutorial.org/mysql-foreign-key/\n",
    "\n",
    "```CREATE TABLE IF NOT EXISTS tasks (\n",
    "    task_id INT AUTO_INCREMENT,\n",
    "    title VARCHAR(255) NOT NULL,\n",
    "    start_date DATE,\n",
    "    due_date DATE,\n",
    "    status TINYINT NOT NULL,\n",
    "    priority TINYINT NOT NULL,\n",
    "    description TEXT,\n",
    "    PRIMARY KEY (task_id)\n",
    ")  ENGINE=INNODB;```"
   ]
  },
  {
   "cell_type": "code",
   "execution_count": null,
   "metadata": {},
   "outputs": [],
   "source": []
  }
 ],
 "metadata": {
  "kernelspec": {
   "display_name": "Python 3",
   "language": "python",
   "name": "python3"
  },
  "language_info": {
   "codemirror_mode": {
    "name": "ipython",
    "version": 3
   },
   "file_extension": ".py",
   "mimetype": "text/x-python",
   "name": "python",
   "nbconvert_exporter": "python",
   "pygments_lexer": "ipython3",
   "version": "3.6.6"
  },
  "toc": {
   "base_numbering": 1,
   "nav_menu": {},
   "number_sections": false,
   "sideBar": true,
   "skip_h1_title": false,
   "title_cell": "Table of Contents",
   "title_sidebar": "Contents",
   "toc_cell": false,
   "toc_position": {},
   "toc_section_display": true,
   "toc_window_display": false
  }
 },
 "nbformat": 4,
 "nbformat_minor": 2
}
