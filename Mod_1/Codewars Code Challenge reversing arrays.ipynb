{
 "cells": [
  {
   "cell_type": "markdown",
   "metadata": {},
   "source": [
    "A stream of data is received and needs to be reversed.\n",
    "\n",
    "Each segment is 8 bits long, meaning the order of these segments needs to be reversed, for example:\n",
    "\n",
    "11111111  00000000  00001111  10101010\n",
    " (byte1)   (byte2)   (byte3)   (byte4)\n",
    "should become:\n",
    "\n",
    "10101010  00001111  00000000  11111111\n",
    " (byte4)   (byte3)   (byte2)   (byte1)\n",
    "The total number of bits will always be a multiple of 8.\n",
    "\n",
    "The data is given in an array as such:\n",
    "\n",
    "[1,1,1,1,1,1,1,1,0,0,0,0,0,0,0,0,0,0,0,0,1,1,1,1,1,0,1,0,1,0,1,0]"
   ]
  },
  {
   "cell_type": "code",
   "execution_count": 3,
   "metadata": {},
   "outputs": [],
   "source": [
    "import numpy as np"
   ]
  },
  {
   "cell_type": "markdown",
   "metadata": {},
   "source": [
    "Examples:"
   ]
  },
  {
   "cell_type": "code",
   "execution_count": 9,
   "metadata": {},
   "outputs": [],
   "source": [
    "def data_reverse(data):\n",
    "    reversed = []\n",
    "    k = len(data) // 8\n",
    "    for i in range(0,k):\n",
    "        reversed = data[8*i:8*(i+1)] + reversed\n",
    "    return reversed"
   ]
  },
  {
   "cell_type": "code",
   "execution_count": 10,
   "metadata": {},
   "outputs": [],
   "source": [
    "def data_reverse(data):\n",
    "    n=8\n",
    "    lst=[]\n",
    "    [lst.append(data[i:i+n]) for i in range(0,len(data), n)]\n",
    "    lst.reverse()\n",
    "    return [item for sublist in lst for item in sublist]\n"
   ]
  },
  {
   "cell_type": "code",
   "execution_count": 11,
   "metadata": {},
   "outputs": [],
   "source": [
    "def data_reverse(data):\n",
    "    lst = []\n",
    "    for i in range(0,len(data),8):\n",
    "        lst.append(data[i:i+8])\n",
    "    lst.reverse()\n",
    "    return [item for sublist in lst for item in sublist]"
   ]
  },
  {
   "cell_type": "code",
   "execution_count": null,
   "metadata": {},
   "outputs": [],
   "source": []
  }
 ],
 "metadata": {
  "kernelspec": {
   "display_name": "Python 3",
   "language": "python",
   "name": "python3"
  },
  "language_info": {
   "codemirror_mode": {
    "name": "ipython",
    "version": 3
   },
   "file_extension": ".py",
   "mimetype": "text/x-python",
   "name": "python",
   "nbconvert_exporter": "python",
   "pygments_lexer": "ipython3",
   "version": "3.6.6"
  }
 },
 "nbformat": 4,
 "nbformat_minor": 2
}
