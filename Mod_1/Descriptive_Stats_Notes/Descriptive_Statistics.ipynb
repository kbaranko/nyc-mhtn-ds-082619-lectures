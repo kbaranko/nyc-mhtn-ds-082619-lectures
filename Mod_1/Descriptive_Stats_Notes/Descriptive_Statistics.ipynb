{
 "cells": [
  {
   "cell_type": "markdown",
   "metadata": {
    "slideshow": {
     "slide_type": "slide"
    }
   },
   "source": [
    "\n",
    "# Starting off"
   ]
  },
  {
   "cell_type": "markdown",
   "metadata": {
    "slideshow": {
     "slide_type": "fragment"
    }
   },
   "source": [
    "Below is a list of weights(kg) of 10 male subjects. How can you describe this data set to another person?\n",
    "\n",
    "\n",
    "```[55, 56, 56, 58, 60, 61, 63, 64, 70, 78]```"
   ]
  },
  {
   "cell_type": "code",
   "execution_count": 110,
   "metadata": {},
   "outputs": [],
   "source": [
    "weights = [55, 56, 56, 58, 60, 61, 63, 64, 70, 78]\n"
   ]
  },
  {
   "cell_type": "markdown",
   "metadata": {
    "slideshow": {
     "slide_type": "slide"
    }
   },
   "source": [
    "# Introducing Statistics: Measures of Central Tendency , Disperson, and Correlation"
   ]
  },
  {
   "cell_type": "markdown",
   "metadata": {
    "slideshow": {
     "slide_type": "subslide"
    }
   },
   "source": [
    "## Aim:\n",
    "- Be able to describe a large sample of data in a meaningful way that conveys information.\n",
    "\n",
    "- Be able to describe how two sets of data are related to each other\n",
    "\n",
    "- Write functions to calculate the Descriptive statistics of a data set. \n"
   ]
  },
  {
   "cell_type": "markdown",
   "metadata": {
    "slideshow": {
     "slide_type": "slide"
    }
   },
   "source": [
    "A **population** is the collection of **all** people, plants, animals, or objects of interest about which we wish to make statistical inferences (generalizations). \n",
    "\n",
    "A **population parameter** is a numerical characteristic of a population. In nearly all statistical problems we do not know the value of a parameter because we do not measure the entire population. We use sample data to make an inference about the value of a parameter.\n",
    "\n",
    "-\n"
   ]
  },
  {
   "cell_type": "markdown",
   "metadata": {
    "slideshow": {
     "slide_type": "subslide"
    }
   },
   "source": [
    "\n",
    "\n",
    "A **sample** is the subset of the population that we actually measure or observe.\n",
    "\n",
    "A **sample statistic is** a numerical characteristic of a sample. A sample statistic estimates the unknown value of a population parameter. Information collected from sample statistic is sometimes refered to as Descriptive Statistic.\n",
    "\n",
    "Populations vs. samples = different notations"
   ]
  },
  {
   "cell_type": "markdown",
   "metadata": {
    "slideshow": {
     "slide_type": "subslide"
    }
   },
   "source": [
    " Here are the Notations that will be used:\n",
    "\n",
    "$X_{ij}$ = Observation for variable *j* in subject *i* .\n",
    "\n",
    "$p$ \n",
    " = Number of variables\n",
    "\n",
    "$n$\n",
    " = Number of subjects\n",
    "\n",
    "In the example to come, we'll have data on 737 people (subjects) and 5 nutritional outcomes (variables). So, \n",
    "\n",
    "$p$\n",
    " = 5 variables\n",
    "\n",
    "$n$\n",
    " = 737 subjects\n",
    "\n",
    "\n",
    "\n"
   ]
  },
  {
   "cell_type": "markdown",
   "metadata": {
    "slideshow": {
     "slide_type": "subslide"
    }
   },
   "source": [
    "In multivariate statistics we will always be working with vectors of observations. So in this case we are going to arrange the data for the p variables on each subject into a vector. In the expression below, \n",
    "$X_i$ is the vector of observations for the $i^{th}$ subject, $i$ = 1 to $n$(737). Therefore, the data for the $j^{th}$ variable will be located in the $j^{th}$ element of this subject's vector, $j$ = 1 to $p$(5).\n",
    "\n",
    "\n",
    "$$\\mathbf{X}_i = \\left(\\begin{array}{l}X_{i1}\\\\X_{i2}\\\\ \\vdots \\\\ X_{ip}\\end{array}\\right)$$"
   ]
  },
  {
   "cell_type": "markdown",
   "metadata": {
    "slideshow": {
     "slide_type": "slide"
    }
   },
   "source": [
    "## Measures of Central Tendency\n",
    "\n"
   ]
  },
  {
   "cell_type": "markdown",
   "metadata": {
    "slideshow": {
     "slide_type": "subslide"
    }
   },
   "source": [
    "### Mean\n",
    "Mean or average is the value obtained by dividing the sum of all the data by the total number of data points.\n",
    "\n",
    "\n",
    "<img src='https://wikimedia.org/api/rest_v1/media/math/render/svg/4e3313161244f8ab61d897fb6e5fbf6647e1d5f5' />"
   ]
  },
  {
   "cell_type": "markdown",
   "metadata": {
    "slideshow": {
     "slide_type": "slide"
    }
   },
   "source": [
    "## Mathematically Speaking\n"
   ]
  },
  {
   "cell_type": "markdown",
   "metadata": {
    "slideshow": {
     "slide_type": "fragment"
    }
   },
   "source": [
    "Throughout this course, we’ll use the ordinary notations for the mean of a variable. \n",
    "\n",
    "That is, the symbol $\\mu$ is used to represent a (theoretical) population mean and the symbol $\\bar{x}$ is used to represent a sample mean computed from observed data. \n",
    "\n",
    "In the multivariate setting, we add subscripts to these symbols to indicate the specific variable for which the mean is being given. For instance, $\\mu_1$ represents the population mean for variable \n",
    "$x_1$ and \n",
    "$\\bar{x}$\n",
    " denotes a sample mean based on observed data for variable \n",
    "$\\bar{x}_1$\n",
    ".\n",
    "\n"
   ]
  },
  {
   "cell_type": "markdown",
   "metadata": {
    "slideshow": {
     "slide_type": "subslide"
    }
   },
   "source": [
    "The population mean is the measure of central tendency for the population. Here, the population mean for variable $j$ is:\n",
    "\n",
    "$$\\mu_j = E(X_{ij})$$\n",
    "\n",
    "and the sample mean for variable $j$ is:\n",
    "\n",
    "$$\\bar{x}_j = \\frac{1}{n}\\sum_{i=1}^{n}X_{ij}$$"
   ]
  },
  {
   "cell_type": "markdown",
   "metadata": {
    "slideshow": {
     "slide_type": "subslide"
    }
   },
   "source": [
    "### Median\n",
    "\n",
    "In a set with odd number of data points the median is the middlemost value while if the number of data points is even then it is the average of the two middle items.\n",
    "\n",
    "In the previous set since the number of data is 10 (even) the 5th and 6th item correspond to the middle data items.\n",
    "\n",
    "\n",
    "<img src='https://wikimedia.org/api/rest_v1/media/math/render/svg/da59c1e963f56160361fcce819a95f351748630a' />"
   ]
  },
  {
   "cell_type": "markdown",
   "metadata": {
    "slideshow": {
     "slide_type": "subslide"
    }
   },
   "source": [
    "### Mode\n",
    "\n",
    "Mode refers the data item that occurs most frequently in a given data set."
   ]
  },
  {
   "cell_type": "markdown",
   "metadata": {
    "slideshow": {
     "slide_type": "subslide"
    }
   },
   "source": [
    "### Questions:\n",
    "\n",
    "-When would median be a better measure of central tendency than mean?\n",
    "\n",
    "--> in the presence of a lot of outliers or very powerful outliers \n",
    "\n",
    "-When is mode the best measure of central tendency to use?\n",
    "\n",
    "--> when we're using categorical data "
   ]
  },
  {
   "cell_type": "markdown",
   "metadata": {
    "slideshow": {
     "slide_type": "subslide"
    }
   },
   "source": [
    "Questions:\n",
    "\n",
    "\n",
    "1. We want to calculate the mean, median, and mode for the above list of numbers.Please write a function to calculate each of those statistics.\n",
    "\n"
   ]
  },
  {
   "cell_type": "code",
   "execution_count": 111,
   "metadata": {
    "slideshow": {
     "slide_type": "fragment"
    }
   },
   "outputs": [],
   "source": [
    "heights = [55, 56, 56, 58, 60, 61, 63, 64, 70, 78]"
   ]
  },
  {
   "cell_type": "code",
   "execution_count": 112,
   "metadata": {},
   "outputs": [
    {
     "data": {
      "text/plain": [
       "[55, 56, 56, 58, 60, 61, 63, 64, 70, 78]"
      ]
     },
     "execution_count": 112,
     "metadata": {},
     "output_type": "execute_result"
    }
   ],
   "source": [
    "#write a function that returns the mean the call that function on heights\n",
    "\n",
    "def calc_mean(data):\n",
    "    mean = sum(data) / len(data)\n",
    "    return mean\n",
    "\n",
    "calc_mean(heights)\n",
    "heights"
   ]
  },
  {
   "cell_type": "code",
   "execution_count": 113,
   "metadata": {},
   "outputs": [
    {
     "data": {
      "text/plain": [
       "60.5"
      ]
     },
     "execution_count": 113,
     "metadata": {},
     "output_type": "execute_result"
    }
   ],
   "source": [
    "#Write a function that returns the median and call it on heights\n",
    "def calc_median(data):\n",
    "    n = len(data)\n",
    "    data = sorted(data)\n",
    "    if n%2 == 1: \n",
    "        return data[(n+1)//2]\n",
    "    else: \n",
    "        return (data[n//2]+data[n//2-1])/2\n",
    "    \n",
    "calc_median(heights)\n"
   ]
  },
  {
   "cell_type": "code",
   "execution_count": null,
   "metadata": {},
   "outputs": [],
   "source": []
  },
  {
   "cell_type": "markdown",
   "metadata": {
    "slideshow": {
     "slide_type": "slide"
    }
   },
   "source": [
    "## Measures of Dispersion\n",
    "Measures of dispersion quantify the spread of the data. They try to measure how much variation is there among the various data points."
   ]
  },
  {
   "cell_type": "markdown",
   "metadata": {
    "slideshow": {
     "slide_type": "subslide"
    }
   },
   "source": [
    "\n",
    "\n",
    "### Range\n",
    "One simple such measure is range which is simply the difference between the largest and the smallest data item. For our previous dataset,\n",
    "\n",
    "Range = 78–55 = 23.\n",
    "\n",
    "\n",
    "\n"
   ]
  },
  {
   "cell_type": "markdown",
   "metadata": {
    "slideshow": {
     "slide_type": "subslide"
    }
   },
   "source": [
    "### InterQuantile Range - IQR\n",
    "The quartiles of a data set divides the data into four equal parts, with one-fourth of the data values in each part. The second quartile position is the median of the data set, which divides the data set in half as shown for a simple dataset below:\n",
    "\n",
    "![IQR](iqr.png)\n",
    "\n",
    "The interquartile range (IQR) is a measure of where the “middle fifty” is in a data set. Where a range is a measure of where the beginning and end are in a set, an interquartile range is a measure of where the bulk of the values lie. That’s why it’s preferred over many other measures of spread (i.e. the average or median) when reporting things like average retirement age and scores in a test etc.\n",
    "\n",
    "-allows us to focus on more typical numbers, less susceptible to outliers"
   ]
  },
  {
   "cell_type": "code",
   "execution_count": null,
   "metadata": {},
   "outputs": [],
   "source": []
  },
  {
   "cell_type": "markdown",
   "metadata": {
    "slideshow": {
     "slide_type": "subslide"
    }
   },
   "source": [
    "### Variance\n",
    "A more complex measure of dispersion is variance. The variance of a population for variable $x_j$ is:\n",
    "\n",
    "$\\sigma_j^2 = E(x_j-u_j)^2$\n",
    "\n",
    "The population variance $\\sigma _{j}^{2}$ can be estimate by the sample variance: \n",
    "\n",
    "$s_j^2 = \\frac{1}{n-1}\\sum_{i=1}^{n}(X_{ij}-\\bar{x}_j)^2=\\frac{\\sum_{i=1}^{n}X_{ij}^2-(\\left(\\sum_{i=1}^{n}X_{ij}\\right)^2/n)}{n-1}$ \n",
    "\n",
    "Variance signifies how much the data items are deviating from mean. (only difference is taking n-1)\n",
    "\n",
    "1) Larger variance means the data items deviate more from the mean.\n",
    "\n",
    "2) Smaller variance means the data items are closer to the mean, or \"huddled\" around the mean.\n",
    "\n",
    "Now let’s calculate the variance for the previous dataset,\n",
    "\n",
    "*Variance* = \n",
    "\n",
    "~~~\n",
    "[(55–62.1)² + (56–62.1)² + (56–62.1)² + (58–62.1)² + (60-62.1)² + (61–62.1)² + (63–62.1)² + (64–62.1)² + (70–62.1)² +(78–62.1)²]/9.\n",
    "\n",
    "= 466.9/9\n",
    "\n",
    "= 51.88\n",
    "\n",
    "~~~"
   ]
  },
  {
   "cell_type": "markdown",
   "metadata": {
    "slideshow": {
     "slide_type": "subslide"
    }
   },
   "source": [
    "### Standard deviation\n",
    "It is simply the square root of the variance. In the above formula, σ is the standard deviation and σ2 is the variance. Hence, in this example the standard deviation is\n",
    "\n",
    "$\\sigma = \\sqrt{\\sigma^2}$\n",
    "\n",
    "$\\sqrt{51.88} = 7.20$\n",
    "\n",
    "\n",
    "puts it back on a scale that we're used to "
   ]
  },
  {
   "cell_type": "code",
   "execution_count": null,
   "metadata": {},
   "outputs": [],
   "source": []
  },
  {
   "cell_type": "markdown",
   "metadata": {
    "slideshow": {
     "slide_type": "subslide"
    }
   },
   "source": [
    "### Application\n",
    "\n",
    "\n",
    "- Write a function to calculate the variance of a dataset.\n",
    "- Write a function to calculate the standard deviation of a dataset using the variance function.\n"
   ]
  },
  {
   "cell_type": "code",
   "execution_count": null,
   "metadata": {},
   "outputs": [],
   "source": []
  },
  {
   "cell_type": "markdown",
   "metadata": {},
   "source": [
    "***Functions can call other functions**"
   ]
  },
  {
   "cell_type": "code",
   "execution_count": 114,
   "metadata": {},
   "outputs": [],
   "source": [
    "def increase_mean(data, increase):\n",
    "    new_mean =  calc_mean(data)+increase\n",
    "    return new_mean"
   ]
  },
  {
   "cell_type": "code",
   "execution_count": 115,
   "metadata": {},
   "outputs": [
    {
     "data": {
      "text/plain": [
       "66.1"
      ]
     },
     "execution_count": 115,
     "metadata": {},
     "output_type": "execute_result"
    }
   ],
   "source": [
    "increase_mean(heights, 4)"
   ]
  },
  {
   "cell_type": "code",
   "execution_count": 116,
   "metadata": {},
   "outputs": [],
   "source": [
    "#variance fuction"
   ]
  },
  {
   "cell_type": "code",
   "execution_count": 117,
   "metadata": {},
   "outputs": [],
   "source": [
    "#standard deviation function"
   ]
  },
  {
   "cell_type": "code",
   "execution_count": null,
   "metadata": {},
   "outputs": [],
   "source": []
  },
  {
   "cell_type": "markdown",
   "metadata": {},
   "source": [
    "### List Comprehension\n",
    "\n",
    "\n",
    "List comprehension is an elegant way to define and create lists based on existing lists.\n",
    "\n",
    "**Syntax of List Comprehension**\n",
    "\n",
    "`[expression for item in list]`\n",
    "\n",
    "\n",
    "Let's take our list of data and create a new list where every data point is multiplied by 2.\n"
   ]
  },
  {
   "cell_type": "code",
   "execution_count": 118,
   "metadata": {},
   "outputs": [
    {
     "name": "stdout",
     "output_type": "stream",
     "text": [
      "[55, 56, 56, 58, 60, 61, 63, 64, 70, 78]\n"
     ]
    },
    {
     "data": {
      "text/plain": [
       "[110, 112, 112, 116, 120, 122, 126, 128, 140, 156]"
      ]
     },
     "execution_count": 118,
     "metadata": {},
     "output_type": "execute_result"
    }
   ],
   "source": [
    "print(heights)\n",
    "times_2 = [x*2 for x in heights]\n",
    "times_2"
   ]
  },
  {
   "cell_type": "markdown",
   "metadata": {},
   "source": [
    "Let's replace the for loop in  `calc_var()` with a list comprehension"
   ]
  },
  {
   "cell_type": "code",
   "execution_count": 119,
   "metadata": {},
   "outputs": [
    {
     "data": {
      "text/plain": [
       "51.87777777777777"
      ]
     },
     "execution_count": 119,
     "metadata": {},
     "output_type": "execute_result"
    }
   ],
   "source": [
    "def variance(data):\n",
    "    mean = calc_mean(data)\n",
    "    variance = sum((x-mean)**2 for x in data)/(len(data)-1)\n",
    "    return variance\n",
    "\n",
    "variance(heights)"
   ]
  },
  {
   "cell_type": "code",
   "execution_count": 120,
   "metadata": {},
   "outputs": [
    {
     "data": {
      "text/plain": [
       "51.87777777777777"
      ]
     },
     "execution_count": 120,
     "metadata": {},
     "output_type": "execute_result"
    }
   ],
   "source": [
    "def variance(data):\n",
    "    return sum([(x-calc_mean(data))**2 for x in data])/(len(data)-1)\n",
    "\n",
    "variance(heights)"
   ]
  },
  {
   "cell_type": "code",
   "execution_count": 121,
   "metadata": {},
   "outputs": [],
   "source": [
    "import math \n",
    "\n",
    "def calc_std(data):\n",
    "    variance_ = variance(data)\n",
    "    return math.sqrt(variance_)"
   ]
  },
  {
   "cell_type": "code",
   "execution_count": 122,
   "metadata": {},
   "outputs": [
    {
     "data": {
      "text/plain": [
       "7.202622979011033"
      ]
     },
     "execution_count": 122,
     "metadata": {},
     "output_type": "execute_result"
    }
   ],
   "source": [
    "calc_std(weights)"
   ]
  },
  {
   "cell_type": "markdown",
   "metadata": {
    "slideshow": {
     "slide_type": "slide"
    }
   },
   "source": [
    "## Measures of Association\n",
    "\n",
    "When we have two variables and we want to describe how the two are related to eachother."
   ]
  },
  {
   "cell_type": "markdown",
   "metadata": {
    "slideshow": {
     "slide_type": "subslide"
    }
   },
   "source": [
    "### Correlation\n",
    "\n",
    "Let’s say we have a dataset of height and weight of ten males. Normally we expect that the weight and height of a person are correlated, i.e. a taller person has more chances of having more weight than a short person. Correlation measures relationship between these kinds of data."
   ]
  },
  {
   "cell_type": "markdown",
   "metadata": {
    "slideshow": {
     "slide_type": "subslide"
    }
   },
   "source": [
    "### Co-variance\n",
    "One such measure is called co-variance, which measures how two variables vary with respect to each other. \n",
    "\n",
    "The population covariance $σ_{jk}$ between variables $j$ and $k$ can be estimated by the sample covariance. This can be calculated using the formula below:\n",
    "\n",
    "\n",
    "$$cov_{jk} = \\frac{1}{n-1}\\sum_{i=1}^{n}(X_{ij}-\\bar{x}_j)(X_{ik}-\\bar{x}_k)=\\frac{\\sum_{i=1}^{n}X_{ij}X_{ik}-(\\sum_{i=1}^{n}X_{ij})(\\sum_{i=1}^{n}X_{ik})/n}{n-1}$$\n",
    "\n",
    "\n",
    "\n"
   ]
  },
  {
   "cell_type": "markdown",
   "metadata": {
    "slideshow": {
     "slide_type": "subslide"
    }
   },
   "source": [
    "### Positive & Negative Covariance.\n",
    "\n",
    "1) Positive covariance signifies that the higher values of one variable correspond with the higher values of the other variable, and similarly for the lower ones.\n",
    "\n",
    "2) Negative covariance, on the other hand, signifies that the higher values of one variable correspond to the lower values of the other.\n",
    "\n",
    "Hence the sign of the covariance therefore shows us the kind of linear relationship between two variables."
   ]
  },
  {
   "cell_type": "markdown",
   "metadata": {
    "slideshow": {
     "slide_type": "subslide"
    }
   },
   "source": [
    "#### Question:  \n",
    " What does a co-variance of 0 probably mean?\n",
    " \n",
    " --no relationship between the two variables"
   ]
  },
  {
   "cell_type": "code",
   "execution_count": null,
   "metadata": {},
   "outputs": [],
   "source": []
  },
  {
   "cell_type": "markdown",
   "metadata": {
    "slideshow": {
     "slide_type": "subslide"
    }
   },
   "source": [
    "### Correlation Coefficient\n",
    "The correlation coefficient is obtained by dividing the covariance by the product of the standard deviations of the two variables.  It is defined as,\n",
    "\n",
    "![correlation](correlation.jpeg)\n",
    "\n",
    "Or in our fancy notation it is: \n",
    "\n",
    "$$r_{jk}=\\frac{s_{jk}}{s_js_k}=\\frac{\\sum_{i=1}^{n}X_{ij}X_{ik}-(\\sum_{i=1}^{n}X_{ij})(\\sum_{i=1}^{n}X_{ik})/n}{\\sqrt{\\{\\sum_{i=1}^{n}X^2_{ij}-(\\sum_{i=1}^{n}X_{ij})^2/n\\}\\{\\sum_{i=1}^{n}X^2_{ik}-(\\sum_{i=1}^{n}X_{ik})^2/n\\}}}$$\n",
    "\n",
    "\n",
    "The values lie between +1 and -1.\n",
    "\n",
    "· +1 signifying a perfect increasing linear relationship (correlation).\n",
    "\n",
    "· -1 signifying a perfect decreasing linear relationship (anti-correlation)."
   ]
  },
  {
   "cell_type": "markdown",
   "metadata": {
    "slideshow": {
     "slide_type": "slide"
    }
   },
   "source": [
    "### Applied \n",
    "\n",
    "1. Write a function to calculate the covariance of a dataset.\n",
    "2. Write a function to calculate correlation using your functions for covariance and standard deviation."
   ]
  },
  {
   "cell_type": "code",
   "execution_count": 123,
   "metadata": {
    "slideshow": {
     "slide_type": "subslide"
    }
   },
   "outputs": [
    {
     "name": "stdout",
     "output_type": "stream",
     "text": [
      "[241.893563180437, 162.3104725213, 212.7408555565, 220.042470303077, 206.349800623871, 152.212155757083, 183.927888604031, 167.971110489509, 175.92944039571, 156.399676387112]\n",
      "[73.847017017515, 68.7819040458903, 74.1101053917849, 71.7309784033377, 69.8817958611153, 67.2530156878065, 68.7850812516616, 68.3485155115879, 67.018949662883, 63.4564939783664]\n"
     ]
    }
   ],
   "source": [
    "#read in data to use\n",
    "\n",
    "import csv\n",
    "with open('weight-height.csv') as csvfile:\n",
    "    readCSV = csv.reader(csvfile, delimiter=',')\n",
    "    \n",
    "    count = 0\n",
    "    weights = []\n",
    "    heights = []\n",
    "    \n",
    "    for row in readCSV:\n",
    "        if count > 0:\n",
    "            weight = row[2]\n",
    "            height = row[1]\n",
    "            weights.append(float(weight))\n",
    "            heights.append(float(height))\n",
    "        else: \n",
    "            count+= 1\n",
    "\n",
    "    print(weights[:10])\n",
    "    print(heights[:10])"
   ]
  },
  {
   "cell_type": "code",
   "execution_count": 124,
   "metadata": {},
   "outputs": [
    {
     "data": {
      "text/plain": [
       "[(73.847017017515, 241.893563180437),\n",
       " (68.7819040458903, 162.3104725213),\n",
       " (74.1101053917849, 212.7408555565),\n",
       " (71.7309784033377, 220.042470303077),\n",
       " (69.8817958611153, 206.349800623871),\n",
       " (67.2530156878065, 152.212155757083),\n",
       " (68.7850812516616, 183.927888604031),\n",
       " (68.3485155115879, 167.971110489509),\n",
       " (67.018949662883, 175.92944039571),\n",
       " (63.4564939783664, 156.399676387112),\n",
       " (71.1953822829745, 186.604925560358),\n",
       " (71.6408051192206, 213.741169489411),\n",
       " (64.7663291334055, 167.127461073476),\n",
       " (69.2830700967204, 189.446181386738),\n",
       " (69.2437322298112, 186.434168021239),\n",
       " (67.6456197004212, 172.186930058117),\n",
       " (72.4183166259878, 196.028506330482),\n",
       " (63.974325721061, 172.88347020878),\n",
       " (69.6400598997523, 185.98395757313),\n",
       " (67.9360048540095, 182.426648013226),\n",
       " (67.9150501938206, 174.115929081393),\n",
       " (69.4394398680395, 197.73142161472),\n",
       " (66.1491319608781, 149.173566007975),\n",
       " (75.2059736142212, 228.761780615196),\n",
       " (67.8931963386043, 162.006651848287),\n",
       " (68.1440327982008, 192.343976579187),\n",
       " (69.0896314289256, 184.435174408406),\n",
       " (72.8008435165003, 206.828189420354),\n",
       " (67.4212422817167, 175.213922399227),\n",
       " (68.4964153568827, 154.342638925955),\n",
       " (68.6181105502058, 187.506843155807),\n",
       " (74.0338076216678, 212.910225325521),\n",
       " (71.5282160355709, 195.032243233835),\n",
       " (69.1801610995692, 205.183621341371),\n",
       " (69.577202365402, 204.164125484101),\n",
       " (70.4009288884762, 192.903515074649),\n",
       " (69.0761711675356, 197.488242598925),\n",
       " (67.1935232827228, 183.810973232751),\n",
       " (65.8073156549306, 163.851824878622),\n",
       " (64.3041878915595, 163.108017147583),\n",
       " (67.9743362271967, 172.135597406825),\n",
       " (72.1894259592134, 194.045404898059),\n",
       " (65.2703455240394, 168.617746204292),\n",
       " (66.0901773762725, 161.193432596622),\n",
       " (67.5103215157138, 164.660277264007),\n",
       " (70.1047862551571, 188.922303151274),\n",
       " (68.2518364408672, 187.060552163801),\n",
       " (72.1727091157973, 209.070863390252),\n",
       " (69.1798576188774, 192.014335412005),\n",
       " (72.870360147235, 211.34249681964),\n",
       " (64.7825829779871, 165.61162618225),\n",
       " (70.1835498874837, 201.071918099568),\n",
       " (68.4914502529394, 173.423960346601),\n",
       " (67.3308308810162, 181.407679285937),\n",
       " (66.9909440825232, 169.737707400252),\n",
       " (66.4995499002499, 163.309528309674),\n",
       " (68.3530566463988, 189.710209942456),\n",
       " (70.7744590703974, 192.124847346168),\n",
       " (71.2159236694709, 198.1984641076),\n",
       " (70.0133653490674, 209.526499837126),\n",
       " (71.4031822207589, 198.759792659859),\n",
       " (69.5520050948319, 198.079523654438),\n",
       " (73.8185345577699, 195.290612189727),\n",
       " (66.99688275225, 164.943302997003),\n",
       " (71.4184658930907, 179.863902339297),\n",
       " (65.2793002090043, 155.250420694049),\n",
       " (68.2741914742284, 184.519391248574),\n",
       " (72.7653699463424, 220.678041465283),\n",
       " (68.0993798003468, 183.31265530722),\n",
       " (68.8967060721692, 196.451312291183),\n",
       " (69.2895099633052, 184.595608300273),\n",
       " (70.5232245234565, 207.532838518544),\n",
       " (69.6637252265179, 177.200928752348),\n",
       " (67.5952688079157, 163.108002209381),\n",
       " (72.5081203801037, 216.218230112735),\n",
       " (71.2529856038086, 204.655493822323),\n",
       " (71.8091868893668, 200.920571219495),\n",
       " (72.2451654792519, 220.901769881142),\n",
       " (66.5126276609347, 196.449860340782),\n",
       " (66.0290340048182, 168.640810039015),\n",
       " (67.577153942735, 181.432713008126),\n",
       " (68.2465686016242, 198.658673326418),\n",
       " (73.8261270026308, 237.916735863185),\n",
       " (69.8024643604904, 173.041255909233),\n",
       " (65.9595777848988, 160.683916639879),\n",
       " (71.0790175757451, 188.602919070666),\n",
       " (66.5961965372077, 208.345694035109),\n",
       " (68.9515350928246, 193.435118452271),\n",
       " (68.2444617923064, 174.10969379062),\n",
       " (72.3168251228452, 197.368589249335),\n",
       " (71.8154204495308, 201.620666747742),\n",
       " (65.2370495188386, 181.011973240364),\n",
       " (70.6405300907292, 182.12248597866),\n",
       " (64.731925597255, 177.549263423371),\n",
       " (67.1035511824075, 164.974580682475),\n",
       " (65.1174848880457, 165.717112190107),\n",
       " (71.7012340230177, 193.094163543063),\n",
       " (66.8328782059274, 180.683886970857),\n",
       " (66.4712752615182, 172.773722928412),\n",
       " (69.4115262206039, 177.470616229738),\n",
       " (70.0521774745245, 200.818737313254),\n",
       " (66.7436046519631, 167.739775344302),\n",
       " (66.2743291154144, 154.395624779233),\n",
       " (68.328447992915, 177.984728603887),\n",
       " (70.0758881952341, 183.93885695678),\n",
       " (68.7329881487344, 179.2047820686),\n",
       " (67.556051261876, 158.567987385418),\n",
       " (66.2536325347937, 166.503531642942),\n",
       " (69.1822026805756, 171.983677611956),\n",
       " (67.6091049416397, 174.36418237859),\n",
       " (69.2927380218867, 187.745351863374),\n",
       " (68.1906840077038, 201.48796238061),\n",
       " (71.6070857988906, 204.927012136803),\n",
       " (69.1968575103315, 178.685546470181),\n",
       " (67.2619609790619, 164.014427741951),\n",
       " (73.6851933999998, 223.270004412371),\n",
       " (69.5372150072948, 202.958306269835),\n",
       " (68.3115598414683, 189.391785609949),\n",
       " (67.7389634664393, 178.170555578466),\n",
       " (71.7057626011001, 223.299335239803),\n",
       " (63.6322646037867, 167.028706658323),\n",
       " (68.7211984556865, 180.46868201187),\n",
       " (66.9493416501869, 164.439145622362),\n",
       " (62.7069897353164, 149.969618421042),\n",
       " (72.2584089235993, 192.910266551722),\n",
       " (70.9086530626676, 201.883998700574),\n",
       " (67.609843601682, 179.868025984495),\n",
       " (70.8015589556942, 196.467724673936),\n",
       " (69.3047690450735, 187.551649491386),\n",
       " (66.2428983411553, 171.69315968571),\n",
       " (67.4921929772739, 191.699604784328),\n",
       " (65.8062482913584, 165.850647784905),\n",
       " (71.4437056615428, 185.662741323862),\n",
       " (68.4644058223141, 178.281800729884),\n",
       " (63.98792460498, 150.979051250134),\n",
       " (71.0018976858456, 209.929323430504),\n",
       " (68.1397241925525, 174.157804341493),\n",
       " (68.395400248121, 179.878977102334),\n",
       " (68.0962197450165, 167.747141247633),\n",
       " (68.1405903559209, 183.044660372103),\n",
       " (68.8600903087433, 169.556820782151),\n",
       " (66.1488525422307, 173.431672660432),\n",
       " (66.2060320529589, 180.889554609418),\n",
       " (67.4321202146878, 183.508932854723),\n",
       " (69.471106031247, 205.977910165675),\n",
       " (70.5158596943462, 183.759845192649),\n",
       " (71.3383760399558, 201.954495466668),\n",
       " (71.0019447673538, 216.120094736912),\n",
       " (66.202347706273, 159.390323744187),\n",
       " (72.5433070453887, 210.336424661861),\n",
       " (67.4793517580411, 178.618350159953),\n",
       " (65.3504105558103, 146.739797635802),\n",
       " (70.8440624208882, 195.937014974314),\n",
       " (69.9384752593112, 170.175853813004),\n",
       " (64.7398154829922, 169.654054121188),\n",
       " (69.3084028803936, 198.378693643572),\n",
       " (68.8384628598724, 179.907716915983),\n",
       " (61.9373232676829, 147.263686501559),\n",
       " (68.5933355351181, 176.984251121287),\n",
       " (65.2185755780772, 185.467788373205),\n",
       " (64.3336481069845, 177.49380233889),\n",
       " (68.7489067017398, 169.827477419625),\n",
       " (72.4896554004081, 198.581698249799),\n",
       " (67.2339309182551, 203.350339274846),\n",
       " (67.263604843261, 193.217672687431),\n",
       " (65.1185042831735, 178.134945178843),\n",
       " (66.2628200381632, 162.77958340469),\n",
       " (67.7016796596273, 159.286510598869),\n",
       " (65.530695966695, 172.114311951227),\n",
       " (69.8689698092041, 201.837042594883),\n",
       " (68.481875364733, 170.352329550626),\n",
       " (72.2139633457195, 205.389760708631),\n",
       " (68.1795326940723, 169.787768075943),\n",
       " (71.9812065428705, 200.437310528735),\n",
       " (66.0651367327304, 178.588954037204),\n",
       " (66.6561641698185, 168.014029738329),\n",
       " (67.5994241952902, 177.766425839946),\n",
       " (68.245944093831, 193.277623999542),\n",
       " (64.808621440717, 162.379540639612),\n",
       " (67.4922182698406, 183.383824391458),\n",
       " (68.1807307068654, 181.056095285359),\n",
       " (69.553384902902, 210.871798957101),\n",
       " (66.4022496683603, 165.568499073011),\n",
       " (66.5921571146877, 196.148449846229),\n",
       " (71.9358865828482, 202.046425151919),\n",
       " (68.2870417278818, 170.413602496365),\n",
       " (69.9554511951638, 201.948085296608),\n",
       " (71.8511291454027, 193.386984552842),\n",
       " (65.7554986406737, 179.855689615225),\n",
       " (67.0318520789828, 156.489934998191),\n",
       " (76.7098348578592, 235.035418820022),\n",
       " (72.5711213712958, 230.560534959742),\n",
       " (69.7288048973671, 203.895654986365),\n",
       " (72.799224004586, 218.216396639014),\n",
       " (72.5393540719418, 222.667177921523),\n",
       " (72.2947433844169, 208.474865890573),\n",
       " (67.2533248158638, 180.779780013772),\n",
       " (75.9444603760016, 231.92474850911),\n",
       " (66.3162319187446, 170.593858104457),\n",
       " (71.1560534900436, 188.271456288347),\n",
       " (71.1922022869477, 196.061529163376),\n",
       " (72.1975120071642, 214.603584170431),\n",
       " (75.1408214339315, 224.12427132956),\n",
       " (64.4115293597211, 158.579397323387),\n",
       " (64.7344243580774, 166.501114745286),\n",
       " (63.4145871379546, 160.140615622405),\n",
       " (67.8486652335686, 176.172634254583),\n",
       " (65.9317848288, 174.485294666451),\n",
       " (70.9665504363426, 193.906498798923),\n",
       " (67.5807472772935, 186.991606706801),\n",
       " (68.589270437901, 173.595796099507),\n",
       " (70.3247534441504, 193.346560303991),\n",
       " (72.3944804051075, 208.436509038226),\n",
       " (70.8208567145256, 206.032977800797),\n",
       " (65.9033012610258, 172.57523095707),\n",
       " (74.7953750218274, 232.63540284736),\n",
       " (67.6809190342573, 177.24014549544),\n",
       " (67.1559627687305, 175.646690214202),\n",
       " (71.7748412248401, 212.626102288605),\n",
       " (64.6652319449664, 166.969204009677),\n",
       " (68.1227683623759, 196.414415275124),\n",
       " (66.786927239528, 165.431242225646),\n",
       " (66.805849836748, 176.565818557689),\n",
       " (67.8860137980274, 174.65203471581),\n",
       " (69.1735769192432, 195.237529301091),\n",
       " (70.2249233263794, 205.684438396274),\n",
       " (64.8557991775539, 158.34144236048),\n",
       " (67.8210932715426, 169.081008273884),\n",
       " (63.4402474670865, 135.655875865835),\n",
       " (71.8484348479039, 218.157469450706),\n",
       " (66.7280736470863, 155.899541329016),\n",
       " (71.9683056520603, 201.528177430467),\n",
       " (76.0213474760963, 235.926060648678),\n",
       " (71.4761012826014, 195.392617577504),\n",
       " (67.3698086448686, 176.636163567362),\n",
       " (70.5552437595499, 198.460248600108),\n",
       " (69.8671012814472, 185.716910023673),\n",
       " (67.9475700421625, 177.347779818472),\n",
       " (74.104558863713, 215.759703523821),\n",
       " (69.167836299535, 187.02242030157),\n",
       " (66.557228572704, 171.587884316854),\n",
       " (66.7016049901078, 172.839809078093),\n",
       " (67.2460649543824, 168.280286893893),\n",
       " (69.0513854849974, 163.82048892775),\n",
       " (70.6727471767308, 190.023434180521),\n",
       " (65.4989951214088, 156.869951668729),\n",
       " (65.1872208535622, 172.606482559614),\n",
       " (67.5681430060826, 169.063982994918),\n",
       " (73.8153856882339, 231.374508117238),\n",
       " (71.606564208448, 207.250476751691),\n",
       " (67.724749235945, 172.152772178008),\n",
       " (68.231131952185, 199.827758022834),\n",
       " (65.9294217100738, 168.090412215803),\n",
       " (71.5484957096636, 197.819614833288),\n",
       " (69.1643811220365, 196.892315040706),\n",
       " (68.5976593239588, 180.221780102342),\n",
       " (71.0575108857852, 189.134012435934),\n",
       " (63.6440595814991, 158.422717319974),\n",
       " (71.1824553956369, 208.922682655891),\n",
       " (66.1286731698491, 187.141119453372),\n",
       " (65.0573731150978, 157.582431535246),\n",
       " (68.0913743588464, 181.644444983884),\n",
       " (70.993143899047, 204.746678174754),\n",
       " (74.2211748776249, 231.130189759308),\n",
       " (69.3271181795885, 186.258429614423),\n",
       " (64.9313421940842, 181.09386963888),\n",
       " (68.3468423145436, 198.920979667801),\n",
       " (70.9291250844694, 203.370463215939),\n",
       " (61.4778092015939, 161.028752141872),\n",
       " (68.4908127185185, 189.806681842181),\n",
       " (72.0498898708186, 200.202828506602),\n",
       " (72.5216670257767, 221.862650308484),\n",
       " (71.233911393331, 214.060148220865),\n",
       " (72.2591151862599, 201.70142161741),\n",
       " (67.5650399045651, 187.187093632233),\n",
       " (72.26760699498, 196.527466895855),\n",
       " (62.6002479975529, 151.720703729313),\n",
       " (66.2364372917754, 167.297530251137),\n",
       " (69.6504374123688, 198.843695964623),\n",
       " (69.2859214061721, 178.789547981921),\n",
       " (70.7252787373505, 193.539252115985),\n",
       " (68.8286149599904, 197.737905022318),\n",
       " (66.0144282335004, 184.461811520982),\n",
       " (66.4148820603895, 155.194771686925),\n",
       " (66.6156243917126, 160.991989871194),\n",
       " (68.0348217821036, 189.084461735075),\n",
       " (70.5023980440946, 172.985777146208),\n",
       " (69.1577294930868, 195.895256857188),\n",
       " (70.7950226136223, 215.74645530523),\n",
       " (65.1943771233415, 166.707373059357),\n",
       " (74.7857143190925, 239.464342902696),\n",
       " (71.0669062761598, 184.27924583305),\n",
       " (69.334197785954, 199.983890906512),\n",
       " (69.8992039506227, 191.412231132701),\n",
       " (64.4251937917821, 169.109401417791),\n",
       " (67.85213069861, 194.744522494038),\n",
       " (67.549069488044, 183.266533117893),\n",
       " (74.7674468449337, 210.369908709756),\n",
       " (71.4189459863648, 198.042483889936),\n",
       " (67.1203443862066, 172.664090375104),\n",
       " (69.8595879120267, 197.070856157865),\n",
       " (68.4308133914105, 190.505810039573),\n",
       " (67.9334826070233, 184.555483105293),\n",
       " (68.4953431552723, 179.929816647941),\n",
       " (65.2441434106539, 159.50321976539),\n",
       " (70.18535204699, 197.884507071155),\n",
       " (71.1041331645307, 217.269605198307),\n",
       " (68.4475785430627, 187.907425986628),\n",
       " (65.4205768240508, 176.861684237851),\n",
       " (67.7007881137183, 185.148202101777),\n",
       " (74.2230630621199, 223.308040304474),\n",
       " (71.1672458708534, 206.942981776074),\n",
       " (67.2307718899502, 171.016940600979),\n",
       " (67.880559193661, 175.222847965396),\n",
       " (67.3763754684836, 173.310395551927),\n",
       " (68.7612469290256, 181.125973501963),\n",
       " (71.7052725009646, 202.609008338003),\n",
       " (69.3809947926619, 199.850920048803),\n",
       " (73.7165276342286, 223.514722344292),\n",
       " (69.4533762078207, 219.261706666844),\n",
       " (70.7862898094215, 211.216080923481),\n",
       " (71.7684637369012, 200.798982967421),\n",
       " (69.3434539586165, 208.809775337563),\n",
       " (65.2860255086334, 161.420081658509),\n",
       " (70.9218444138077, 207.835944561795),\n",
       " (68.5966626863791, 180.831237755497),\n",
       " (68.6037964328568, 176.815476209732),\n",
       " (69.4787441197736, 194.603768502719),\n",
       " (65.9308962149966, 163.008431653289),\n",
       " (68.5233452979566, 173.270657154824),\n",
       " (73.9291241262215, 215.620035427178),\n",
       " (71.1979378222303, 210.134529042031),\n",
       " (66.5565868729681, 185.042324084993),\n",
       " (71.7422762291745, 187.965355359453),\n",
       " (69.7448293316538, 188.181124848229),\n",
       " (66.7506541256505, 179.542017143198),\n",
       " (69.6924222571513, 211.71842896173),\n",
       " (70.4035168308414, 197.692142083456),\n",
       " (69.0197361098685, 186.287991990979),\n",
       " (64.732287155256, 166.10607243739),\n",
       " (70.9980744408969, 188.811769976897),\n",
       " (64.4598142530512, 161.378773212037),\n",
       " (69.749522583002, 193.476258831235),\n",
       " (71.5268488121848, 189.282246099829),\n",
       " (68.327915863972, 207.784924645001),\n",
       " (70.7647201641119, 199.323094259304),\n",
       " (71.4190496341516, 209.858256604748),\n",
       " (69.3904740948909, 180.175472763871),\n",
       " (72.001732217799, 196.214414481383),\n",
       " (69.1914749733353, 189.438840351539),\n",
       " (66.1663632831791, 165.514607433147),\n",
       " (67.272142995153, 182.39433469242),\n",
       " (70.9158354035361, 189.557637460086),\n",
       " (69.1198877896665, 189.625914076302),\n",
       " (67.409025871346, 170.191325429211),\n",
       " (72.938649040208, 216.097454719831),\n",
       " (70.4909286959958, 177.067774350773),\n",
       " (69.0082594618674, 196.051188755039),\n",
       " (66.7621099176273, 167.700496231312),\n",
       " (69.1206637294553, 179.607870051102),\n",
       " (73.1262671878997, 220.661405093753),\n",
       " (67.4868238954174, 164.295241252612),\n",
       " (64.95507833495, 156.54478634954),\n",
       " (67.7824890749697, 183.681029038066),\n",
       " (67.662398796047, 170.305493490476),\n",
       " (66.4763970064683, 168.627263912841),\n",
       " (72.9870702010434, 209.637974489395),\n",
       " (69.5632322771984, 195.34602697044),\n",
       " (71.0035601394697, 194.322601360166),\n",
       " (69.9156373621056, 219.367916747189),\n",
       " (71.697141788046, 205.161748286445),\n",
       " (67.6499408575301, 178.882633665742),\n",
       " (68.2955545645253, 181.724931465833),\n",
       " (68.687255673712, 203.560333836071),\n",
       " (68.9157716453463, 165.155898683434),\n",
       " (68.9608796727544, 197.931429550253),\n",
       " (67.2472352041876, 173.284033013291),\n",
       " (68.915863641061, 183.947788899966),\n",
       " (65.8385445036175, 139.5340469401),\n",
       " (64.6710755478367, 160.188531344114),\n",
       " (66.2958977236134, 163.60400219191),\n",
       " (67.0975857472015, 193.955107443761),\n",
       " (66.998289732799, 189.893342494401),\n",
       " (70.9619709026438, 184.223932043739),\n",
       " (68.4208722048485, 190.795542169576),\n",
       " (67.6525275866462, 188.200679380904),\n",
       " (75.6201931582543, 226.207779869446),\n",
       " (70.549242022249, 197.879373104868),\n",
       " (68.8908389093416, 190.51348690364),\n",
       " (68.2845319195117, 176.24658343627),\n",
       " (64.9950782592052, 177.727094498411),\n",
       " (65.5757715426728, 173.691592194197),\n",
       " (69.3060882402712, 210.463687540605),\n",
       " (65.7047154221532, 170.100563318173),\n",
       " (67.8039910102957, 173.459891805983),\n",
       " (69.2161473119131, 184.936690322645),\n",
       " (68.015006008896, 194.286945947274),\n",
       " (61.9269489433641, 149.149684837724),\n",
       " (67.2663627155588, 192.4707695606),\n",
       " (67.6768218539142, 179.750807982436),\n",
       " (69.9709036159667, 202.863293032098),\n",
       " (65.3134615369232, 163.357331518913),\n",
       " (71.9060054405707, 217.027714643657),\n",
       " (66.2339040421843, 183.16123245569),\n",
       " (65.814942824229, 166.583610507509),\n",
       " (72.8449478550183, 205.250889151117),\n",
       " (70.9494434526129, 189.703088823966),\n",
       " (71.3438076277468, 218.58633639737),\n",
       " (71.0556641579506, 203.139433025567),\n",
       " (61.9255472947778, 139.905070315411),\n",
       " (68.7624575579021, 196.293805874861),\n",
       " (67.5839414255894, 179.937011167166),\n",
       " (67.3616946688862, 164.145922397398),\n",
       " (65.8791565562673, 168.174864370716),\n",
       " (68.6947621511413, 189.742541903603),\n",
       " (69.5348615536043, 195.17039149894),\n",
       " (66.6346908282865, 190.467958779164),\n",
       " (69.8099015736912, 204.426598301005),\n",
       " (68.6798736853237, 196.151622823601),\n",
       " (71.615178750348, 209.670773879197),\n",
       " (69.6897953335489, 190.933400489868),\n",
       " (70.9010863653248, 197.944832362141),\n",
       " (68.005813992332, 186.78033784958),\n",
       " (70.6157439783607, 188.663832117765),\n",
       " (71.5711941575576, 176.376642766115),\n",
       " (73.0128632629827, 209.329483369428),\n",
       " (60.748117867457, 136.167865724177),\n",
       " (69.082119625473, 190.935182500985),\n",
       " (69.3387376279613, 191.445654280964),\n",
       " (67.7571377115653, 184.938229910773),\n",
       " (76.0270818630512, 232.313470969478),\n",
       " (72.2276161601432, 201.778853950381),\n",
       " (68.9210413450252, 188.328807061518),\n",
       " (65.334927680754, 174.655697250193),\n",
       " (65.932403451767, 183.943338755166),\n",
       " (70.4666893102283, 187.5174420175),\n",
       " (73.181043621139, 213.847452872237),\n",
       " (68.550879686478, 175.219518795655),\n",
       " (68.5294082502857, 169.544805445436),\n",
       " (63.5964554204545, 144.591922421247),\n",
       " (67.1442412277953, 175.679190176701),\n",
       " (70.8163706158515, 197.198401561075),\n",
       " (73.530284807779, 222.925916699257),\n",
       " (66.1410689194018, 165.404545337709),\n",
       " (67.9068497483934, 170.417231213329),\n",
       " (71.4333758216347, 216.633999687682),\n",
       " (67.1126797980262, 173.707504236685),\n",
       " (73.2839179655908, 217.896039742328),\n",
       " (63.6725831540933, 161.013145838894),\n",
       " (69.2253203013539, 193.756325798869),\n",
       " (69.6701240248717, 177.119160725399),\n",
       " (70.4854481656936, 204.827449737938),\n",
       " (69.0046778666841, 176.731892478922),\n",
       " (68.4578940081104, 192.761885655036),\n",
       " (66.024733782518, 166.96102047344),\n",
       " (69.3181691252784, 186.737995548307),\n",
       " (69.0777405646964, 188.506178710684),\n",
       " (73.5622703667904, 208.361491812853),\n",
       " (66.0876888866475, 161.495814307993),\n",
       " (73.5259843332352, 214.966459199799),\n",
       " (69.6790602156639, 205.133435498665),\n",
       " (66.6767811169297, 183.197306840047),\n",
       " (72.9616654677117, 208.895044285857),\n",
       " (68.246872144459, 207.925576545187),\n",
       " (71.9566258887157, 210.663827812062),\n",
       " (71.0586333491432, 204.272837745409),\n",
       " (66.9769499482511, 195.198730107264),\n",
       " (68.478002075726, 190.686022530134),\n",
       " (71.2844413912849, 199.635326578537),\n",
       " (64.980456290984, 166.821547345859),\n",
       " (66.7618838734058, 178.797508975099),\n",
       " (68.7661617238793, 185.772157505947),\n",
       " (68.9925435671764, 193.754990936111),\n",
       " (71.295194595564, 228.800516094148),\n",
       " (69.0494784004474, 192.349701712414),\n",
       " (66.5414820162944, 175.983491137569),\n",
       " (68.5155234451208, 176.141239163871),\n",
       " (67.4597153131659, 177.482524908403),\n",
       " (71.3573824126824, 201.760776882651),\n",
       " (68.5904060416654, 176.843079926229),\n",
       " (69.736086706944, 185.524260351598),\n",
       " (69.8338570670345, 188.041029020603),\n",
       " (72.4105857637391, 189.384438292527),\n",
       " (65.4345968678659, 166.096744020516),\n",
       " (66.2676567702434, 170.250178653613),\n",
       " (69.9743008732506, 212.80425895999),\n",
       " (71.2091942237274, 196.14550620845),\n",
       " (69.9374001925209, 202.279069679297),\n",
       " (71.3860221929526, 201.332006891009),\n",
       " (64.5887816699057, 158.454094446398),\n",
       " (68.7929844158731, 174.489486264089),\n",
       " (68.4457467280668, 183.783382685316),\n",
       " (69.2015781220676, 188.103506112668),\n",
       " (69.4260173088723, 176.193429823813),\n",
       " (69.6062252013619, 194.200711875856),\n",
       " (72.8817069731098, 194.199508871416),\n",
       " (62.1783312217775, 145.898842373806),\n",
       " (68.8747066201055, 191.833709173715),\n",
       " (71.0800835585909, 209.853553640725),\n",
       " (72.1825341217157, 201.261464391648),\n",
       " (72.0627549780187, 208.781853387475),\n",
       " (67.3800578933842, 182.673405387725),\n",
       " (67.9346345330211, 166.435068826956),\n",
       " (70.8019302593082, 193.393542614483),\n",
       " (65.5491212718992, 178.448179734226),\n",
       " (70.1912244814707, 205.941790671464),\n",
       " (71.7789953682703, 199.209842441218),\n",
       " (68.1302884151545, 192.029566571562),\n",
       " (68.3594825628257, 175.260864429376),\n",
       " (66.090357013204, 170.006445104546),\n",
       " (71.5801231387686, 205.347596206115),\n",
       " (73.5366677229231, 196.043295071718),\n",
       " (71.1155318413304, 208.145256645714),\n",
       " (70.7943025458134, 202.890757825725),\n",
       " (71.7290604846774, 188.595023951021),\n",
       " (63.1965303693731, 162.429727448715),\n",
       " (68.1011134090994, 182.852399097347),\n",
       " (65.8560997291531, 157.317461364304),\n",
       " (68.3464565013792, 178.675992067492),\n",
       " (69.5602289299611, 187.217485931716),\n",
       " (68.7283040728389, 171.620966570458),\n",
       " (70.1582776521047, 200.534178304201),\n",
       " (68.9233366538642, 193.927360410157),\n",
       " (64.3001741979872, 155.489728964615),\n",
       " (70.4556330557961, 192.527904959489),\n",
       " (68.6240631902513, 159.862467400555),\n",
       " (69.6647517445683, 176.25927439784),\n",
       " (69.0588845404837, 171.708926273601),\n",
       " (67.2269862252501, 181.709618932242),\n",
       " (66.115799694985, 171.386659244003),\n",
       " (68.617387345682, 179.132024597883),\n",
       " (69.2490128135195, 187.469371391246),\n",
       " (69.6419061835922, 182.004522302487),\n",
       " (72.7970283570657, 214.474035549004),\n",
       " (75.0439950721537, 208.526426975474),\n",
       " (70.9726841308934, 190.221992860972),\n",
       " (74.3880124251986, 217.14379049327),\n",
       " (64.3621638717144, 156.073898515176),\n",
       " (71.3270010663305, 206.385191144764),\n",
       " (67.172024442062, 178.152781433495),\n",
       " (74.4016718853099, 228.838395801115),\n",
       " (63.8679209595893, 174.473362892894),\n",
       " (68.885991766866, 164.21490258191),\n",
       " (72.1319902243921, 212.157275700066),\n",
       " (68.403726169279, 206.014939808132),\n",
       " (65.0926563918755, 167.433532984504),\n",
       " (69.229679115924, 195.218639696094),\n",
       " (71.9477882649162, 209.175489088048),\n",
       " (67.4629906554446, 182.301285584692),\n",
       " (69.3129086423205, 190.18514691198),\n",
       " (63.7310481676985, 160.344903874399),\n",
       " (60.6798174028202, 129.301023766729),\n",
       " (70.6633230772118, 195.626319057537),\n",
       " (67.594031125615, 186.751416941505),\n",
       " (74.6495078833149, 227.500645068307),\n",
       " (70.4670788540361, 197.187532031265),\n",
       " (71.9440105192761, 209.5562827193),\n",
       " (74.0257508102552, 209.75927206677),\n",
       " (70.782228162223, 220.436786379453),\n",
       " (64.7272569610009, 169.207936994027),\n",
       " (68.3830240801838, 185.845616779891),\n",
       " (71.4692208023458, 192.691493116905),\n",
       " (66.9444537375838, 177.026087781898),\n",
       " (70.7969790042164, 199.947383058908),\n",
       " (65.2924347799135, 168.710290250236),\n",
       " (61.7540098289705, 123.528143020198),\n",
       " (62.4806713089603, 160.242238208749),\n",
       " (67.8056798701788, 197.082611042199),\n",
       " (69.5259942797687, 161.970937553318),\n",
       " (72.5007566339455, 201.655055938162),\n",
       " (70.4852947444441, 194.786198325054),\n",
       " (66.689735993223, 162.565406733935),\n",
       " (71.29191758372, 175.810967713132),\n",
       " (71.7967671979694, 209.379310185811),\n",
       " (73.0563442505026, 204.4603316173),\n",
       " (68.8533543682849, 210.869084178877),\n",
       " (66.045443857521, 169.326284191826),\n",
       " (73.985901415574, 223.326104950414),\n",
       " (69.2516178781137, 192.946891078924),\n",
       " (69.3406572151521, 172.904801447625),\n",
       " (70.976264966752, 191.572153555511),\n",
       " (63.5612776251623, 157.119544459453),\n",
       " (69.7701509519637, 182.795494321816),\n",
       " (65.1884775622368, 151.886942249695),\n",
       " (69.978940819921, 193.341082818018),\n",
       " (69.7505971518031, 185.427970139056),\n",
       " (71.1714311524347, 195.38231076051),\n",
       " (70.5720017829453, 174.196887301378),\n",
       " (65.6510895191431, 164.649813939991),\n",
       " (67.138414139275, 163.845001328561),\n",
       " (65.9180869418123, 174.719958105635),\n",
       " (73.7866364434803, 212.900555995405),\n",
       " (67.7372513405283, 172.794260611103),\n",
       " (65.5440762535086, 171.980331261146),\n",
       " (71.2139125656884, 195.923416498401),\n",
       " (65.5923540298347, 174.81534851306),\n",
       " (65.6675544806922, 174.566855841687),\n",
       " (61.9727358785594, 140.277749662033),\n",
       " (73.8999386863723, 215.559703251912),\n",
       " (72.3421836419704, 215.858233901414),\n",
       " (70.3116943408726, 184.243860348496),\n",
       " (67.1155643547224, 168.202167127644),\n",
       " (65.9324817643713, 151.384618198034),\n",
       " (67.2277450207952, 185.970160851636),\n",
       " (70.1143436293898, 203.241731802719),\n",
       " (74.8414997197116, 223.945670277953),\n",
       " (64.5273026254953, 148.472185853494),\n",
       " (70.0512546906491, 207.194647294605),\n",
       " (71.8331687752888, 205.193061760797),\n",
       " (72.8367396943866, 209.422484275198),\n",
       " (73.301865746729, 199.166928678883),\n",
       " (66.39319244743, 165.064609545545),\n",
       " (66.5151619602185, 180.760534823182),\n",
       " (69.2728126084372, 202.298760151666),\n",
       " (68.2319539277068, 195.261990296064),\n",
       " (70.4138690342612, 184.232661744937),\n",
       " (69.7268852052361, 188.453759671202),\n",
       " (65.510733890584, 157.205025302195),\n",
       " (69.1372693569977, 196.5523243152),\n",
       " (73.6661887960567, 208.366179328565),\n",
       " (65.8927525257603, 158.184985696975),\n",
       " (68.3544289583384, 184.598427955692),\n",
       " (70.424730529607, 197.90752114977),\n",
       " (72.0802011466065, 202.867236668923),\n",
       " (71.711124785333, 199.080778987396),\n",
       " (65.7291618715397, 156.223958465888),\n",
       " (63.8983381991847, 168.299537977425),\n",
       " (70.3160097119508, 201.510688097382),\n",
       " (65.788729792806, 174.584879939493),\n",
       " (69.8274641852115, 196.930792028562),\n",
       " (68.3311500917703, 197.756770319413),\n",
       " (67.7415892669206, 165.64328330518),\n",
       " (75.0338894406835, 232.886117051993),\n",
       " (73.4040585211468, 192.732404676961),\n",
       " (69.55476187936, 192.181668737126),\n",
       " (64.5390397840475, 157.129277198286),\n",
       " (67.5467614711226, 163.495202566767),\n",
       " (73.0964779848914, 205.157577990748),\n",
       " (66.5539810727358, 171.428591885687),\n",
       " (73.9916041888572, 208.964583561346),\n",
       " (70.8626880592361, 209.759114032409),\n",
       " (71.5687336966565, 206.260457759816),\n",
       " (65.8383911344328, 177.211696598095),\n",
       " (70.2755336626221, 211.716253810906),\n",
       " (61.773521995356, 149.514839170261),\n",
       " (74.8249453074994, 220.336366886695),\n",
       " (71.6051458474554, 192.427913613357),\n",
       " (67.260103577221, 163.386512746963),\n",
       " (70.9241944325351, 199.778372639881),\n",
       " (75.0596686483632, 218.583687985),\n",
       " (73.1008762422727, 223.206451566012),\n",
       " (70.6619920308473, 217.951882605948),\n",
       " (67.1446673494398, 171.207778898624),\n",
       " (67.1231534297474, 147.537956155257),\n",
       " (69.5249439626314, 170.03718625117),\n",
       " (65.2246916634494, 160.836074452623),\n",
       " (68.4104628205716, 185.127735469558),\n",
       " (68.763463696161, 177.083388175076),\n",
       " (67.9368688125212, 188.884096818794),\n",
       " (69.2378286911685, 159.244886180877),\n",
       " (68.46572391809, 188.079276046176),\n",
       " (65.6942935969472, 150.960619570537),\n",
       " (69.4309980463662, 172.325881178479),\n",
       " (66.1353914165956, 166.363818692456),\n",
       " (70.8770481302174, 186.339824370789),\n",
       " (65.9730649994945, 187.658379142995),\n",
       " (64.9391154197026, 163.880198525282),\n",
       " (68.368603321184, 196.949506368912),\n",
       " (69.5255513063261, 189.707398780834),\n",
       " (66.4556021398344, 188.974847308905),\n",
       " (69.474581761728, 177.343917682018),\n",
       " (68.730098703226, 184.130431971036),\n",
       " (73.7812744801257, 221.240095762718),\n",
       " (76.50188334064, 217.882346394923),\n",
       " (71.2257019248704, 199.182762952512),\n",
       " (64.5062104482427, 164.500366620687),\n",
       " (66.5038149399263, 163.269889315846),\n",
       " (69.2104130403531, 187.624820339102),\n",
       " (63.5463697191554, 150.346658456669),\n",
       " (69.7311284328782, 202.707102372802),\n",
       " (68.6082084641792, 181.724836528158),\n",
       " (71.464130247868, 206.590856693051),\n",
       " (69.5094880014557, 203.985415487617),\n",
       " (73.7596357420018, 231.608670942233),\n",
       " (68.2777867627378, 195.189930156404),\n",
       " (72.4546334226458, 200.290004474109),\n",
       " (70.7691932703988, 195.353057497215),\n",
       " (70.4521407449342, 188.098837300362),\n",
       " (68.9040988533852, 194.659769774523),\n",
       " (69.2384271868614, 197.412091355179),\n",
       " (67.2778472839007, 156.416342192304),\n",
       " (71.4637646915818, 207.768534974947),\n",
       " (68.8406335127133, 171.921149933427),\n",
       " (71.4059647136753, 216.923291191821),\n",
       " (70.144874073255, 190.585376753341),\n",
       " (70.6796910335925, 206.119839185486),\n",
       " (68.5411160545877, 201.108892294769),\n",
       " (71.4347269121165, 206.594058750348),\n",
       " (65.2208204814207, 158.987186084825),\n",
       " (70.7731514183424, 208.223566139917),\n",
       " (69.760094789524, 187.812061866277),\n",
       " (63.9625306846396, 168.349456798515),\n",
       " (70.3041632689917, 196.835051662201),\n",
       " (70.3168492217264, 205.521885795243),\n",
       " (67.4054078779366, 164.574391291788),\n",
       " (67.121503053709, 167.191527196189),\n",
       " (68.3775798868721, 168.997323920848),\n",
       " (69.5782389725199, 184.219818154564),\n",
       " (62.5322532839863, 168.15332621989),\n",
       " (69.3368215258868, 184.119415287208),\n",
       " (66.7874672787514, 172.175466312667),\n",
       " (75.3912922303323, 218.604697288874),\n",
       " (70.2136290842041, 189.658273775163),\n",
       " (71.1035636159129, 196.759936203758),\n",
       " (69.7938878917517, 181.723193180931),\n",
       " (66.4718444604063, 175.389151760833),\n",
       " (70.7137140881225, 208.710438585204),\n",
       " (63.618717286078, 162.674975183263),\n",
       " (70.5492797174363, 191.31881083447),\n",
       " (67.4028210941089, 192.672675824117),\n",
       " (71.4351749033072, 213.337773308762),\n",
       " (68.5934051359775, 187.402530930982),\n",
       " (71.4523265352799, 203.448273004639),\n",
       " (70.6987899471723, 189.985478828833),\n",
       " (71.3914644848076, 197.307058582909),\n",
       " (70.4856431655714, 193.359946993498),\n",
       " (74.4081878556543, 226.701022932309),\n",
       " (63.4004232290441, 185.188138040552),\n",
       " (68.3997191187644, 171.329108454027),\n",
       " (67.4298541805405, 175.124366331655),\n",
       " (70.8119999651241, 196.221113490145),\n",
       " (67.1102710065681, 194.752353698099),\n",
       " (67.7282199001928, 184.468450401731),\n",
       " (68.5508321853167, 179.556789891852),\n",
       " (68.619484972581, 192.605638565238),\n",
       " (70.605761010108, 197.341247176261),\n",
       " (67.0867812193882, 164.175700818982),\n",
       " (65.3117081851018, 167.327702757749),\n",
       " (69.9241467518784, 185.86658428864),\n",
       " (68.364634884563, 193.981747611358),\n",
       " (70.869804923435, 205.863934518421),\n",
       " (76.0123000122601, 235.437966081368),\n",
       " (67.9659678054035, 176.966727879219),\n",
       " (69.7650874422372, 199.02642762377),\n",
       " (69.5686723852038, 200.704051660034),\n",
       " (71.5600187424886, 213.978596580713),\n",
       " (70.9580492704939, 201.663337321292),\n",
       " (65.4409223111664, 144.13202685088),\n",
       " (70.9761245175843, 202.603188030477),\n",
       " (67.9928512420125, 183.958089153383),\n",
       " (70.5185150906246, 199.568441028307),\n",
       " (69.1091914382834, 176.045407011543),\n",
       " (71.6055730996525, 194.932568526505),\n",
       " (69.8895585817577, 203.518326493008),\n",
       " (66.4568987750028, 166.684648751465),\n",
       " (70.2913541843552, 207.508542611603),\n",
       " (62.6199652024419, 152.852974718754),\n",
       " (66.621681831888, 146.230804742359),\n",
       " (65.3502881767895, 156.761337138797),\n",
       " (71.6067398889196, 209.964943185152),\n",
       " (69.4129144287566, 183.902110439132),\n",
       " (69.8938135929651, 200.796854476097),\n",
       " (65.665958564131, 164.21563918356),\n",
       " (64.4082732512145, 154.641041608773),\n",
       " (68.62688583476, 189.44924046642),\n",
       " (69.6002826442675, 176.594888560523),\n",
       " (67.4532312427657, 173.272217789955),\n",
       " (68.1699945979806, 185.253109882045),\n",
       " (69.553614036104, 203.811090942794),\n",
       " (65.7472979878932, 182.051690329734),\n",
       " (73.1223931509758, 201.703778019228),\n",
       " (66.6209260032382, 177.842655342218),\n",
       " (69.1459089866395, 202.628196093564),\n",
       " (65.965795047667, 186.225430725101),\n",
       " (67.2032664163271, 185.454007229585),\n",
       " (65.4539571708589, 175.84448504479),\n",
       " (73.0300920269224, 209.587800507552),\n",
       " (68.3172449023022, 179.370856017665),\n",
       " (66.3342814592302, 165.368276469302),\n",
       " (72.3619834817878, 198.262970327058),\n",
       " (67.7174274900004, 184.931804199742),\n",
       " (70.4775913017474, 200.247996191067),\n",
       " (71.1629916473587, 199.443988986417),\n",
       " (69.3547795615889, 202.332215731187),\n",
       " (70.0972376450384, 201.993728023585),\n",
       " (69.2972916961487, 197.358760710745),\n",
       " (63.3099692849417, 157.003543665807),\n",
       " (67.8872298890947, 183.343327242353),\n",
       " (73.2029699010359, 203.023116063971),\n",
       " (73.1411550985637, 193.926034192487),\n",
       " (70.8959825454072, 195.601365349029),\n",
       " (72.1426926653778, 214.853925271526),\n",
       " (72.1327778674956, 184.147188834447),\n",
       " (71.2066187430906, 193.743259981117),\n",
       " (66.2521505114177, 170.109499628414),\n",
       " (72.3415887742695, 205.699621116357),\n",
       " (68.068922111764, 166.263500115293),\n",
       " (71.3973089137367, 198.406733806725),\n",
       " (65.7260320477284, 169.675260295768),\n",
       " (67.1104474203962, 160.050285251246),\n",
       " (72.2150349075593, 204.937760149992),\n",
       " (63.0097830848321, 147.901820043978),\n",
       " (69.5691552119986, 180.949823360142),\n",
       " (70.4040016797078, 217.837244762115),\n",
       " (68.0302155969993, 189.361639792627),\n",
       " (69.7779103180642, 176.090289339977),\n",
       " (62.0786351862267, 130.277274850818),\n",
       " (65.8344196799245, 159.319115073327),\n",
       " (70.7809360391759, 191.96817787473),\n",
       " (69.5714302095419, 182.154139159232),\n",
       " (67.3270648124962, 188.35172566903),\n",
       " (67.8146018831068, 191.760001792547),\n",
       " (66.682242766975, 162.766968330461),\n",
       " (69.6397087490569, 197.596213071005),\n",
       " (64.7742374037153, 182.589844094188),\n",
       " (73.9629410745522, 200.007160851719),\n",
       " (67.9333838365102, 184.409520002429),\n",
       " (66.7700394702836, 165.489768001822),\n",
       " (68.936357575679, 176.652179225913),\n",
       " (76.4345587137262, 228.872990637662),\n",
       " (68.996145368249, 180.350924390491),\n",
       " (73.5018396237801, 225.972218321773),\n",
       " (69.6031034024769, 189.816644900283),\n",
       " (72.067379985717, 202.262074138673),\n",
       " (70.4892245364657, 178.918714208691),\n",
       " (67.0348505611985, 167.044233115506),\n",
       " (66.184108496297, 172.637611536679),\n",
       " (68.6942095017358, 179.962508790081),\n",
       " (66.6532337437077, 160.147436127873),\n",
       " (69.8386570782748, 178.392482558206),\n",
       " (66.2450648070515, 154.588689585938),\n",
       " (72.8110316092765, 208.848846495439),\n",
       " (64.4747469568808, 169.430634272192),\n",
       " (69.7544793252549, 181.641048884472),\n",
       " (70.6614443891591, 203.844791576438),\n",
       " (72.4706184938672, 184.446325303497),\n",
       " (68.1715328455939, 199.70181147917),\n",
       " (72.9871714255633, 206.62939921236),\n",
       " (70.5335647702984, 196.584345936451),\n",
       " (70.0469530715995, 190.002405191259),\n",
       " (69.0160671628343, 196.76390754959),\n",
       " (73.5491622682398, 222.297492120609),\n",
       " (68.118097827498, 180.0656094066),\n",
       " (68.2876370331869, 178.432597736547),\n",
       " (71.527047694968, 202.748739711506),\n",
       " (73.3965429282898, 220.945760743646),\n",
       " (69.8445640844681, 198.630278194117),\n",
       " (70.15196587967, 203.734480758039),\n",
       " (66.2997258732792, 150.149361277111),\n",
       " (76.4929339594115, 227.139295974484),\n",
       " (71.0323851971723, 186.762487511985),\n",
       " (66.6310409367559, 170.421149332108),\n",
       " (66.0755368151504, 182.428002531571),\n",
       " (70.6131624145417, 187.472023542885),\n",
       " (65.2034806844673, 158.664555216949),\n",
       " (66.8618612870774, 175.797275435425),\n",
       " (73.7579982986776, 220.770232006582),\n",
       " (69.8980860723227, 195.758935463703),\n",
       " (69.5273197188296, 189.027367850759),\n",
       " (66.7444774700376, 154.126850429328),\n",
       " (69.0744920316712, 179.38681672232),\n",
       " (68.5617507293083, 172.195363687745),\n",
       " (70.3225500128014, 190.461776758205),\n",
       " (71.9491204211446, 208.088946513166),\n",
       " (70.9165517924984, 191.883267018275),\n",
       " (70.37112335334, 197.382415661258),\n",
       " (67.796477151995, 189.683151319762),\n",
       " (68.6999956299772, 208.068199264981),\n",
       " (69.1146317960513, 188.717272552453),\n",
       " (67.6971036455845, 187.42389642109),\n",
       " (71.2803302309239, 217.903599366613),\n",
       " (71.4275751935442, 201.842808664398),\n",
       " (71.0433563208046, 204.627727659118),\n",
       " (64.7262559397982, 143.347565498203),\n",
       " (67.1481594371304, 182.03124803657),\n",
       " (72.29169702561, 202.104371634163),\n",
       " (70.2428661701033, 192.796112562644),\n",
       " (64.457857849175, 158.916699285487),\n",
       " (74.4649885443558, 213.482102570528),\n",
       " (65.2989151495077, 162.818275468988),\n",
       " (72.7495261139615, 212.180718812816),\n",
       " (65.7181787540213, 155.175542786984),\n",
       " (68.8900949391591, 194.681434643233),\n",
       " (73.0384086139, 209.475388083627),\n",
       " (69.86074638417, 198.321828121241),\n",
       " (69.8611969523225, 179.662496461814),\n",
       " (71.7655616628825, 192.690383151505),\n",
       " (66.8208458858784, 179.801568231632),\n",
       " (67.7876938262705, 190.506795646304),\n",
       " (69.2507138496364, 196.141144482203),\n",
       " (68.9296721083659, 180.826457432256),\n",
       " (68.9971098556648, 186.63531299665),\n",
       " (66.3739949336111, 167.784391028618),\n",
       " (66.3765193269966, 179.468886431732),\n",
       " (69.0545697565698, 181.360351242341),\n",
       " (65.6674754047304, 161.422210929555),\n",
       " (62.7528775216661, 149.7597060165),\n",
       " (66.577986705883, 161.201890594841),\n",
       " (67.2721706595338, 187.363365848207),\n",
       " (69.836551651926, 176.011673267755),\n",
       " (74.216430944514, 238.569450876454),\n",
       " (71.2305285617873, 209.032876811002),\n",
       " (70.7628651265818, 194.796567253093),\n",
       " (67.8789538779499, 163.724432624055),\n",
       " (67.1145266908252, 182.512451120851),\n",
       " (66.5398122216795, 175.093254689416),\n",
       " (67.0912186560557, 180.880724606769),\n",
       " (68.8934176530557, 172.654237864262),\n",
       " (71.8826967420196, 207.57561358173),\n",
       " (70.5318761057351, 194.009472984818),\n",
       " (69.2081081950178, 187.867102546193),\n",
       " (66.8547377457483, 161.223964804125),\n",
       " (77.1608008945486, 228.707300850029),\n",
       " (68.1985373165711, 176.456828376649),\n",
       " (66.7957930920407, 186.993898606724),\n",
       " (74.0702062076238, 218.423584474029),\n",
       " (69.6917430451575, 184.618952908832),\n",
       " (70.4827574106373, 199.359223999908),\n",
       " (66.2029636090014, 164.63446367018),\n",
       " (71.8578879072308, 193.429989763484),\n",
       " (65.975207182975, 171.076831440131),\n",
       " (72.6769610901306, 217.561415368678),\n",
       " (69.8120217064516, 188.064983938564),\n",
       " (69.0431459809296, 178.184817464393),\n",
       " (63.8506783939551, 151.996661485131),\n",
       " (64.9097852365578, 145.176135872661),\n",
       " (65.045444008848, 147.66026013933),\n",
       " (68.8743961941656, 183.438539153398),\n",
       " (69.9822194992417, 178.348439117701),\n",
       " (62.709303709749, 152.820468105226),\n",
       " (66.9234367580027, 173.634257094193),\n",
       " (67.2690439717089, 180.035672697479),\n",
       " (72.1225255313879, 200.336805594253),\n",
       " (69.6114032550123, 170.296196746773),\n",
       " (65.18470087045, 166.73855470482),\n",
       " (74.0802749473551, 194.778854330805),\n",
       " (61.121828632923, 152.79113008658),\n",
       " (68.321452866911, 206.426146941539),\n",
       " (63.9529283994475, 164.77147535216),\n",
       " (68.5813735185472, 181.167060950369),\n",
       " (64.9259089634653, 185.00185417842),\n",
       " (69.6597535242007, 209.520424599613),\n",
       " (71.1207533229965, 197.345436026506),\n",
       " (62.8041907055702, 148.605042361239),\n",
       " (70.8112617091695, 201.224277133599),\n",
       " (69.5495105694549, 199.193814754676),\n",
       " (67.0323461956309, 188.459689131546),\n",
       " (67.396834254227, 178.300196634959),\n",
       " (69.3718433314283, 173.430169608834),\n",
       " (74.5451369404472, 218.437567908138),\n",
       " (66.5565249852091, 173.386830210271),\n",
       " (67.2599528243859, 186.320797193534),\n",
       " (66.0019677250915, 165.167722781655),\n",
       " (67.2835074243167, 203.135759560563),\n",
       " (67.924633636526, 161.670827844243),\n",
       " (66.0576338070287, 164.470503879209),\n",
       " (65.8445804640368, 170.792356904563),\n",
       " (69.031062851652, 170.310122186155),\n",
       " (70.3271164111783, 192.497160869606),\n",
       " (66.5343065072948, 166.37125799811),\n",
       " (71.4716748983661, 196.540959991148),\n",
       " (70.0469307663445, 183.619620777862),\n",
       " (68.6057105628212, 187.291391863172),\n",
       " (68.9823807296095, 178.282409486653),\n",
       " (73.7888849042811, 222.397560523835),\n",
       " (69.0728108169759, 190.587912957767),\n",
       " (73.1879491114706, 204.103816962433),\n",
       " (68.6773844055852, 192.196246087213),\n",
       " (64.9223362561123, 179.40909186231),\n",
       " (66.1112291402564, 192.765580966011),\n",
       " (67.7489898525367, 169.740272090197),\n",
       " (71.8139035569294, 192.816441679395),\n",
       " (69.1954412203952, 185.72919613365),\n",
       " (67.4071716573248, 188.5940922367),\n",
       " (69.8766334089165, 179.680930323501),\n",
       " (64.366676724607, 162.495082455027),\n",
       " (67.492853857301, 183.383780173245),\n",
       " (73.1224332056134, 221.445902076745),\n",
       " (67.6529454789154, 188.889864542325),\n",
       " (68.5379018504103, 191.822914272445),\n",
       " (70.7247580226813, 214.261518198021),\n",
       " (68.230150312392, 182.382822151331),\n",
       " (67.6971234115329, 163.939878580161),\n",
       " (73.7167427530004, 198.462226895361),\n",
       " (68.8584572194312, 187.395085781024),\n",
       " (66.473765965897, 175.947367804346),\n",
       " (69.9722813210905, 188.625911160118),\n",
       " (67.5561832236562, 200.77969103152),\n",
       " (74.2720186547956, 209.937492806304),\n",
       " (72.0938599798142, 201.862658416185),\n",
       " (69.5697796657481, 182.79484420997),\n",
       " (71.6140894517358, 206.163432503748),\n",
       " (67.1385496121352, 171.876966350462),\n",
       " (68.4156512567171, 171.321216279214),\n",
       " (78.0958674715774, 255.690834836788),\n",
       " (68.6426275979686, 178.816794561407),\n",
       " (70.0268418933568, 186.35870219412),\n",
       " (74.3256770078908, 220.845727450162),\n",
       " (72.2316362418495, 202.137160078903),\n",
       " (67.6666640962661, 193.081646916164),\n",
       " ...]"
      ]
     },
     "execution_count": 124,
     "metadata": {},
     "output_type": "execute_result"
    }
   ],
   "source": [
    "n = list(zip(heights,weights))\n",
    "n"
   ]
  },
  {
   "cell_type": "code",
   "execution_count": 138,
   "metadata": {},
   "outputs": [
    {
     "data": {
      "text/plain": [
       "114.2426564464631"
      ]
     },
     "execution_count": 138,
     "metadata": {},
     "output_type": "execute_result"
    }
   ],
   "source": [
    "# write formula to calculate covariance\n",
    "\n",
    "def covariance(data_x, data_y):\n",
    "    mean_x, mean_y = calc_mean(data_x), calc_mean(data_y)\n",
    "    n = len(data_x)\n",
    "    \n",
    "    return sum([(x - mean_x)*(y - mean_y) for x,y in zip(data_x, data_y)]) / (n-1) \n",
    "\n",
    "covariance(heights, weights)"
   ]
  },
  {
   "cell_type": "code",
   "execution_count": 141,
   "metadata": {},
   "outputs": [
    {
     "data": {
      "text/plain": [
       "0.9247562987409157"
      ]
     },
     "execution_count": 141,
     "metadata": {},
     "output_type": "execute_result"
    }
   ],
   "source": [
    "# write formula to calculate correlation\n",
    "from math import sqrt \n",
    "\n",
    "def correlation(data_x, data_y):\n",
    "    mean_x = calc_mean(data_x)\n",
    "    mean_y = calc_mean(data_y)\n",
    "    variance_x = sum((x-mean_x)**2 for x in data_x)/(len(data_x)-1)\n",
    "    variance_y = sum((y-mean_y)**2 for y in data_y)/(len(data_y)-1)\n",
    "    std_x = math.sqrt(variance_x)\n",
    "    std_y = math.sqrt(variance_y)\n",
    "    return covariance(data_x, data_y) / (std_x*std_y)\n",
    "    \n",
    "correlation(heights, weights)\n"
   ]
  },
  {
   "cell_type": "code",
   "execution_count": 145,
   "metadata": {},
   "outputs": [
    {
     "data": {
      "text/plain": [
       "0.9247562987409157"
      ]
     },
     "execution_count": 145,
     "metadata": {},
     "output_type": "execute_result"
    }
   ],
   "source": [
    "from math import sqrt\n",
    "def calc_correlation(data1, data2):\n",
    "    var1 = variance(data1)\n",
    "    var2 = variance(data2)\n",
    "    covariance_both = covariance(data1,data2)\n",
    "    return covariance_both/sqrt(var1)/sqrt(var2)\n",
    "calc_correlation(weights,heights)"
   ]
  },
  {
   "cell_type": "markdown",
   "metadata": {
    "slideshow": {
     "slide_type": "subslide"
    }
   },
   "source": [
    "#### Question\n",
    "\n",
    "When we find two variables are highly correlated, does that mean we can say one causes the other?\n",
    "\n",
    "**Example:** \n",
    "*Children that watch a lot of TV are the most violent. Therefore, TV makes children more violent.*"
   ]
  },
  {
   "cell_type": "markdown",
   "metadata": {},
   "source": [
    "http://www.tylervigen.com/spurious-correlations"
   ]
  }
 ],
 "metadata": {
  "kernelspec": {
   "display_name": "Python 3",
   "language": "python",
   "name": "python3"
  },
  "language_info": {
   "codemirror_mode": {
    "name": "ipython",
    "version": 3
   },
   "file_extension": ".py",
   "mimetype": "text/x-python",
   "name": "python",
   "nbconvert_exporter": "python",
   "pygments_lexer": "ipython3",
   "version": "3.6.6"
  }
 },
 "nbformat": 4,
 "nbformat_minor": 2
}
