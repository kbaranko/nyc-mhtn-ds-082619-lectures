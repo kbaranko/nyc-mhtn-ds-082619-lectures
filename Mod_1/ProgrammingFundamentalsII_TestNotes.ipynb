{
 "cells": [
  {
   "cell_type": "markdown",
   "metadata": {},
   "source": [
    "# Programming Fundamentals II - Tools for Data Science \n",
    "Agenda today:\n",
    "- Loops, lists, functions continued\n",
    "- Lambda function\n",
    "- List comprehension\n",
    "\n",
    "After this class, students will be able to:\n",
    "- lay out plan and execute advanced functions \n",
    "- understand lambda function syntax and write lambda function in conjunction with other python operations\n",
    "- understand list comprehension and replace for loop with it "
   ]
  },
  {
   "cell_type": "markdown",
   "metadata": {},
   "source": [
    "#### Starting off - reflections from yesterday \n",
    "\n",
    "Based on the lessons you have learned yesterday and Monday in _What is Data Science?_, what are some of the real world applications you can think of that allow you to utilize the tools you have learned and achieve a data science related goal?"
   ]
  },
  {
   "cell_type": "markdown",
   "metadata": {},
   "source": [
    "## Part I - loops continued\n",
    "- Nested loops \n",
    "- While, Break, and Continue"
   ]
  },
  {
   "cell_type": "markdown",
   "metadata": {},
   "source": [
    "#### 1.1 While, break, and continue\n",
    "In our last class, we learned about the behavior of while loops. How do we tame it?"
   ]
  },
  {
   "cell_type": "code",
   "execution_count": 9,
   "metadata": {},
   "outputs": [
    {
     "name": "stdout",
     "output_type": "stream",
     "text": [
      "1\n",
      "2\n",
      "3\n",
      "4\n",
      "5\n"
     ]
    }
   ],
   "source": [
    "i = 1\n",
    "while i < 6:\n",
    "    print(i)\n",
    "    i += 1"
   ]
  },
  {
   "cell_type": "markdown",
   "metadata": {},
   "source": [
    "What is break and continue?"
   ]
  },
  {
   "cell_type": "code",
   "execution_count": 10,
   "metadata": {},
   "outputs": [
    {
     "name": "stdout",
     "output_type": "stream",
     "text": [
      "1\n",
      "2\n",
      "foo\n",
      "4\n",
      "5\n",
      "6\n"
     ]
    }
   ],
   "source": [
    "i = 0\n",
    "while i < 6:\n",
    "    i += 1\n",
    "    if i == 3:\n",
    "        print(\"foo\")\n",
    "        continue\n",
    "    print(i)"
   ]
  },
  {
   "cell_type": "markdown",
   "metadata": {},
   "source": [
    "How is the code below different?"
   ]
  },
  {
   "cell_type": "code",
   "execution_count": 11,
   "metadata": {},
   "outputs": [
    {
     "name": "stdout",
     "output_type": "stream",
     "text": [
      "1\n",
      "2\n",
      "foo\n"
     ]
    }
   ],
   "source": [
    "i = 0\n",
    "while i < 6:\n",
    "    i += 1\n",
    "    if i == 3:\n",
    "        print(\"foo\")\n",
    "        break\n",
    "    print(i)"
   ]
  },
  {
   "cell_type": "markdown",
   "metadata": {},
   "source": [
    "#### 1.2 Nested Loops "
   ]
  },
  {
   "cell_type": "code",
   "execution_count": null,
   "metadata": {
    "scrolled": true
   },
   "outputs": [],
   "source": [
    "lst = [1,2,3,4,5]\n",
    "\n",
    "for x in lst:\n",
    "    print('loop1:', x)\n",
    "    for y in lst:\n",
    "        print('loop2---', y)"
   ]
  },
  {
   "cell_type": "markdown",
   "metadata": {},
   "source": [
    "What do you expect to see and why?"
   ]
  },
  {
   "cell_type": "markdown",
   "metadata": {},
   "source": [
    "## Part II - lambda function \n",
    "The lambda function is anonymous function in python. The syntax is __lambda arguments : expression.__ <br>\n",
    "We use lambda functions when we require a nameless function for a short period of time.\n",
    "\n",
    "In Python, we generally use it as an argument to a higher-order function (a function that takes in other functions as arguments). Lambda functions are used along with built-in functions like filter(), map() and reduce() etc. <br>\n",
    "\n",
    "Lambda function can also come really handy when we are working with feature engineering. "
   ]
  },
  {
   "cell_type": "code",
   "execution_count": 2,
   "metadata": {},
   "outputs": [
    {
     "name": "stdout",
     "output_type": "stream",
     "text": [
      "20\n"
     ]
    }
   ],
   "source": [
    "# example 1:\n",
    "func_1 = lambda x: x+10\n",
    "print(func_1(10))"
   ]
  },
  {
   "cell_type": "code",
   "execution_count": 3,
   "metadata": {},
   "outputs": [],
   "source": [
    "def plus_ten(x):\n",
    "    return x+10"
   ]
  },
  {
   "cell_type": "code",
   "execution_count": 4,
   "metadata": {
    "scrolled": false
   },
   "outputs": [
    {
     "name": "stdout",
     "output_type": "stream",
     "text": [
      "8\n"
     ]
    }
   ],
   "source": [
    "# example 2: with more arguments\n",
    "func_2 = lambda x,y : x**y \n",
    "print(func_2(2,3))"
   ]
  },
  {
   "cell_type": "code",
   "execution_count": 5,
   "metadata": {},
   "outputs": [
    {
     "data": {
      "text/plain": [
       "True"
      ]
     },
     "execution_count": 5,
     "metadata": {},
     "output_type": "execute_result"
    }
   ],
   "source": [
    "# using lambda more other operations \n",
    "func_3 = lambda x: False if x//2 == 0 else True\n",
    "func_3(9)"
   ]
  },
  {
   "cell_type": "markdown",
   "metadata": {},
   "source": [
    "Write a function that turns Fahrenheit to Celsius using Lambda expression. formula = $(C × 9/5) + 32$"
   ]
  },
  {
   "cell_type": "code",
   "execution_count": 4,
   "metadata": {},
   "outputs": [
    {
     "data": {
      "text/plain": [
       "37.4"
      ]
     },
     "execution_count": 4,
     "metadata": {},
     "output_type": "execute_result"
    }
   ],
   "source": [
    "(lambda x: x*9/5+32)(3)"
   ]
  },
  {
   "cell_type": "markdown",
   "metadata": {},
   "source": [
    "Write a function that turns Fahrenheit to Celsius using Lambda. formula = $(C × 9/5) + 32$"
   ]
  },
  {
   "cell_type": "code",
   "execution_count": null,
   "metadata": {},
   "outputs": [],
   "source": []
  },
  {
   "cell_type": "markdown",
   "metadata": {},
   "source": [
    "Sort a list by the integers followed by ID:\n",
    "Hints:\n",
    "- Make use of Lambda\n",
    "- Make use of documentation for function `sorted()`"
   ]
  },
  {
   "cell_type": "code",
   "execution_count": 6,
   "metadata": {},
   "outputs": [
    {
     "data": {
      "text/plain": [
       "['id14', 'id3', 'id30', 'id40', 'id44', 'id5']"
      ]
     },
     "execution_count": 6,
     "metadata": {},
     "output_type": "execute_result"
    }
   ],
   "source": [
    "lst = ['id3', 'id5', 'id40', 'id30', 'id14', 'id44']\n",
    "sorted(lst)\n",
    "# expected output ['id3','id5','id14','id30','id44']"
   ]
  },
  {
   "cell_type": "code",
   "execution_count": null,
   "metadata": {},
   "outputs": [],
   "source": []
  },
  {
   "cell_type": "markdown",
   "metadata": {},
   "source": [
    "#### Using it in conjunction with map() and filter()"
   ]
  },
  {
   "cell_type": "code",
   "execution_count": 7,
   "metadata": {},
   "outputs": [
    {
     "name": "stdout",
     "output_type": "stream",
     "text": [
      "[14, 35, 70, 42, 91, 126]\n"
     ]
    }
   ],
   "source": [
    "# map applies a function to a collection of objects (lists)\n",
    "# without map\n",
    "# create a list that's the age of dogs, and multiply it by 7 to get their age in human years\n",
    "age_of_dogs = [2,5,10,6,13,18]\n",
    "age_of_dogs_human_years = []\n",
    "for age in age_of_dogs:\n",
    "    age_of_dogs_human_years.append(age*7)\n",
    "print(age_of_dogs_human_years)"
   ]
  },
  {
   "cell_type": "code",
   "execution_count": 8,
   "metadata": {},
   "outputs": [
    {
     "name": "stdout",
     "output_type": "stream",
     "text": [
      "[14, 35, 70, 42, 91, 126]\n"
     ]
    }
   ],
   "source": [
    "# with map\n",
    "print(list(map(lambda x: x*7, age_of_dogs)))"
   ]
  },
  {
   "cell_type": "code",
   "execution_count": 9,
   "metadata": {},
   "outputs": [],
   "source": [
    "# filter - filtering thru a dictionary \n",
    "# syntax: filter(function_object, iterable)\n",
    "# function_object is called for each element of the iterable and filter returns only those element for which the \n",
    "# function_object returns true.\n",
    "dog_dictionary = [{'name': 'Tika', 'age': 11}, {'name': 'Barkley', 'age': 0.5},\n",
    "                  {'name': 'Frankie', 'age': 3}, {'name': 'Murray', 'age': 5},\n",
    "                  {'name': 'Bark Twain', 'age': 3}, {'name': 'Chloe', 'age': 12},\n",
    "                  {'name': 'Dexter', 'age': 0.2}, {'name': 'Snoop Dog', 'age': 0.6}]\n",
    "# find the dog that has the name \"Tika\"\n",
    "\n",
    "# find the list of dogs that is not a puppy anymore "
   ]
  },
  {
   "cell_type": "code",
   "execution_count": 10,
   "metadata": {},
   "outputs": [
    {
     "name": "stdout",
     "output_type": "stream",
     "text": [
      "[12, 30, 30]\n"
     ]
    }
   ],
   "source": [
    "# filter thru a list \n",
    "age_of_cats = [12, 15, 30, 25, 30, 27]\n",
    "even_aged_cats = list(filter(lambda x : x % 2 == 0, age_of_cats)) \n",
    "print(even_aged_cats)"
   ]
  },
  {
   "cell_type": "code",
   "execution_count": null,
   "metadata": {},
   "outputs": [],
   "source": []
  },
  {
   "cell_type": "code",
   "execution_count": 11,
   "metadata": {},
   "outputs": [],
   "source": [
    "#average temperature in summer \n",
    "temperature = [68,84,75,73,69,79,64,84,79,84,86,93]"
   ]
  },
  {
   "cell_type": "markdown",
   "metadata": {},
   "source": [
    "Convert this list of temperature to celsius. formula = $(C × 9/5) + 32$"
   ]
  },
  {
   "cell_type": "code",
   "execution_count": null,
   "metadata": {},
   "outputs": [],
   "source": []
  },
  {
   "cell_type": "markdown",
   "metadata": {},
   "source": [
    "Temperature over 85 is considered too hot - create a new list that picks out days when it is too hot"
   ]
  },
  {
   "cell_type": "code",
   "execution_count": null,
   "metadata": {},
   "outputs": [],
   "source": []
  },
  {
   "cell_type": "markdown",
   "metadata": {},
   "source": [
    "## Part III - List Comprehension\n",
    "List comprehensions provide a concise way to create lists instead of using for loops. Syntax: __[expression for item in list]__"
   ]
  },
  {
   "cell_type": "code",
   "execution_count": null,
   "metadata": {},
   "outputs": [],
   "source": [
    "# using for loops\n",
    "\n",
    "age_of_cats\n",
    "age_of_cats_in_human_years_fl = []\n",
    "for age in age_of_cats:\n",
    "    age_of_cats_in_human_years.append(age)\n"
   ]
  },
  {
   "cell_type": "code",
   "execution_count": null,
   "metadata": {},
   "outputs": [],
   "source": [
    "print(age_of_cats)\n",
    "age_of_cats_in_human_years = [cat*7 for cat in age_of_cats]\n"
   ]
  },
  {
   "cell_type": "code",
   "execution_count": 1,
   "metadata": {},
   "outputs": [
    {
     "ename": "NameError",
     "evalue": "name 'age_of_cats' is not defined",
     "output_type": "error",
     "traceback": [
      "\u001b[0;31m---------------------------------------------------------------------------\u001b[0m",
      "\u001b[0;31mNameError\u001b[0m                                 Traceback (most recent call last)",
      "\u001b[0;32m<ipython-input-1-f04f9a06f033>\u001b[0m in \u001b[0;36m<module>\u001b[0;34m()\u001b[0m\n\u001b[1;32m      1\u001b[0m \u001b[0;31m# using list comprehension with other operations such as conditionals\u001b[0m\u001b[0;34m\u001b[0m\u001b[0;34m\u001b[0m\u001b[0m\n\u001b[0;32m----> 2\u001b[0;31m \u001b[0mnum_list\u001b[0m \u001b[0;34m=\u001b[0m \u001b[0;34m[\u001b[0m\u001b[0mcat\u001b[0m\u001b[0;34m*\u001b[0m\u001b[0;36m7\u001b[0m \u001b[0;32mfor\u001b[0m \u001b[0mcat\u001b[0m \u001b[0;32min\u001b[0m \u001b[0mage_of_cats\u001b[0m \u001b[0;32mif\u001b[0m \u001b[0mcat\u001b[0m \u001b[0;34m%\u001b[0m \u001b[0;36m2\u001b[0m \u001b[0;34m==\u001b[0m \u001b[0;36m0\u001b[0m\u001b[0;34m]\u001b[0m\u001b[0;34m\u001b[0m\u001b[0m\n\u001b[0m\u001b[1;32m      3\u001b[0m \u001b[0mprint\u001b[0m\u001b[0;34m(\u001b[0m\u001b[0mnum_list\u001b[0m\u001b[0;34m)\u001b[0m\u001b[0;34m\u001b[0m\u001b[0m\n",
      "\u001b[0;31mNameError\u001b[0m: name 'age_of_cats' is not defined"
     ]
    }
   ],
   "source": [
    "# using list comprehension with other operations such as conditionals\n",
    "num_list = [cat*7 for cat in age_of_cats if cat % 2 == 0]\n",
    "print(num_list)"
   ]
  },
  {
   "cell_type": "code",
   "execution_count": null,
   "metadata": {
    "scrolled": true
   },
   "outputs": [],
   "source": [
    "# list comprehension used in conjunction with conditionals -> like filtering\n",
    "age_of_cats_in_human_years_still_alive = [cat for cat in age_of_cats if cat*7 < 100]\n",
    "age_of_cats_in_human_years_still_alive"
   ]
  },
  {
   "cell_type": "code",
   "execution_count": 3,
   "metadata": {},
   "outputs": [
    {
     "name": "stdout",
     "output_type": "stream",
     "text": [
      "True\n"
     ]
    }
   ],
   "source": [
    "# end of the class assignment \n",
    "# implement a function that evaluates whether a word is a palindrome\n",
    "def is_palindrome(s):\n",
    "    '''\n",
    "    evaluates whether a given string is a palindrome\n",
    "    returns True if so and false other wise\n",
    "    '''\n",
    "    reverse = s[::-1]\n",
    "    if s == reverse: \n",
    "        return True\n",
    "    else:\n",
    "        return False\n",
    "\n",
    "print(is_palindrome('radar'))\n",
    "    "
   ]
  },
  {
   "cell_type": "markdown",
   "metadata": {},
   "source": [
    "Good resources for list comprehension:\n",
    "- [Datacamp Tutorial](https://www.datacamp.com/community/tutorials/python-list-comprehension)\n",
    "- [Map filter reduce python documentation](http://book.pythontips.com/en/latest/map_filter.html)"
   ]
  }
 ],
 "metadata": {
  "kernelspec": {
   "display_name": "Python 3",
   "language": "python",
   "name": "python3"
  },
  "language_info": {
   "codemirror_mode": {
    "name": "ipython",
    "version": 3
   },
   "file_extension": ".py",
   "mimetype": "text/x-python",
   "name": "python",
   "nbconvert_exporter": "python",
   "pygments_lexer": "ipython3",
   "version": "3.6.6"
  }
 },
 "nbformat": 4,
 "nbformat_minor": 2
}
