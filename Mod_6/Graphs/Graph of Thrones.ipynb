{
 "cells": [
  {
   "cell_type": "code",
   "execution_count": 2,
   "metadata": {},
   "outputs": [
    {
     "name": "stdout",
     "output_type": "stream",
     "text": [
      "Requirement already satisfied: networkx in /Users/kylebaranko/anaconda3/envs/learn-env/lib/python3.6/site-packages (2.2)\n",
      "Requirement already satisfied: decorator>=4.3.0 in /Users/kylebaranko/anaconda3/envs/learn-env/lib/python3.6/site-packages (from networkx) (4.3.0)\n",
      "\u001b[31mtensorboard 1.6.0 has requirement bleach==1.5.0, but you'll have bleach 3.1.0 which is incompatible.\u001b[0m\n",
      "\u001b[31mimbalanced-learn 0.5.0 has requirement scikit-learn>=0.21, but you'll have scikit-learn 0.20.2 which is incompatible.\u001b[0m\n",
      "\u001b[33mYou are using pip version 10.0.1, however version 19.3.1 is available.\n",
      "You should consider upgrading via the 'pip install --upgrade pip' command.\u001b[0m\n"
     ]
    }
   ],
   "source": [
    "!pip install networkx"
   ]
  },
  {
   "cell_type": "code",
   "execution_count": 3,
   "metadata": {},
   "outputs": [],
   "source": [
    "# Base imports\n",
    "import pandas as pd\n",
    "import networkx as nx\n",
    "import matplotlib.pyplot as plt\n",
    "# Classifier imports\n",
    "from sklearn.preprocessing import StandardScaler\n",
    "from sklearn.model_selection import train_test_split\n",
    "from sklearn.metrics import f1_score\n",
    "from sklearn.ensemble import RandomForestClassifier\n",
    "from sklearn.linear_model import LogisticRegression\n",
    "from sklearn.neural_network import MLPClassifier\n",
    "from sklearn.neighbors import KNeighborsClassifier\n",
    "from sklearn.svm import SVC"
   ]
  },
  {
   "cell_type": "markdown",
   "metadata": {},
   "source": [
    "# Graph of Thrones"
   ]
  },
  {
   "cell_type": "markdown",
   "metadata": {},
   "source": [
    "Let's take a look at a dataset containing the characters that appear in G.R.R Martin's epic fantasy series *A Song of Ice and Fire*. Can we predict who lives and dies in the first book based on a character's Allegiance, Gender, Nobility and the chapter in which they are introduced? "
   ]
  },
  {
   "cell_type": "code",
   "execution_count": 4,
   "metadata": {},
   "outputs": [
    {
     "data": {
      "text/plain": [
       "['Addam Marbrand',\n",
       " 'Aegon I Targaryen',\n",
       " 'Aemon Targaryen (Maester Aemon)',\n",
       " 'Aerys II Targaryen',\n",
       " 'Aggo']"
      ]
     },
     "execution_count": 4,
     "metadata": {},
     "output_type": "execute_result"
    }
   ],
   "source": [
    "# Get a list of characters from the first book, print the first 5\n",
    "characters =[]\n",
    "with open('data/asoiaf-book1-nodes.csv') as f: [characters.append(line.split(',')[1].strip()) for line in f]\n",
    "characters.pop(0) # pop out the label\n",
    "characters[:5]"
   ]
  },
  {
   "cell_type": "code",
   "execution_count": 5,
   "metadata": {},
   "outputs": [
    {
     "data": {
      "text/html": [
       "<div>\n",
       "<style scoped>\n",
       "    .dataframe tbody tr th:only-of-type {\n",
       "        vertical-align: middle;\n",
       "    }\n",
       "\n",
       "    .dataframe tbody tr th {\n",
       "        vertical-align: top;\n",
       "    }\n",
       "\n",
       "    .dataframe thead th {\n",
       "        text-align: right;\n",
       "    }\n",
       "</style>\n",
       "<table border=\"1\" class=\"dataframe\">\n",
       "  <thead>\n",
       "    <tr style=\"text-align: right;\">\n",
       "      <th></th>\n",
       "      <th>Name</th>\n",
       "      <th>Allegiances</th>\n",
       "      <th>Death Year</th>\n",
       "      <th>Book of Death</th>\n",
       "      <th>Death Chapter</th>\n",
       "      <th>Book Intro Chapter</th>\n",
       "      <th>Gender</th>\n",
       "      <th>Nobility</th>\n",
       "      <th>GoT</th>\n",
       "      <th>CoK</th>\n",
       "      <th>SoS</th>\n",
       "      <th>FfC</th>\n",
       "      <th>DwD</th>\n",
       "    </tr>\n",
       "  </thead>\n",
       "  <tbody>\n",
       "    <tr>\n",
       "      <th>0</th>\n",
       "      <td>Addam Marbrand</td>\n",
       "      <td>Lannister</td>\n",
       "      <td>NaN</td>\n",
       "      <td>NaN</td>\n",
       "      <td>NaN</td>\n",
       "      <td>56.0</td>\n",
       "      <td>1</td>\n",
       "      <td>1</td>\n",
       "      <td>1</td>\n",
       "      <td>1</td>\n",
       "      <td>1</td>\n",
       "      <td>1</td>\n",
       "      <td>0</td>\n",
       "    </tr>\n",
       "    <tr>\n",
       "      <th>1</th>\n",
       "      <td>Aegon Frey (Jinglebell)</td>\n",
       "      <td>None</td>\n",
       "      <td>299.0</td>\n",
       "      <td>3.0</td>\n",
       "      <td>51.0</td>\n",
       "      <td>49.0</td>\n",
       "      <td>1</td>\n",
       "      <td>1</td>\n",
       "      <td>0</td>\n",
       "      <td>0</td>\n",
       "      <td>1</td>\n",
       "      <td>0</td>\n",
       "      <td>0</td>\n",
       "    </tr>\n",
       "    <tr>\n",
       "      <th>2</th>\n",
       "      <td>Aegon Targaryen</td>\n",
       "      <td>House Targaryen</td>\n",
       "      <td>NaN</td>\n",
       "      <td>NaN</td>\n",
       "      <td>NaN</td>\n",
       "      <td>5.0</td>\n",
       "      <td>1</td>\n",
       "      <td>1</td>\n",
       "      <td>0</td>\n",
       "      <td>0</td>\n",
       "      <td>0</td>\n",
       "      <td>0</td>\n",
       "      <td>1</td>\n",
       "    </tr>\n",
       "    <tr>\n",
       "      <th>3</th>\n",
       "      <td>Adrack Humble</td>\n",
       "      <td>House Greyjoy</td>\n",
       "      <td>300.0</td>\n",
       "      <td>5.0</td>\n",
       "      <td>20.0</td>\n",
       "      <td>20.0</td>\n",
       "      <td>1</td>\n",
       "      <td>1</td>\n",
       "      <td>0</td>\n",
       "      <td>0</td>\n",
       "      <td>0</td>\n",
       "      <td>0</td>\n",
       "      <td>1</td>\n",
       "    </tr>\n",
       "    <tr>\n",
       "      <th>4</th>\n",
       "      <td>Aemon Costayne</td>\n",
       "      <td>Lannister</td>\n",
       "      <td>NaN</td>\n",
       "      <td>NaN</td>\n",
       "      <td>NaN</td>\n",
       "      <td>NaN</td>\n",
       "      <td>1</td>\n",
       "      <td>1</td>\n",
       "      <td>0</td>\n",
       "      <td>0</td>\n",
       "      <td>1</td>\n",
       "      <td>0</td>\n",
       "      <td>0</td>\n",
       "    </tr>\n",
       "  </tbody>\n",
       "</table>\n",
       "</div>"
      ],
      "text/plain": [
       "                      Name      Allegiances  Death Year  Book of Death  \\\n",
       "0           Addam Marbrand        Lannister         NaN            NaN   \n",
       "1  Aegon Frey (Jinglebell)             None       299.0            3.0   \n",
       "2          Aegon Targaryen  House Targaryen         NaN            NaN   \n",
       "3            Adrack Humble    House Greyjoy       300.0            5.0   \n",
       "4           Aemon Costayne        Lannister         NaN            NaN   \n",
       "\n",
       "   Death Chapter  Book Intro Chapter  Gender  Nobility  GoT  CoK  SoS  FfC  \\\n",
       "0            NaN                56.0       1         1    1    1    1    1   \n",
       "1           51.0                49.0       1         1    0    0    1    0   \n",
       "2            NaN                 5.0       1         1    0    0    0    0   \n",
       "3           20.0                20.0       1         1    0    0    0    0   \n",
       "4            NaN                 NaN       1         1    0    0    1    0   \n",
       "\n",
       "   DwD  \n",
       "0    0  \n",
       "1    0  \n",
       "2    1  \n",
       "3    1  \n",
       "4    0  "
      ]
     },
     "execution_count": 5,
     "metadata": {},
     "output_type": "execute_result"
    }
   ],
   "source": [
    "# Read in data regarding deaths\n",
    "death_df = pd.read_csv('data/character-deaths.csv')\n",
    "death_df.head()"
   ]
  },
  {
   "cell_type": "code",
   "execution_count": 6,
   "metadata": {},
   "outputs": [],
   "source": [
    "# Create target variable\n",
    "death_df['Dead'] = death_df['Death Year'].apply(lambda x: 1 if x==x else 0)"
   ]
  },
  {
   "cell_type": "code",
   "execution_count": 7,
   "metadata": {},
   "outputs": [
    {
     "name": "stdout",
     "output_type": "stream",
     "text": [
      "Total Characters: 917, First Book Characters: 156\n"
     ]
    }
   ],
   "source": [
    "# Compare count of Characters in each set\n",
    "print(f\"\"\"Total Characters: {len(death_df)}, First Book Characters: {len(death_df.query(f'Name in {characters}'))}\"\"\")"
   ]
  },
  {
   "cell_type": "code",
   "execution_count": 8,
   "metadata": {},
   "outputs": [
    {
     "data": {
      "text/html": [
       "<div>\n",
       "<style scoped>\n",
       "    .dataframe tbody tr th:only-of-type {\n",
       "        vertical-align: middle;\n",
       "    }\n",
       "\n",
       "    .dataframe tbody tr th {\n",
       "        vertical-align: top;\n",
       "    }\n",
       "\n",
       "    .dataframe thead th {\n",
       "        text-align: right;\n",
       "    }\n",
       "</style>\n",
       "<table border=\"1\" class=\"dataframe\">\n",
       "  <thead>\n",
       "    <tr style=\"text-align: right;\">\n",
       "      <th></th>\n",
       "      <th>Name</th>\n",
       "      <th>Allegiances</th>\n",
       "      <th>Death Year</th>\n",
       "      <th>Book of Death</th>\n",
       "      <th>Death Chapter</th>\n",
       "      <th>Book Intro Chapter</th>\n",
       "      <th>Gender</th>\n",
       "      <th>Nobility</th>\n",
       "      <th>GoT</th>\n",
       "      <th>CoK</th>\n",
       "      <th>SoS</th>\n",
       "      <th>FfC</th>\n",
       "      <th>DwD</th>\n",
       "      <th>Dead</th>\n",
       "    </tr>\n",
       "  </thead>\n",
       "  <tbody>\n",
       "    <tr>\n",
       "      <th>0</th>\n",
       "      <td>Addam Marbrand</td>\n",
       "      <td>Lannister</td>\n",
       "      <td>NaN</td>\n",
       "      <td>NaN</td>\n",
       "      <td>NaN</td>\n",
       "      <td>56.0</td>\n",
       "      <td>1</td>\n",
       "      <td>1</td>\n",
       "      <td>1</td>\n",
       "      <td>1</td>\n",
       "      <td>1</td>\n",
       "      <td>1</td>\n",
       "      <td>0</td>\n",
       "      <td>0</td>\n",
       "    </tr>\n",
       "    <tr>\n",
       "      <th>1</th>\n",
       "      <td>Aggo</td>\n",
       "      <td>House Targaryen</td>\n",
       "      <td>NaN</td>\n",
       "      <td>NaN</td>\n",
       "      <td>NaN</td>\n",
       "      <td>54.0</td>\n",
       "      <td>1</td>\n",
       "      <td>0</td>\n",
       "      <td>1</td>\n",
       "      <td>1</td>\n",
       "      <td>1</td>\n",
       "      <td>0</td>\n",
       "      <td>1</td>\n",
       "      <td>0</td>\n",
       "    </tr>\n",
       "    <tr>\n",
       "      <th>2</th>\n",
       "      <td>Albett</td>\n",
       "      <td>Night's Watch</td>\n",
       "      <td>NaN</td>\n",
       "      <td>NaN</td>\n",
       "      <td>NaN</td>\n",
       "      <td>26.0</td>\n",
       "      <td>1</td>\n",
       "      <td>0</td>\n",
       "      <td>1</td>\n",
       "      <td>0</td>\n",
       "      <td>0</td>\n",
       "      <td>0</td>\n",
       "      <td>0</td>\n",
       "      <td>0</td>\n",
       "    </tr>\n",
       "    <tr>\n",
       "      <th>3</th>\n",
       "      <td>Alliser Thorne</td>\n",
       "      <td>Night's Watch</td>\n",
       "      <td>NaN</td>\n",
       "      <td>NaN</td>\n",
       "      <td>NaN</td>\n",
       "      <td>19.0</td>\n",
       "      <td>1</td>\n",
       "      <td>0</td>\n",
       "      <td>1</td>\n",
       "      <td>1</td>\n",
       "      <td>1</td>\n",
       "      <td>0</td>\n",
       "      <td>1</td>\n",
       "      <td>0</td>\n",
       "    </tr>\n",
       "    <tr>\n",
       "      <th>4</th>\n",
       "      <td>Alyn</td>\n",
       "      <td>House Stark</td>\n",
       "      <td>298.0</td>\n",
       "      <td>3.0</td>\n",
       "      <td>34.0</td>\n",
       "      <td>12.0</td>\n",
       "      <td>1</td>\n",
       "      <td>0</td>\n",
       "      <td>1</td>\n",
       "      <td>0</td>\n",
       "      <td>0</td>\n",
       "      <td>0</td>\n",
       "      <td>0</td>\n",
       "      <td>1</td>\n",
       "    </tr>\n",
       "  </tbody>\n",
       "</table>\n",
       "</div>"
      ],
      "text/plain": [
       "             Name      Allegiances  Death Year  Book of Death  Death Chapter  \\\n",
       "0  Addam Marbrand        Lannister         NaN            NaN            NaN   \n",
       "1            Aggo  House Targaryen         NaN            NaN            NaN   \n",
       "2          Albett    Night's Watch         NaN            NaN            NaN   \n",
       "3  Alliser Thorne    Night's Watch         NaN            NaN            NaN   \n",
       "4            Alyn      House Stark       298.0            3.0           34.0   \n",
       "\n",
       "   Book Intro Chapter  Gender  Nobility  GoT  CoK  SoS  FfC  DwD  Dead  \n",
       "0                56.0       1         1    1    1    1    1    0     0  \n",
       "1                54.0       1         0    1    1    1    0    1     0  \n",
       "2                26.0       1         0    1    0    0    0    0     0  \n",
       "3                19.0       1         0    1    1    1    0    1     0  \n",
       "4                12.0       1         0    1    0    0    0    0     1  "
      ]
     },
     "execution_count": 8,
     "metadata": {},
     "output_type": "execute_result"
    }
   ],
   "source": [
    "# Grab death data from Characters in the first book\n",
    "first_deaths = death_df.query(f'Name in {characters}').reset_index(drop=True)\n",
    "first_deaths.head()"
   ]
  },
  {
   "cell_type": "code",
   "execution_count": 9,
   "metadata": {},
   "outputs": [
    {
     "data": {
      "text/html": [
       "<div>\n",
       "<style scoped>\n",
       "    .dataframe tbody tr th:only-of-type {\n",
       "        vertical-align: middle;\n",
       "    }\n",
       "\n",
       "    .dataframe tbody tr th {\n",
       "        vertical-align: top;\n",
       "    }\n",
       "\n",
       "    .dataframe thead th {\n",
       "        text-align: right;\n",
       "    }\n",
       "</style>\n",
       "<table border=\"1\" class=\"dataframe\">\n",
       "  <thead>\n",
       "    <tr style=\"text-align: right;\">\n",
       "      <th></th>\n",
       "      <th>Name</th>\n",
       "      <th>Book Intro Chapter</th>\n",
       "      <th>Gender</th>\n",
       "      <th>Nobility</th>\n",
       "      <th>Dead</th>\n",
       "      <th>allegiance_Baratheon</th>\n",
       "      <th>allegiance_House Arryn</th>\n",
       "      <th>allegiance_House Baratheon</th>\n",
       "      <th>allegiance_House Greyjoy</th>\n",
       "      <th>allegiance_House Lannister</th>\n",
       "      <th>...</th>\n",
       "      <th>allegiance_House Tully</th>\n",
       "      <th>allegiance_House Tyrell</th>\n",
       "      <th>allegiance_Lannister</th>\n",
       "      <th>allegiance_Night's Watch</th>\n",
       "      <th>allegiance_None</th>\n",
       "      <th>allegiance_Stark</th>\n",
       "      <th>allegiance_Targaryen</th>\n",
       "      <th>allegiance_Tully</th>\n",
       "      <th>allegiance_Tyrell</th>\n",
       "      <th>allegiance_Wildling</th>\n",
       "    </tr>\n",
       "  </thead>\n",
       "  <tbody>\n",
       "    <tr>\n",
       "      <th>0</th>\n",
       "      <td>Addam Marbrand</td>\n",
       "      <td>56.0</td>\n",
       "      <td>1</td>\n",
       "      <td>1</td>\n",
       "      <td>0</td>\n",
       "      <td>0</td>\n",
       "      <td>0</td>\n",
       "      <td>0</td>\n",
       "      <td>0</td>\n",
       "      <td>0</td>\n",
       "      <td>...</td>\n",
       "      <td>0</td>\n",
       "      <td>0</td>\n",
       "      <td>1</td>\n",
       "      <td>0</td>\n",
       "      <td>0</td>\n",
       "      <td>0</td>\n",
       "      <td>0</td>\n",
       "      <td>0</td>\n",
       "      <td>0</td>\n",
       "      <td>0</td>\n",
       "    </tr>\n",
       "    <tr>\n",
       "      <th>1</th>\n",
       "      <td>Aggo</td>\n",
       "      <td>54.0</td>\n",
       "      <td>1</td>\n",
       "      <td>0</td>\n",
       "      <td>0</td>\n",
       "      <td>0</td>\n",
       "      <td>0</td>\n",
       "      <td>0</td>\n",
       "      <td>0</td>\n",
       "      <td>0</td>\n",
       "      <td>...</td>\n",
       "      <td>0</td>\n",
       "      <td>0</td>\n",
       "      <td>0</td>\n",
       "      <td>0</td>\n",
       "      <td>0</td>\n",
       "      <td>0</td>\n",
       "      <td>0</td>\n",
       "      <td>0</td>\n",
       "      <td>0</td>\n",
       "      <td>0</td>\n",
       "    </tr>\n",
       "    <tr>\n",
       "      <th>2</th>\n",
       "      <td>Albett</td>\n",
       "      <td>26.0</td>\n",
       "      <td>1</td>\n",
       "      <td>0</td>\n",
       "      <td>0</td>\n",
       "      <td>0</td>\n",
       "      <td>0</td>\n",
       "      <td>0</td>\n",
       "      <td>0</td>\n",
       "      <td>0</td>\n",
       "      <td>...</td>\n",
       "      <td>0</td>\n",
       "      <td>0</td>\n",
       "      <td>0</td>\n",
       "      <td>1</td>\n",
       "      <td>0</td>\n",
       "      <td>0</td>\n",
       "      <td>0</td>\n",
       "      <td>0</td>\n",
       "      <td>0</td>\n",
       "      <td>0</td>\n",
       "    </tr>\n",
       "    <tr>\n",
       "      <th>3</th>\n",
       "      <td>Alliser Thorne</td>\n",
       "      <td>19.0</td>\n",
       "      <td>1</td>\n",
       "      <td>0</td>\n",
       "      <td>0</td>\n",
       "      <td>0</td>\n",
       "      <td>0</td>\n",
       "      <td>0</td>\n",
       "      <td>0</td>\n",
       "      <td>0</td>\n",
       "      <td>...</td>\n",
       "      <td>0</td>\n",
       "      <td>0</td>\n",
       "      <td>0</td>\n",
       "      <td>1</td>\n",
       "      <td>0</td>\n",
       "      <td>0</td>\n",
       "      <td>0</td>\n",
       "      <td>0</td>\n",
       "      <td>0</td>\n",
       "      <td>0</td>\n",
       "    </tr>\n",
       "    <tr>\n",
       "      <th>4</th>\n",
       "      <td>Alyn</td>\n",
       "      <td>12.0</td>\n",
       "      <td>1</td>\n",
       "      <td>0</td>\n",
       "      <td>1</td>\n",
       "      <td>0</td>\n",
       "      <td>0</td>\n",
       "      <td>0</td>\n",
       "      <td>0</td>\n",
       "      <td>0</td>\n",
       "      <td>...</td>\n",
       "      <td>0</td>\n",
       "      <td>0</td>\n",
       "      <td>0</td>\n",
       "      <td>0</td>\n",
       "      <td>0</td>\n",
       "      <td>0</td>\n",
       "      <td>0</td>\n",
       "      <td>0</td>\n",
       "      <td>0</td>\n",
       "      <td>0</td>\n",
       "    </tr>\n",
       "  </tbody>\n",
       "</table>\n",
       "<p>5 rows × 22 columns</p>\n",
       "</div>"
      ],
      "text/plain": [
       "             Name  Book Intro Chapter  Gender  Nobility  Dead  \\\n",
       "0  Addam Marbrand                56.0       1         1     0   \n",
       "1            Aggo                54.0       1         0     0   \n",
       "2          Albett                26.0       1         0     0   \n",
       "3  Alliser Thorne                19.0       1         0     0   \n",
       "4            Alyn                12.0       1         0     1   \n",
       "\n",
       "   allegiance_Baratheon  allegiance_House Arryn  allegiance_House Baratheon  \\\n",
       "0                     0                       0                           0   \n",
       "1                     0                       0                           0   \n",
       "2                     0                       0                           0   \n",
       "3                     0                       0                           0   \n",
       "4                     0                       0                           0   \n",
       "\n",
       "   allegiance_House Greyjoy  allegiance_House Lannister         ...           \\\n",
       "0                         0                           0         ...            \n",
       "1                         0                           0         ...            \n",
       "2                         0                           0         ...            \n",
       "3                         0                           0         ...            \n",
       "4                         0                           0         ...            \n",
       "\n",
       "   allegiance_House Tully  allegiance_House Tyrell  allegiance_Lannister  \\\n",
       "0                       0                        0                     1   \n",
       "1                       0                        0                     0   \n",
       "2                       0                        0                     0   \n",
       "3                       0                        0                     0   \n",
       "4                       0                        0                     0   \n",
       "\n",
       "   allegiance_Night's Watch  allegiance_None  allegiance_Stark  \\\n",
       "0                         0                0                 0   \n",
       "1                         0                0                 0   \n",
       "2                         1                0                 0   \n",
       "3                         1                0                 0   \n",
       "4                         0                0                 0   \n",
       "\n",
       "   allegiance_Targaryen  allegiance_Tully  allegiance_Tyrell  \\\n",
       "0                     0                 0                  0   \n",
       "1                     0                 0                  0   \n",
       "2                     0                 0                  0   \n",
       "3                     0                 0                  0   \n",
       "4                     0                 0                  0   \n",
       "\n",
       "   allegiance_Wildling  \n",
       "0                    0  \n",
       "1                    0  \n",
       "2                    0  \n",
       "3                    0  \n",
       "4                    0  \n",
       "\n",
       "[5 rows x 22 columns]"
      ]
     },
     "execution_count": 9,
     "metadata": {},
     "output_type": "execute_result"
    }
   ],
   "source": [
    "# Grab relevant features and one hot encode categorical data (Allegiances)\n",
    "features = ['Name','Book Intro Chapter','Gender','Nobility','Dead']\n",
    "df=pd.concat([first_deaths[features],pd.get_dummies(first_deaths['Allegiances'], prefix='allegiance',drop_first=True)],axis=1)\n",
    "df.head()\n"
   ]
  },
  {
   "cell_type": "code",
   "execution_count": 10,
   "metadata": {},
   "outputs": [
    {
     "data": {
      "image/png": "[encoded data removed]",
      "text/plain": [
       "<Figure size 432x288 with 1 Axes>"
      ]
     },
     "metadata": {
      "needs_background": "light"
     },
     "output_type": "display_data"
    }
   ],
   "source": [
    "# Explore the balance of our target class\n",
    "plt.bar(['Not Dead','Dead'],df.Dead.value_counts());"
   ]
  },
  {
   "cell_type": "markdown",
   "metadata": {},
   "source": [
    "## Predicting Death\n",
    "\n",
    "### Tabular Data\n",
    ">*Valar Morghulis* (All Men must die) -- A Clash of Kings"
   ]
  },
  {
   "cell_type": "code",
   "execution_count": 11,
   "metadata": {},
   "outputs": [],
   "source": [
    "# Try a collection of classifiers\n",
    "names = [\"Nearest Neighbors\", \"Linear SVM\", \"RBF SVM\", \"Random Forest\", \"Neural Net\",\"Logistic Regression\"]\n",
    "\n",
    "classifiers = [\n",
    "    KNeighborsClassifier(3),\n",
    "    SVC(kernel=\"linear\", C=0.025, random_state=42),\n",
    "    SVC(gamma=2, C=1, random_state=42),\n",
    "    RandomForestClassifier(max_depth=5, n_estimators=10, max_features=3,random_state=42),\n",
    "    MLPClassifier(alpha=1, max_iter=1000, random_state=42),\n",
    "    LogisticRegression(solver='liblinear', random_state=42)]"
   ]
  },
  {
   "cell_type": "code",
   "execution_count": 12,
   "metadata": {},
   "outputs": [
    {
     "name": "stderr",
     "output_type": "stream",
     "text": [
      "/Users/kylebaranko/anaconda3/envs/learn-env/lib/python3.6/site-packages/sklearn/preprocessing/data.py:625: DataConversionWarning: Data with input dtype uint8, int64, float64 were all converted to float64 by StandardScaler.\n",
      "  return self.partial_fit(X, y)\n",
      "/Users/kylebaranko/anaconda3/envs/learn-env/lib/python3.6/site-packages/sklearn/base.py:462: DataConversionWarning: Data with input dtype uint8, int64, float64 were all converted to float64 by StandardScaler.\n",
      "  return self.fit(X, **fit_params).transform(X)\n",
      "/Users/kylebaranko/anaconda3/envs/learn-env/lib/python3.6/site-packages/ipykernel_launcher.py:6: DataConversionWarning: Data with input dtype uint8, int64, float64 were all converted to float64 by StandardScaler.\n",
      "  \n"
     ]
    }
   ],
   "source": [
    "# Prepare data\n",
    "X, y = df.drop(['Name','Dead'],axis=1), df['Dead']\n",
    "X_train, X_test, y_train, y_test = \\\n",
    "        train_test_split(X, y, test_size=.2, random_state=42)\n",
    "scaler = StandardScaler()\n",
    "X_train = scaler.fit_transform(X_train)\n",
    "X_test = scaler.transform(X_test)"
   ]
  },
  {
   "cell_type": "code",
   "execution_count": 13,
   "metadata": {
    "scrolled": false
   },
   "outputs": [
    {
     "name": "stdout",
     "output_type": "stream",
     "text": [
      "Base F1 Score for Nearest Neighbors: 0.48\n",
      "Base F1 Score for Linear SVM: 0.47\n",
      "Base F1 Score for RBF SVM: 0.38\n",
      "Base F1 Score for Random Forest: 0.33\n",
      "Base F1 Score for Neural Net: 0.47\n",
      "Base F1 Score for Logistic Regression: 0.37\n"
     ]
    }
   ],
   "source": [
    "# Untuned classifiers\n",
    "for name, clf in zip(names, classifiers):\n",
    "    clf.fit(X_train, y_train)\n",
    "    print(f'Base F1 Score for {name}: {f1_score(y_test, clf.predict(X_test)):.2f}')"
   ]
  },
  {
   "cell_type": "markdown",
   "metadata": {},
   "source": [
    "We now have some baseline scores for models built solely on tabular data."
   ]
  },
  {
   "cell_type": "markdown",
   "metadata": {},
   "source": [
    "### Graph Data\n",
    ">Every Man must die, but first He must live. -- Storm of Swords\n",
    "\n",
    "Let's see if we can capture more information about these characters based on their interactions with each other."
   ]
  },
  {
   "cell_type": "code",
   "execution_count": 14,
   "metadata": {},
   "outputs": [],
   "source": [
    "# Import graph database\n",
    "book1_df = pd.read_csv('data/asoiaf-book1-edges.csv')\n",
    "G1 = nx.Graph()\n",
    "for row in book1_df.iterrows():\n",
    "    G1.add_edge(row[1]['Source'].replace('-',' '), row[1]['Target'].replace('-',' '), weight=row[1]['weight'])"
   ]
  },
  {
   "cell_type": "markdown",
   "metadata": {},
   "source": [
    "#### EDA\n",
    "What information do the edge weights capture?"
   ]
  },
  {
   "cell_type": "code",
   "execution_count": 15,
   "metadata": {},
   "outputs": [
    {
     "data": {
      "text/plain": [
       "{'weight': 56}"
      ]
     },
     "execution_count": 15,
     "metadata": {},
     "output_type": "execute_result"
    }
   ],
   "source": [
    "# Inspect relationship/edge\n",
    "G1.get_edge_data('Tyrion Lannister','Jon Snow')"
   ]
  },
  {
   "cell_type": "markdown",
   "metadata": {},
   "source": [
    "We have created a network with characters as **Nodes** connected by **Weighted Edges** where the weight corresponds to the amount of dialogue exchanged with each other in the first book. Is this directed or undirected?"
   ]
  },
  {
   "cell_type": "code",
   "execution_count": 16,
   "metadata": {},
   "outputs": [
    {
     "name": "stderr",
     "output_type": "stream",
     "text": [
      "/Users/kylebaranko/anaconda3/envs/learn-env/lib/python3.6/site-packages/networkx/drawing/nx_pylab.py:611: MatplotlibDeprecationWarning: isinstance(..., numbers.Number)\n",
      "  if cb.is_numlike(alpha):\n"
     ]
    },
    {
     "data": {
      "image/png": "[encoded data removed]",
      "text/plain": [
       "<Figure size 864x864 with 1 Axes>"
      ]
     },
     "metadata": {},
     "output_type": "display_data"
    }
   ],
   "source": [
    "# Visualize a sample of the graph\n",
    "plt.figure(figsize=(12,12))\n",
    "nx.draw(G1.subgraph(df.sample(n=50, random_state=42).Name), with_labels=True, font_weight='bold', pos=nx.spring_layout(G1))\n",
    "plt.draw()"
   ]
  },
  {
   "cell_type": "markdown",
   "metadata": {},
   "source": [
    "What does the distribution of weights on the edges look like?"
   ]
  },
  {
   "cell_type": "code",
   "execution_count": 17,
   "metadata": {
    "scrolled": true
   },
   "outputs": [],
   "source": [
    "wts=[]\n",
    "relationships=[]\n",
    "# Loop through each node and its adjacent nodes and capture its weight \n",
    "for n, nbrs in G1.adj.items():\n",
    "    for nbr, eattr in nbrs.items():\n",
    "        wt = eattr['weight']\n",
    "        wts.append(wt)\n",
    "        relationships.append((wt,n,nbr))"
   ]
  },
  {
   "cell_type": "code",
   "execution_count": 18,
   "metadata": {},
   "outputs": [
    {
     "data": {
      "text/plain": [
       "[(291, 'Eddard Stark', 'Robert Baratheon'),\n",
       " (112, 'Bran Stark', 'Robb Stark'),\n",
       " (104, 'Arya Stark', 'Sansa Stark'),\n",
       " (101, 'Daenerys Targaryen', 'Drogo'),\n",
       " (87, 'Joffrey Baratheon', 'Sansa Stark')]"
      ]
     },
     "execution_count": 18,
     "metadata": {},
     "output_type": "execute_result"
    }
   ],
   "source": [
    "# Examine weighted relationship, skip every other one (undirected relationship)\n",
    "sorted(relationships,key=(lambda x: x[0]),reverse=True)[:10:2]"
   ]
  },
  {
   "cell_type": "code",
   "execution_count": 19,
   "metadata": {},
   "outputs": [
    {
     "data": {
      "image/png": "[encoded data removed]",
      "text/plain": [
       "<Figure size 432x288 with 1 Axes>"
      ]
     },
     "metadata": {
      "needs_background": "light"
     },
     "output_type": "display_data"
    }
   ],
   "source": [
    "# Plot distribution of weights\n",
    "plt.hist(wts);"
   ]
  },
  {
   "cell_type": "markdown",
   "metadata": {},
   "source": [
    "### Graph Algorithms\n",
    "\n",
    "Using Graph Theory, let us create some metrics from our network to augment the tabular data used in the models earlier.\n",
    "\n",
    "#### Degree (number of connections normalized by number of possible connections)\n"
   ]
  },
  {
   "cell_type": "code",
   "execution_count": 20,
   "metadata": {},
   "outputs": [],
   "source": [
    "# Calculate degree and assign it to each node\n",
    "for name, degree in nx.degree_centrality(G1).items():\n",
    "    G1.nodes[name]['degree']=degree"
   ]
  },
  {
   "cell_type": "code",
   "execution_count": 21,
   "metadata": {},
   "outputs": [
    {
     "data": {
      "text/plain": [
       "{'degree': 0.24731182795698928}"
      ]
     },
     "execution_count": 21,
     "metadata": {},
     "output_type": "execute_result"
    }
   ],
   "source": [
    "G1.nodes['Tyrion Lannister']"
   ]
  },
  {
   "cell_type": "code",
   "execution_count": 22,
   "metadata": {},
   "outputs": [
    {
     "data": {
      "text/plain": [
       "{'degree': 0.010752688172043012}"
      ]
     },
     "execution_count": 22,
     "metadata": {},
     "output_type": "execute_result"
    }
   ],
   "source": [
    "G1.nodes['Hosteen Frey']"
   ]
  },
  {
   "cell_type": "markdown",
   "metadata": {},
   "source": [
    "#### Label propagation (community detection algorithm akin to KNN)"
   ]
  },
  {
   "cell_type": "code",
   "execution_count": 23,
   "metadata": {
    "scrolled": true
   },
   "outputs": [
    {
     "name": "stdout",
     "output_type": "stream",
     "text": [
      "Community 0: {'Gared', 'Will (prologue)', 'Waymar Royce'}\n",
      "Community 1: {'Danwell Frey', 'Jared Frey', 'Hosteen Frey'}\n",
      "Community 2: {'Haggo', 'Irri', 'Ogo', 'Fogo', 'Rakharo', 'Eroeh', 'Mirri Maz Duur', 'Illyrio Mopatis', 'Drogo', 'Jorah Mormont', 'Daenerys Targaryen', 'Jhiqui', 'Aggo', 'Jommo', 'Qotho', 'Jhogo', 'Viserys Targaryen', 'Rhaego', 'Doreah', 'Quaro', 'Cohollo'}\n",
      "Community 3: {'Morrec', 'Jyck'}\n",
      "Community 4: {'Mace Tyrell', 'Paxter Redwyne'}\n",
      "Community 5: {'Halder', 'Randyll Tarly', 'Dywen', 'Donal Noye', 'Rast', 'Jaremy Rykker', 'Hobb', 'Chett', 'Todder', 'Jon Snow', 'Pypar', 'Alliser Thorne', 'Clydas', 'Jeor Mormont', 'Dareon', 'Samwell Tarly', 'Albett', 'Bowen Marsh', 'Grenn', 'Aemon Targaryen (Maester Aemon)', 'Matthar', 'Othor', 'Jafer Flowers'}\n",
      "Community 6: {'Coratt', 'Conn'}\n",
      "Community 7: {'Shagga', 'Timett', 'Ulf son of Umar', 'Dolf'}\n",
      "Community 8: {'Rickard Stark', 'Loras Tyrell', 'Stiv', 'Yoren', 'Janos Slynt', 'Beric Dondarrion', 'Jacks', 'Myrcella Baratheon', 'Oswell Whent', 'Arya Stark', 'Meryn Trant', 'Mordane', 'Nestor Royce', 'Sandor Clegane', 'Gerold Hightower', 'Eddard Stark', 'Rickon Stark', 'Jon Umber (Greatjon)', 'Petyr Baelish', 'Moreo Tumitis', 'Tobho Mott', 'Tywin Lannister', 'Jory Cassel', 'Kurleket', 'Maegor I Targaryen', 'Addam Marbrand', 'Bran Stark', 'Stevron Frey', 'Barristan Selmy', 'Leo Lefford', 'Wyl (guard)', 'Tregar', 'Colemon', 'Stannis Baratheon', 'Hugh', 'Vayon Poole', 'Thoros of Myr', 'Sansa Stark', 'Galbart Glover', 'Robert Baratheon', 'Gendry', 'Shae', 'Joss', 'Lyn Corbray', 'Jaime Lannister', 'Bronn', 'Harys Swyft', 'Daryn Hornwood', 'Chella', 'Masha Heddle', 'Wylla', 'Mord', 'Jon Arryn', 'Eon Hunter', 'Lancel Lannister', 'Robert Arryn', 'Hullen', 'Hoster Tully', 'Mance Rayder', 'Tommen Baratheon', 'Porther', 'Chiggen', 'Hallis Mollen', 'Theon Greyjoy', 'Edmure Tully', 'Gregor Clegane', 'Mya Stone', 'Roose Bolton', 'Balon Swann', 'Jonos Bracken', 'High Septon (fat_one)', 'Luwin', 'Osha', 'Joseth', 'Rhaegar Targaryen', 'Jeyne Poole', 'Willis Wode', 'Maege Mormont', 'Joffrey Baratheon', 'Lysa Arryn', 'Rodrik Cassel', 'Aerys II Targaryen', 'Torrhen Karstark', 'Boros Blount', 'Marillion', 'Howland Reed', 'Desmond', 'Wendel Manderly', 'Varys', 'Donnel Waynwood', 'Varly', 'Harwin', 'Pycelle', 'Marq Piper', 'Heward', 'Rickard Karstark', 'Nan', 'Tytos Blackwood', 'Clement Piper', 'Karyl Vance', 'Lyanna Stark', 'Robb Stark', 'Aegon I Targaryen', 'Mycah', 'Hali', 'Brynden Tully', 'Tomard', 'Raymun Darry', 'Benjen Stark', 'Vardis Egen', 'Brandon Stark', 'Arys Oakheart', 'Tyrion Lannister', 'Cersei Lannister', 'Renly Baratheon', 'Arthur Dayne', 'Cayn', 'Hodor', 'Mychel Redfort', 'Syrio Forel', 'Catelyn Stark', 'Kevan Lannister', 'Alyn', 'Ilyn Payne', 'Walder Frey', 'Gunthor son of Gurn', 'Balon Greyjoy'}\n"
     ]
    }
   ],
   "source": [
    "# Assign community label to each node in the community and print out the communities\n",
    "communities=[]\n",
    "for label, community in enumerate(nx.algorithms.community.label_propagation.label_propagation_communities(G1)):\n",
    "    communities.append(community)\n",
    "    print(f'Community {label}: {community}')\n",
    "    for name in community:\n",
    "        G1.nodes[name]['community'] = label"
   ]
  },
  {
   "cell_type": "markdown",
   "metadata": {},
   "source": [
    "What do these communities tell us about the underlying data?"
   ]
  },
  {
   "cell_type": "markdown",
   "metadata": {},
   "source": [
    "#### Centrality"
   ]
  },
  {
   "cell_type": "code",
   "execution_count": 24,
   "metadata": {},
   "outputs": [],
   "source": [
    "# Assign betweenness metric\n",
    "for name, betweenness in nx.betweenness_centrality(G1, weight='weight', seed=42).items():\n",
    "    G1.nodes[name]['betweenness']=betweenness"
   ]
  },
  {
   "cell_type": "code",
   "execution_count": 25,
   "metadata": {},
   "outputs": [
    {
     "data": {
      "text/plain": [
       "{'degree': 0.24731182795698928,\n",
       " 'community': 8,\n",
       " 'betweenness': 0.15311225972516293}"
      ]
     },
     "execution_count": 25,
     "metadata": {},
     "output_type": "execute_result"
    }
   ],
   "source": [
    "G1.nodes['Tyrion Lannister']"
   ]
  },
  {
   "cell_type": "code",
   "execution_count": 26,
   "metadata": {},
   "outputs": [
    {
     "data": {
      "text/plain": [
       "{'degree': 0.010752688172043012, 'community': 1, 'betweenness': 0.0}"
      ]
     },
     "execution_count": 26,
     "metadata": {},
     "output_type": "execute_result"
    }
   ],
   "source": [
    "G1.nodes['Hosteen Frey']"
   ]
  },
  {
   "cell_type": "markdown",
   "metadata": {},
   "source": [
    "What does the betweenness tell us about these two characters?"
   ]
  },
  {
   "cell_type": "code",
   "execution_count": 27,
   "metadata": {},
   "outputs": [],
   "source": [
    "# Assign pagerank\n",
    "for name, rank in nx.pagerank(G1, weight='weight').items():\n",
    "    G1.nodes[name]['rank']=rank"
   ]
  },
  {
   "cell_type": "code",
   "execution_count": 28,
   "metadata": {},
   "outputs": [
    {
     "data": {
      "text/plain": [
       "{'degree': 0.24731182795698928,\n",
       " 'community': 8,\n",
       " 'betweenness': 0.15311225972516293,\n",
       " 'rank': 0.04367631315626212}"
      ]
     },
     "execution_count": 28,
     "metadata": {},
     "output_type": "execute_result"
    }
   ],
   "source": [
    "G1.nodes['Tyrion Lannister']"
   ]
  },
  {
   "cell_type": "code",
   "execution_count": 29,
   "metadata": {},
   "outputs": [
    {
     "data": {
      "text/plain": [
       "{'degree': 0.010752688172043012,\n",
       " 'community': 1,\n",
       " 'betweenness': 0.0,\n",
       " 'rank': 0.0033238798195197603}"
      ]
     },
     "execution_count": 29,
     "metadata": {},
     "output_type": "execute_result"
    }
   ],
   "source": [
    "G1.nodes['Hosteen Frey']"
   ]
  },
  {
   "cell_type": "markdown",
   "metadata": {},
   "source": [
    "What does the pagerank tell us about these two characters?"
   ]
  },
  {
   "cell_type": "markdown",
   "metadata": {},
   "source": [
    "## Augmented Data"
   ]
  },
  {
   "cell_type": "code",
   "execution_count": 30,
   "metadata": {},
   "outputs": [],
   "source": [
    "# Helper function to augment table data\n",
    "def graph_of_thrones(name):\n",
    "    if G1.nodes[name]:\n",
    "        return [G1.nodes[name]['betweenness'], G1.nodes[name]['community'], G1.nodes[name]['rank'], G1.nodes[name]['degree']]\n",
    "    return [None, None, None, None]"
   ]
  },
  {
   "cell_type": "code",
   "execution_count": 31,
   "metadata": {
    "scrolled": true
   },
   "outputs": [
    {
     "data": {
      "text/plain": [
       "Index(['Name', 'Book Intro Chapter', 'Gender', 'Nobility', 'Dead',\n",
       "       'allegiance_Baratheon', 'allegiance_House Arryn',\n",
       "       'allegiance_House Baratheon', 'allegiance_House Greyjoy',\n",
       "       'allegiance_House Lannister', 'allegiance_House Stark',\n",
       "       'allegiance_House Targaryen', 'allegiance_House Tully',\n",
       "       'allegiance_House Tyrell', 'allegiance_Lannister',\n",
       "       'allegiance_Night's Watch', 'allegiance_None', 'allegiance_Stark',\n",
       "       'allegiance_Targaryen', 'allegiance_Tully', 'allegiance_Tyrell',\n",
       "       'allegiance_Wildling', 'Betweenness', 'Community', 'Rank', 'Degree'],\n",
       "      dtype='object')"
      ]
     },
     "execution_count": 31,
     "metadata": {},
     "output_type": "execute_result"
    }
   ],
   "source": [
    "# Add metrics to original DataFrame\n",
    "graph_df = pd.concat([df,pd.DataFrame(df.apply(lambda x: graph_of_thrones(x.Name),axis=1).values.tolist(),columns=['Betweenness','Community','Rank','Degree'])],axis=1)\n",
    "graph_df.columns"
   ]
  },
  {
   "cell_type": "code",
   "execution_count": 32,
   "metadata": {},
   "outputs": [],
   "source": [
    "# Create dummy variables for categorical feature\n",
    "augmented_df=pd.concat([graph_df.drop('Community',axis=1),pd.get_dummies(graph_df['Community'], prefix='community',drop_first=True)],axis=1)"
   ]
  },
  {
   "cell_type": "code",
   "execution_count": 33,
   "metadata": {
    "scrolled": true
   },
   "outputs": [
    {
     "data": {
      "text/html": [
       "<div>\n",
       "<style scoped>\n",
       "    .dataframe tbody tr th:only-of-type {\n",
       "        vertical-align: middle;\n",
       "    }\n",
       "\n",
       "    .dataframe tbody tr th {\n",
       "        vertical-align: top;\n",
       "    }\n",
       "\n",
       "    .dataframe thead th {\n",
       "        text-align: right;\n",
       "    }\n",
       "</style>\n",
       "<table border=\"1\" class=\"dataframe\">\n",
       "  <thead>\n",
       "    <tr style=\"text-align: right;\">\n",
       "      <th></th>\n",
       "      <th>Book Intro Chapter</th>\n",
       "      <th>Gender</th>\n",
       "      <th>Nobility</th>\n",
       "      <th>Dead</th>\n",
       "      <th>allegiance_Baratheon</th>\n",
       "      <th>allegiance_House Arryn</th>\n",
       "      <th>allegiance_House Baratheon</th>\n",
       "      <th>allegiance_House Greyjoy</th>\n",
       "      <th>allegiance_House Lannister</th>\n",
       "      <th>allegiance_House Stark</th>\n",
       "      <th>...</th>\n",
       "      <th>Rank</th>\n",
       "      <th>Degree</th>\n",
       "      <th>community_1</th>\n",
       "      <th>community_2</th>\n",
       "      <th>community_3</th>\n",
       "      <th>community_4</th>\n",
       "      <th>community_5</th>\n",
       "      <th>community_6</th>\n",
       "      <th>community_7</th>\n",
       "      <th>community_8</th>\n",
       "    </tr>\n",
       "  </thead>\n",
       "  <tbody>\n",
       "    <tr>\n",
       "      <th>count</th>\n",
       "      <td>156.000000</td>\n",
       "      <td>156.000000</td>\n",
       "      <td>156.000000</td>\n",
       "      <td>156.000000</td>\n",
       "      <td>156.000000</td>\n",
       "      <td>156.000000</td>\n",
       "      <td>156.000000</td>\n",
       "      <td>156.000000</td>\n",
       "      <td>156.000000</td>\n",
       "      <td>156.000000</td>\n",
       "      <td>...</td>\n",
       "      <td>156.000000</td>\n",
       "      <td>156.000000</td>\n",
       "      <td>156.000000</td>\n",
       "      <td>156.000000</td>\n",
       "      <td>156.000000</td>\n",
       "      <td>156.000000</td>\n",
       "      <td>156.000000</td>\n",
       "      <td>156.000000</td>\n",
       "      <td>156.000000</td>\n",
       "      <td>156.000000</td>\n",
       "    </tr>\n",
       "    <tr>\n",
       "      <th>mean</th>\n",
       "      <td>28.519231</td>\n",
       "      <td>0.878205</td>\n",
       "      <td>0.519231</td>\n",
       "      <td>0.467949</td>\n",
       "      <td>0.006410</td>\n",
       "      <td>0.025641</td>\n",
       "      <td>0.012821</td>\n",
       "      <td>0.006410</td>\n",
       "      <td>0.051282</td>\n",
       "      <td>0.128205</td>\n",
       "      <td>...</td>\n",
       "      <td>0.005697</td>\n",
       "      <td>0.041839</td>\n",
       "      <td>0.019231</td>\n",
       "      <td>0.121795</td>\n",
       "      <td>0.012821</td>\n",
       "      <td>0.012821</td>\n",
       "      <td>0.128205</td>\n",
       "      <td>0.006410</td>\n",
       "      <td>0.019231</td>\n",
       "      <td>0.666667</td>\n",
       "    </tr>\n",
       "    <tr>\n",
       "      <th>std</th>\n",
       "      <td>19.931972</td>\n",
       "      <td>0.328102</td>\n",
       "      <td>0.501239</td>\n",
       "      <td>0.500579</td>\n",
       "      <td>0.080064</td>\n",
       "      <td>0.158571</td>\n",
       "      <td>0.112862</td>\n",
       "      <td>0.080064</td>\n",
       "      <td>0.221283</td>\n",
       "      <td>0.335395</td>\n",
       "      <td>...</td>\n",
       "      <td>0.009641</td>\n",
       "      <td>0.054717</td>\n",
       "      <td>0.137777</td>\n",
       "      <td>0.328102</td>\n",
       "      <td>0.112862</td>\n",
       "      <td>0.112862</td>\n",
       "      <td>0.335395</td>\n",
       "      <td>0.080064</td>\n",
       "      <td>0.137777</td>\n",
       "      <td>0.472923</td>\n",
       "    </tr>\n",
       "    <tr>\n",
       "      <th>min</th>\n",
       "      <td>0.000000</td>\n",
       "      <td>0.000000</td>\n",
       "      <td>0.000000</td>\n",
       "      <td>0.000000</td>\n",
       "      <td>0.000000</td>\n",
       "      <td>0.000000</td>\n",
       "      <td>0.000000</td>\n",
       "      <td>0.000000</td>\n",
       "      <td>0.000000</td>\n",
       "      <td>0.000000</td>\n",
       "      <td>...</td>\n",
       "      <td>0.000932</td>\n",
       "      <td>0.005376</td>\n",
       "      <td>0.000000</td>\n",
       "      <td>0.000000</td>\n",
       "      <td>0.000000</td>\n",
       "      <td>0.000000</td>\n",
       "      <td>0.000000</td>\n",
       "      <td>0.000000</td>\n",
       "      <td>0.000000</td>\n",
       "      <td>0.000000</td>\n",
       "    </tr>\n",
       "    <tr>\n",
       "      <th>25%</th>\n",
       "      <td>11.000000</td>\n",
       "      <td>1.000000</td>\n",
       "      <td>0.000000</td>\n",
       "      <td>0.000000</td>\n",
       "      <td>0.000000</td>\n",
       "      <td>0.000000</td>\n",
       "      <td>0.000000</td>\n",
       "      <td>0.000000</td>\n",
       "      <td>0.000000</td>\n",
       "      <td>0.000000</td>\n",
       "      <td>...</td>\n",
       "      <td>0.001353</td>\n",
       "      <td>0.010753</td>\n",
       "      <td>0.000000</td>\n",
       "      <td>0.000000</td>\n",
       "      <td>0.000000</td>\n",
       "      <td>0.000000</td>\n",
       "      <td>0.000000</td>\n",
       "      <td>0.000000</td>\n",
       "      <td>0.000000</td>\n",
       "      <td>0.000000</td>\n",
       "    </tr>\n",
       "    <tr>\n",
       "      <th>50%</th>\n",
       "      <td>27.000000</td>\n",
       "      <td>1.000000</td>\n",
       "      <td>1.000000</td>\n",
       "      <td>0.000000</td>\n",
       "      <td>0.000000</td>\n",
       "      <td>0.000000</td>\n",
       "      <td>0.000000</td>\n",
       "      <td>0.000000</td>\n",
       "      <td>0.000000</td>\n",
       "      <td>0.000000</td>\n",
       "      <td>...</td>\n",
       "      <td>0.002526</td>\n",
       "      <td>0.024194</td>\n",
       "      <td>0.000000</td>\n",
       "      <td>0.000000</td>\n",
       "      <td>0.000000</td>\n",
       "      <td>0.000000</td>\n",
       "      <td>0.000000</td>\n",
       "      <td>0.000000</td>\n",
       "      <td>0.000000</td>\n",
       "      <td>1.000000</td>\n",
       "    </tr>\n",
       "    <tr>\n",
       "      <th>75%</th>\n",
       "      <td>43.000000</td>\n",
       "      <td>1.000000</td>\n",
       "      <td>1.000000</td>\n",
       "      <td>1.000000</td>\n",
       "      <td>0.000000</td>\n",
       "      <td>0.000000</td>\n",
       "      <td>0.000000</td>\n",
       "      <td>0.000000</td>\n",
       "      <td>0.000000</td>\n",
       "      <td>0.000000</td>\n",
       "      <td>...</td>\n",
       "      <td>0.005204</td>\n",
       "      <td>0.044355</td>\n",
       "      <td>0.000000</td>\n",
       "      <td>0.000000</td>\n",
       "      <td>0.000000</td>\n",
       "      <td>0.000000</td>\n",
       "      <td>0.000000</td>\n",
       "      <td>0.000000</td>\n",
       "      <td>0.000000</td>\n",
       "      <td>1.000000</td>\n",
       "    </tr>\n",
       "    <tr>\n",
       "      <th>max</th>\n",
       "      <td>71.000000</td>\n",
       "      <td>1.000000</td>\n",
       "      <td>1.000000</td>\n",
       "      <td>1.000000</td>\n",
       "      <td>1.000000</td>\n",
       "      <td>1.000000</td>\n",
       "      <td>1.000000</td>\n",
       "      <td>1.000000</td>\n",
       "      <td>1.000000</td>\n",
       "      <td>1.000000</td>\n",
       "      <td>...</td>\n",
       "      <td>0.072362</td>\n",
       "      <td>0.354839</td>\n",
       "      <td>1.000000</td>\n",
       "      <td>1.000000</td>\n",
       "      <td>1.000000</td>\n",
       "      <td>1.000000</td>\n",
       "      <td>1.000000</td>\n",
       "      <td>1.000000</td>\n",
       "      <td>1.000000</td>\n",
       "      <td>1.000000</td>\n",
       "    </tr>\n",
       "  </tbody>\n",
       "</table>\n",
       "<p>8 rows × 32 columns</p>\n",
       "</div>"
      ],
      "text/plain": [
       "       Book Intro Chapter      Gender    Nobility        Dead  \\\n",
       "count          156.000000  156.000000  156.000000  156.000000   \n",
       "mean            28.519231    0.878205    0.519231    0.467949   \n",
       "std             19.931972    0.328102    0.501239    0.500579   \n",
       "min              0.000000    0.000000    0.000000    0.000000   \n",
       "25%             11.000000    1.000000    0.000000    0.000000   \n",
       "50%             27.000000    1.000000    1.000000    0.000000   \n",
       "75%             43.000000    1.000000    1.000000    1.000000   \n",
       "max             71.000000    1.000000    1.000000    1.000000   \n",
       "\n",
       "       allegiance_Baratheon  allegiance_House Arryn  \\\n",
       "count            156.000000              156.000000   \n",
       "mean               0.006410                0.025641   \n",
       "std                0.080064                0.158571   \n",
       "min                0.000000                0.000000   \n",
       "25%                0.000000                0.000000   \n",
       "50%                0.000000                0.000000   \n",
       "75%                0.000000                0.000000   \n",
       "max                1.000000                1.000000   \n",
       "\n",
       "       allegiance_House Baratheon  allegiance_House Greyjoy  \\\n",
       "count                  156.000000                156.000000   \n",
       "mean                     0.012821                  0.006410   \n",
       "std                      0.112862                  0.080064   \n",
       "min                      0.000000                  0.000000   \n",
       "25%                      0.000000                  0.000000   \n",
       "50%                      0.000000                  0.000000   \n",
       "75%                      0.000000                  0.000000   \n",
       "max                      1.000000                  1.000000   \n",
       "\n",
       "       allegiance_House Lannister  allegiance_House Stark     ...       \\\n",
       "count                  156.000000              156.000000     ...        \n",
       "mean                     0.051282                0.128205     ...        \n",
       "std                      0.221283                0.335395     ...        \n",
       "min                      0.000000                0.000000     ...        \n",
       "25%                      0.000000                0.000000     ...        \n",
       "50%                      0.000000                0.000000     ...        \n",
       "75%                      0.000000                0.000000     ...        \n",
       "max                      1.000000                1.000000     ...        \n",
       "\n",
       "             Rank      Degree  community_1  community_2  community_3  \\\n",
       "count  156.000000  156.000000   156.000000   156.000000   156.000000   \n",
       "mean     0.005697    0.041839     0.019231     0.121795     0.012821   \n",
       "std      0.009641    0.054717     0.137777     0.328102     0.112862   \n",
       "min      0.000932    0.005376     0.000000     0.000000     0.000000   \n",
       "25%      0.001353    0.010753     0.000000     0.000000     0.000000   \n",
       "50%      0.002526    0.024194     0.000000     0.000000     0.000000   \n",
       "75%      0.005204    0.044355     0.000000     0.000000     0.000000   \n",
       "max      0.072362    0.354839     1.000000     1.000000     1.000000   \n",
       "\n",
       "       community_4  community_5  community_6  community_7  community_8  \n",
       "count   156.000000   156.000000   156.000000   156.000000   156.000000  \n",
       "mean      0.012821     0.128205     0.006410     0.019231     0.666667  \n",
       "std       0.112862     0.335395     0.080064     0.137777     0.472923  \n",
       "min       0.000000     0.000000     0.000000     0.000000     0.000000  \n",
       "25%       0.000000     0.000000     0.000000     0.000000     0.000000  \n",
       "50%       0.000000     0.000000     0.000000     0.000000     1.000000  \n",
       "75%       0.000000     0.000000     0.000000     0.000000     1.000000  \n",
       "max       1.000000     1.000000     1.000000     1.000000     1.000000  \n",
       "\n",
       "[8 rows x 32 columns]"
      ]
     },
     "execution_count": 33,
     "metadata": {},
     "output_type": "execute_result"
    }
   ],
   "source": [
    "# Inspect remaining columns\n",
    "augmented_df.describe()"
   ]
  },
  {
   "cell_type": "code",
   "execution_count": 34,
   "metadata": {},
   "outputs": [
    {
     "name": "stderr",
     "output_type": "stream",
     "text": [
      "/Users/kylebaranko/anaconda3/envs/learn-env/lib/python3.6/site-packages/sklearn/preprocessing/data.py:625: DataConversionWarning: Data with input dtype uint8, int64, float64 were all converted to float64 by StandardScaler.\n",
      "  return self.partial_fit(X, y)\n",
      "/Users/kylebaranko/anaconda3/envs/learn-env/lib/python3.6/site-packages/sklearn/base.py:462: DataConversionWarning: Data with input dtype uint8, int64, float64 were all converted to float64 by StandardScaler.\n",
      "  return self.fit(X, **fit_params).transform(X)\n",
      "/Users/kylebaranko/anaconda3/envs/learn-env/lib/python3.6/site-packages/ipykernel_launcher.py:7: DataConversionWarning: Data with input dtype uint8, int64, float64 were all converted to float64 by StandardScaler.\n",
      "  import sys\n"
     ]
    }
   ],
   "source": [
    "# Prepare data \n",
    "X, y = augmented_df.drop(['Name','Dead'],axis=1), augmented_df['Dead']\n",
    "# X = StandardScaler().fit_transform(X)\n",
    "GX_train, GX_test, Gy_train, Gy_test = \\\n",
    "        train_test_split(X, y, test_size=.2, random_state=42)\n",
    "g_scaler = StandardScaler()\n",
    "GX_train = g_scaler.fit_transform(GX_train)\n",
    "GX_test = g_scaler.transform(GX_test)"
   ]
  },
  {
   "cell_type": "code",
   "execution_count": 35,
   "metadata": {
    "scrolled": false
   },
   "outputs": [
    {
     "name": "stdout",
     "output_type": "stream",
     "text": [
      "Base F1 Score for Nearest Neighbors: 0.48484848484848486\n",
      "Graph Augmented F1 Score for Nearest Neighbors: 0.39999999999999997 \n",
      "\n",
      "Base F1 Score for Linear SVM: 0.4666666666666667\n",
      "Graph Augmented F1 Score for Linear SVM: 0.4827586206896552 \n",
      "\n",
      "Base F1 Score for RBF SVM: 0.38461538461538464\n",
      "Graph Augmented F1 Score for RBF SVM: 0.24000000000000005 \n",
      "\n",
      "Base F1 Score for Random Forest: 0.3333333333333333\n",
      "Graph Augmented F1 Score for Random Forest: 0.2962962962962963 \n",
      "\n",
      "Base F1 Score for Neural Net: 0.4666666666666667\n",
      "Graph Augmented F1 Score for Neural Net: 0.4666666666666667 \n",
      "\n",
      "Base F1 Score for Logistic Regression: 0.3703703703703703\n",
      "Graph Augmented F1 Score for Logistic Regression: 0.5 \n",
      "\n"
     ]
    }
   ],
   "source": [
    "# Untuned Classifiers with number of interactions as weight\n",
    "for name, clf in zip(names, classifiers):\n",
    "    clf.fit(X_train, y_train)\n",
    "    print(f'Base F1 Score for {name}: {f1_score(y_test, clf.predict(X_test))}')\n",
    "    clf.fit(GX_train, Gy_train)\n",
    "    print(f'Graph Augmented F1 Score for {name}: {f1_score(Gy_test, clf.predict(GX_test))} \\n')"
   ]
  },
  {
   "cell_type": "markdown",
   "metadata": {},
   "source": [
    "### Reflection\n",
    "We can see an improvement in some of the models but a drop in others. Consider how we set up our network with weighted connections; each edge had the number of interactions between the two characters. How do the models think of the weights for their algorithms?"
   ]
  },
  {
   "cell_type": "code",
   "execution_count": 36,
   "metadata": {},
   "outputs": [],
   "source": [
    "# The above process has been automated into a pipeline to compare results\n",
    "from helpers import pipeline"
   ]
  },
  {
   "cell_type": "code",
   "execution_count": 37,
   "metadata": {
    "scrolled": false
   },
   "outputs": [
    {
     "data": {
      "image/png": "[encoded data removed]",
      "text/plain": [
       "<Figure size 432x288 with 1 Axes>"
      ]
     },
     "metadata": {
      "needs_background": "light"
     },
     "output_type": "display_data"
    },
    {
     "name": "stderr",
     "output_type": "stream",
     "text": [
      "/Users/kylebaranko/anaconda3/envs/learn-env/lib/python3.6/site-packages/sklearn/preprocessing/data.py:625: DataConversionWarning: Data with input dtype uint8, int64, float64 were all converted to float64 by StandardScaler.\n",
      "  return self.partial_fit(X, y)\n",
      "/Users/kylebaranko/anaconda3/envs/learn-env/lib/python3.6/site-packages/sklearn/base.py:462: DataConversionWarning: Data with input dtype uint8, int64, float64 were all converted to float64 by StandardScaler.\n",
      "  return self.fit(X, **fit_params).transform(X)\n",
      "/Users/kylebaranko/Lectures/nyc-mhtn-ds-082619-lectures/Mod_6/Graphs/helpers.py:66: DataConversionWarning: Data with input dtype uint8, int64, float64 were all converted to float64 by StandardScaler.\n",
      "  X_test = scaler.transform(X_test)\n",
      "/Users/kylebaranko/anaconda3/envs/learn-env/lib/python3.6/site-packages/sklearn/preprocessing/data.py:625: DataConversionWarning: Data with input dtype uint8, int64, float64 were all converted to float64 by StandardScaler.\n",
      "  return self.partial_fit(X, y)\n",
      "/Users/kylebaranko/anaconda3/envs/learn-env/lib/python3.6/site-packages/sklearn/base.py:462: DataConversionWarning: Data with input dtype uint8, int64, float64 were all converted to float64 by StandardScaler.\n",
      "  return self.fit(X, **fit_params).transform(X)\n",
      "/Users/kylebaranko/Lectures/nyc-mhtn-ds-082619-lectures/Mod_6/Graphs/helpers.py:74: DataConversionWarning: Data with input dtype uint8, int64, float64 were all converted to float64 by StandardScaler.\n",
      "  GX_test = g_scaler.transform(GX_test)\n"
     ]
    },
    {
     "name": "stdout",
     "output_type": "stream",
     "text": [
      "Base F1 Score for Nearest Neighbors: 0.48484848484848486\n",
      "Graph Augmented F1 Score for Nearest Neighbors: 0.39999999999999997 \n",
      "\n",
      "Base F1 Score for Linear SVM: 0.4666666666666667\n",
      "Graph Augmented F1 Score for Linear SVM: 0.4827586206896552 \n",
      "\n",
      "Base F1 Score for RBF SVM: 0.38461538461538464\n",
      "Graph Augmented F1 Score for RBF SVM: 0.24000000000000005 \n",
      "\n",
      "Base F1 Score for Random Forest: 0.3333333333333333\n",
      "Graph Augmented F1 Score for Random Forest: 0.2962962962962963 \n",
      "\n",
      "Base F1 Score for Neural Net: 0.4666666666666667\n",
      "Graph Augmented F1 Score for Neural Net: 0.4666666666666667 \n",
      "\n",
      "Base F1 Score for Logistic Regression: 0.3703703703703703\n",
      "Graph Augmented F1 Score for Logistic Regression: 0.5 \n",
      "\n"
     ]
    }
   ],
   "source": [
    "# Untuned Classifiers with number of interactions as weights\n",
    "pipeline(df, names, classifiers, 'weight')"
   ]
  },
  {
   "cell_type": "code",
   "execution_count": 38,
   "metadata": {
    "scrolled": false
   },
   "outputs": [
    {
     "name": "stderr",
     "output_type": "stream",
     "text": [
      "/Users/kylebaranko/anaconda3/envs/learn-env/lib/python3.6/site-packages/sklearn/preprocessing/data.py:625: DataConversionWarning: Data with input dtype uint8, int64, float64 were all converted to float64 by StandardScaler.\n",
      "  return self.partial_fit(X, y)\n",
      "/Users/kylebaranko/anaconda3/envs/learn-env/lib/python3.6/site-packages/sklearn/base.py:462: DataConversionWarning: Data with input dtype uint8, int64, float64 were all converted to float64 by StandardScaler.\n",
      "  return self.fit(X, **fit_params).transform(X)\n",
      "/Users/kylebaranko/Lectures/nyc-mhtn-ds-082619-lectures/Mod_6/Graphs/helpers.py:66: DataConversionWarning: Data with input dtype uint8, int64, float64 were all converted to float64 by StandardScaler.\n",
      "  X_test = scaler.transform(X_test)\n",
      "/Users/kylebaranko/anaconda3/envs/learn-env/lib/python3.6/site-packages/sklearn/preprocessing/data.py:625: DataConversionWarning: Data with input dtype uint8, int64, float64 were all converted to float64 by StandardScaler.\n",
      "  return self.partial_fit(X, y)\n",
      "/Users/kylebaranko/anaconda3/envs/learn-env/lib/python3.6/site-packages/sklearn/base.py:462: DataConversionWarning: Data with input dtype uint8, int64, float64 were all converted to float64 by StandardScaler.\n",
      "  return self.fit(X, **fit_params).transform(X)\n",
      "/Users/kylebaranko/Lectures/nyc-mhtn-ds-082619-lectures/Mod_6/Graphs/helpers.py:74: DataConversionWarning: Data with input dtype uint8, int64, float64 were all converted to float64 by StandardScaler.\n",
      "  GX_test = g_scaler.transform(GX_test)\n"
     ]
    },
    {
     "name": "stdout",
     "output_type": "stream",
     "text": [
      "Base F1 Score for Nearest Neighbors: 0.48484848484848486\n",
      "Graph Augmented F1 Score for Nearest Neighbors: 0.45161290322580644 \n",
      "\n",
      "Base F1 Score for Linear SVM: 0.4666666666666667\n",
      "Graph Augmented F1 Score for Linear SVM: 0.4666666666666667 \n",
      "\n",
      "Base F1 Score for RBF SVM: 0.38461538461538464\n",
      "Graph Augmented F1 Score for RBF SVM: 0.3076923076923077 \n",
      "\n",
      "Base F1 Score for Random Forest: 0.3333333333333333\n",
      "Graph Augmented F1 Score for Random Forest: 0.3333333333333333 \n",
      "\n",
      "Base F1 Score for Neural Net: 0.4666666666666667\n",
      "Graph Augmented F1 Score for Neural Net: 0.5161290322580646 \n",
      "\n",
      "Base F1 Score for Logistic Regression: 0.3703703703703703\n",
      "Graph Augmented F1 Score for Logistic Regression: 0.5185185185185185 \n",
      "\n"
     ]
    }
   ],
   "source": [
    "# Untuned Classifiers with no weights\n",
    "pipeline(df, names, classifiers)"
   ]
  },
  {
   "cell_type": "code",
   "execution_count": 39,
   "metadata": {},
   "outputs": [
    {
     "data": {
      "image/png": "[encoded data removed]",
      "text/plain": [
       "<Figure size 432x288 with 1 Axes>"
      ]
     },
     "metadata": {
      "needs_background": "light"
     },
     "output_type": "display_data"
    },
    {
     "name": "stderr",
     "output_type": "stream",
     "text": [
      "/Users/kylebaranko/anaconda3/envs/learn-env/lib/python3.6/site-packages/sklearn/preprocessing/data.py:625: DataConversionWarning: Data with input dtype uint8, int64, float64 were all converted to float64 by StandardScaler.\n",
      "  return self.partial_fit(X, y)\n",
      "/Users/kylebaranko/anaconda3/envs/learn-env/lib/python3.6/site-packages/sklearn/base.py:462: DataConversionWarning: Data with input dtype uint8, int64, float64 were all converted to float64 by StandardScaler.\n",
      "  return self.fit(X, **fit_params).transform(X)\n",
      "/Users/kylebaranko/Lectures/nyc-mhtn-ds-082619-lectures/Mod_6/Graphs/helpers.py:66: DataConversionWarning: Data with input dtype uint8, int64, float64 were all converted to float64 by StandardScaler.\n",
      "  X_test = scaler.transform(X_test)\n",
      "/Users/kylebaranko/anaconda3/envs/learn-env/lib/python3.6/site-packages/sklearn/preprocessing/data.py:625: DataConversionWarning: Data with input dtype uint8, int64, float64 were all converted to float64 by StandardScaler.\n",
      "  return self.partial_fit(X, y)\n",
      "/Users/kylebaranko/anaconda3/envs/learn-env/lib/python3.6/site-packages/sklearn/base.py:462: DataConversionWarning: Data with input dtype uint8, int64, float64 were all converted to float64 by StandardScaler.\n",
      "  return self.fit(X, **fit_params).transform(X)\n",
      "/Users/kylebaranko/Lectures/nyc-mhtn-ds-082619-lectures/Mod_6/Graphs/helpers.py:74: DataConversionWarning: Data with input dtype uint8, int64, float64 were all converted to float64 by StandardScaler.\n",
      "  GX_test = g_scaler.transform(GX_test)\n"
     ]
    },
    {
     "name": "stdout",
     "output_type": "stream",
     "text": [
      "Base F1 Score for Nearest Neighbors: 0.48484848484848486\n",
      "Graph Augmented F1 Score for Nearest Neighbors: 0.45161290322580644 \n",
      "\n",
      "Base F1 Score for Linear SVM: 0.4666666666666667\n",
      "Graph Augmented F1 Score for Linear SVM: 0.4666666666666667 \n",
      "\n",
      "Base F1 Score for RBF SVM: 0.38461538461538464\n",
      "Graph Augmented F1 Score for RBF SVM: 0.42857142857142855 \n",
      "\n",
      "Base F1 Score for Random Forest: 0.3333333333333333\n",
      "Graph Augmented F1 Score for Random Forest: 0.5 \n",
      "\n",
      "Base F1 Score for Neural Net: 0.4666666666666667\n",
      "Graph Augmented F1 Score for Neural Net: 0.4666666666666667 \n",
      "\n",
      "Base F1 Score for Logistic Regression: 0.3703703703703703\n",
      "Graph Augmented F1 Score for Logistic Regression: 0.5185185185185185 \n",
      "\n"
     ]
    }
   ],
   "source": [
    "# Untuned Classifiers with reciprocal number of interactions as weight\n",
    "pipeline(df, names, classifiers, weight='inverse')"
   ]
  },
  {
   "cell_type": "markdown",
   "metadata": {},
   "source": [
    "## Conclusion\n",
    "Graph networks and algorithms are a powerful tool to explore the relationship between objects in our data which can be used: to visualize data, to measure aspects of the relationship and to create new features that can be useful for machine learning. It is not the solution to every problem, and there is no guarantee that every class of model will be improved by including this type of data. Like any other type of data it is important to explore your features and examine your assumptions.\n",
    "> It is one thing to be **clever** and another to be **wise**. -- A Game of Thrones"
   ]
  },
  {
   "cell_type": "code",
   "execution_count": null,
   "metadata": {},
   "outputs": [],
   "source": []
  }
 ],
 "metadata": {
  "kernelspec": {
   "display_name": "Python 3",
   "language": "python",
   "name": "python3"
  },
  "language_info": {
   "codemirror_mode": {
    "name": "ipython",
    "version": 3
   },
   "file_extension": ".py",
   "mimetype": "text/x-python",
   "name": "python",
   "nbconvert_exporter": "python",
   "pygments_lexer": "ipython3",
   "version": "3.6.6"
  }
 },
 "nbformat": 4,
 "nbformat_minor": 2
}
