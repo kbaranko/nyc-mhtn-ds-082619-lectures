{
 "cells": [
  {
   "cell_type": "markdown",
   "metadata": {},
   "source": [
    "# NLP - Preprocessing and Classifying\n",
    "\n",
    "## Part 2\n",
    "\n",
    "### Situation:\n",
    "\n",
    "Priya works at an international PR firm in the Europe division. Their largest client has offices in Ibiza, Madrid, and Las Palmas. She needs to keep her boss aware of current events and provide a weekly short list of articles concerning political events in Spain. The problem is, her Facebook and twitter feeds consistently show her fake and or satirical articles that people think are real truth! She wonders if she could automate the filtering process by using NLP to save her time..."
   ]
  },
  {
   "cell_type": "markdown",
   "metadata": {},
   "source": [
    "### **Goals**: \n",
    "\n",
    "- internalize the steps, challenges, and methodology of text mining\n",
    "- apply text mining steps with NLTK\n",
    "- classify documents correctly"
   ]
  },
  {
   "cell_type": "markdown",
   "metadata": {},
   "source": [
    "## Refresher on cleaning text\n",
    "![gif](https://www.nyfa.edu/student-resources/wp-content/uploads/2014/10/furious-crazed-typing.gif)\n"
   ]
  },
  {
   "cell_type": "code",
   "execution_count": 1,
   "metadata": {},
   "outputs": [],
   "source": [
    "import nltk\n",
    "import sklearn\n",
    "import urllib\n",
    "import numpy as np\n",
    "import pandas as pd\n",
    "import string, re\n",
    "from nltk.collocations import *\n",
    "from nltk import FreqDist, word_tokenize\n",
    "from nltk.corpus import stopwords\n",
    "from nltk.stem import WordNetLemmatizer\n",
    "from nltk.stem.snowball import SnowballStemmer\n",
    "from sklearn.metrics import accuracy_score, f1_score\n",
    "from sklearn.ensemble import RandomForestClassifier\n",
    "from sklearn.model_selection import train_test_split  \n",
    "from sklearn.feature_extraction.text import TfidfVectorizer, CountVectorizer\n",
    "import matplotlib.pyplot as plt\n",
    "%matplotlib inline\n",
    "np.random.seed(0)\n"
   ]
  },
  {
   "cell_type": "code",
   "execution_count": 2,
   "metadata": {},
   "outputs": [],
   "source": [
    "pd.set_option('display.max_columns', 100)\n",
    "pd.set_option('display.max_rows', 100)"
   ]
  },
  {
   "cell_type": "markdown",
   "metadata": {},
   "source": [
    "### Document statistics"
   ]
  },
  {
   "cell_type": "markdown",
   "metadata": {},
   "source": [
    "### Term Frequency (DF)\n",
    "\n",
    "$\\begin{align}\n",
    " tf_{i,j} = \\dfrac{n_{i,j}}{\\displaystyle \\sum_k n_{i,j} }\n",
    "\\end{align} $"
   ]
  },
  {
   "cell_type": "markdown",
   "metadata": {},
   "source": [
    "### Inverse Document Frequency (IDF)\n",
    "\n",
    "$\\begin{align}\n",
    "idf(w) = \\log \\dfrac{N}{df_t}\n",
    "\\end{align} $"
   ]
  },
  {
   "cell_type": "markdown",
   "metadata": {},
   "source": [
    "### TF-IDF score\n",
    "\n",
    "$ \\begin{align}\n",
    "w_{i,j} = tf_{i,j} \\times \\log \\dfrac{N}{df_i} \\\\\n",
    "tf_{i,j} = \\text{number of occurences of } i \\text{ in } j \\\\\n",
    "df_i = \\text{number of documents containing }   i \\\\\n",
    "N = \\text{total number of documents}\n",
    "\\end{align} $\n"
   ]
  },
  {
   "cell_type": "markdown",
   "metadata": {},
   "source": [
    "### The from scratch method\n",
    "![homemade](https://media2.giphy.com/media/LBZcXdG0eVBdK/giphy.gif?cid=3640f6095c2d7bb2526a424a4d97117c)\n"
   ]
  },
  {
   "cell_type": "markdown",
   "metadata": {},
   "source": [
    "\n",
    "\n",
    "\n",
    "\n",
    "\n",
    "\n",
    "\n",
    "\n",
    "\n",
    "\n",
    "\n",
    "\n",
    "\n",
    "\n",
    "\n",
    "\n",
    "\n",
    "\n"
   ]
  },
  {
   "cell_type": "code",
   "execution_count": null,
   "metadata": {},
   "outputs": [],
   "source": [
    "\n",
    "\n",
    "\n",
    "\n",
    "\n",
    "\n",
    "\n",
    "\n",
    "\n",
    "\n",
    "\n",
    "\n",
    "\n",
    "\n",
    "\n",
    "\n",
    "\n",
    "\n"
   ]
  },
  {
   "cell_type": "markdown",
   "metadata": {},
   "source": [
    "# Siiiiiiike!"
   ]
  },
  {
   "cell_type": "markdown",
   "metadata": {},
   "source": [
    "## Yes, there is an easier way\n",
    "\n",
    "![big deal](https://media0.giphy.com/media/xUA7aQOxkz00lvCAOQ/giphy.gif?cid=3640f6095c2d7c51772f47644d09cc8b)\n"
   ]
  },
  {
   "cell_type": "markdown",
   "metadata": {},
   "source": [
    "### Before we dive into some satire classification, let's analyze a smaller example on political articles:\n",
    "\n",
    "Our objectives will be to visualize the \"sparse\" matrix and to get some practice with NLP preprocessing"
   ]
  },
  {
   "cell_type": "markdown",
   "metadata": {},
   "source": [
    "**Next Steps:**\n",
    "\n",
    "- Create the tf-idf for the **whole** corpus of 12 articles\n",
    "- What are _on average_ the most common words in the whole corpus?\n",
    "- Add a column named \"Target\" to the dataset\n",
    "- Target will be set to 1 or 0 if the article is \"Politics\" or \"Not Politics\"\n",
    "- Do some exploratory analysis of the dataset\n",
    " - what are the average most important words for the \"Politics\" articles?\n",
    " - What are the average most important words for the \"Not Politics\"?"
   ]
  },
  {
   "cell_type": "code",
   "execution_count": 3,
   "metadata": {},
   "outputs": [],
   "source": [
    "# This is the base URL:\n",
    "\n",
    "docZZZ = 'https://raw.githubusercontent.com/aapeebles/text_examples/master/Text%20examples%20folder/'"
   ]
  },
  {
   "cell_type": "markdown",
   "metadata": {},
   "source": [
    "Here, we'll use some python to get all the required URLs:"
   ]
  },
  {
   "cell_type": "code",
   "execution_count": 4,
   "metadata": {
    "scrolled": true
   },
   "outputs": [
    {
     "name": "stdout",
     "output_type": "stream",
     "text": [
      "A to Z\n",
      "\n",
      "['A', 'B', 'C', 'D', 'E', 'F', 'G', 'H', 'I', 'J', 'K', 'L']\n",
      "\n"
     ]
    },
    {
     "data": {
      "text/plain": [
       "['https://raw.githubusercontent.com/aapeebles/text_examples/master/Text%20examples%20folder/A.txt',\n",
       " 'https://raw.githubusercontent.com/aapeebles/text_examples/master/Text%20examples%20folder/B.txt',\n",
       " 'https://raw.githubusercontent.com/aapeebles/text_examples/master/Text%20examples%20folder/C.txt',\n",
       " 'https://raw.githubusercontent.com/aapeebles/text_examples/master/Text%20examples%20folder/D.txt',\n",
       " 'https://raw.githubusercontent.com/aapeebles/text_examples/master/Text%20examples%20folder/E.txt',\n",
       " 'https://raw.githubusercontent.com/aapeebles/text_examples/master/Text%20examples%20folder/F.txt',\n",
       " 'https://raw.githubusercontent.com/aapeebles/text_examples/master/Text%20examples%20folder/G.txt',\n",
       " 'https://raw.githubusercontent.com/aapeebles/text_examples/master/Text%20examples%20folder/H.txt',\n",
       " 'https://raw.githubusercontent.com/aapeebles/text_examples/master/Text%20examples%20folder/I.txt',\n",
       " 'https://raw.githubusercontent.com/aapeebles/text_examples/master/Text%20examples%20folder/J.txt',\n",
       " 'https://raw.githubusercontent.com/aapeebles/text_examples/master/Text%20examples%20folder/K.txt',\n",
       " 'https://raw.githubusercontent.com/aapeebles/text_examples/master/Text%20examples%20folder/L.txt']"
      ]
     },
     "execution_count": 4,
     "metadata": {},
     "output_type": "execute_result"
    }
   ],
   "source": [
    "# Example of chr()\n",
    "print(chr(65), 'to', chr(90))\n",
    "print()\n",
    "\n",
    "alphabet = []\n",
    "for letter in range(65, 91):\n",
    "    alphabet.append(chr(letter))\n",
    "\n",
    "list_of_letters = alphabet[:12]\n",
    "print(list_of_letters)\n",
    "print()\n",
    "\n",
    "url_list = []\n",
    "\n",
    "for l in list_of_letters:\n",
    "    url = docZZZ + l +'.txt'\n",
    "    url_list.append(url)\n",
    "    \n",
    "url_list"
   ]
  },
  {
   "cell_type": "code",
   "execution_count": 12,
   "metadata": {},
   "outputs": [
    {
     "name": "stderr",
     "output_type": "stream",
     "text": [
      "[nltk_data] Downloading package stopwords to\n",
      "[nltk_data]     /Users/kylebaranko/nltk_data...\n",
      "[nltk_data]   Package stopwords is already up-to-date!\n",
      "[nltk_data] Downloading package wordnet to\n",
      "[nltk_data]     /Users/kylebaranko/nltk_data...\n",
      "[nltk_data]   Unzipping corpora/wordnet.zip.\n"
     ]
    },
    {
     "data": {
      "text/plain": [
       "True"
      ]
     },
     "execution_count": 12,
     "metadata": {},
     "output_type": "execute_result"
    }
   ],
   "source": [
    " import nltk\n",
    "nltk.download('stopwords')\n",
    "nltk.download('wordnet')"
   ]
  },
  {
   "cell_type": "markdown",
   "metadata": {},
   "source": [
    "---"
   ]
  },
  {
   "cell_type": "code",
   "execution_count": 7,
   "metadata": {},
   "outputs": [],
   "source": [
    "# Get our stopwords from the nltk library:\n",
    "stop_words = stopwords.words('english')"
   ]
  },
  {
   "cell_type": "code",
   "execution_count": 8,
   "metadata": {},
   "outputs": [],
   "source": [
    "# Instantiate your lemmatizer or stemmer object:\n",
    "\n",
    "lemmatizer = WordNetLemmatizer()\n",
    "# stemmer = SnowballStemmer(\"english\")"
   ]
  },
  {
   "cell_type": "code",
   "execution_count": 9,
   "metadata": {},
   "outputs": [],
   "source": [
    "def clean_docs_LEMM(_list):\n",
    "    cleaned = []\n",
    "    for i in _list:\n",
    "        metamorph = urllib.request.urlopen(i).read()\n",
    "        morph = metamorph.decode(\"utf-8\")\n",
    "        pattern = \"([a-zA-Z]+(?:'[a-z]+)?)\"\n",
    "        metamorph_tokens_raw = nltk.regexp_tokenize(morph, pattern)\n",
    "        metamorph_tokens = [i.lower() for i in metamorph_tokens_raw]\n",
    "        stop_words = stopwords.words('english')\n",
    "        metamorph_tokens_stopped = [w for w in metamorph_tokens if not w in stop_words]\n",
    "        meta_lemmed = [lemmatizer.lemmatize(word) for word in metamorph_tokens_stopped]\n",
    "        c = \" \".join(str(x) for x in meta_lemmed)\n",
    "        cleaned.append(c)\n",
    "    return cleaned"
   ]
  },
  {
   "cell_type": "code",
   "execution_count": 10,
   "metadata": {},
   "outputs": [],
   "source": [
    "# Example of how to implement a stemmer, but we won't be using stems for the classification\n",
    "\n",
    "# def clean_docs_STEM(_list):\n",
    "#     cleaned = []\n",
    "#     for i in _list:\n",
    "#         metamorph = urllib.request.urlopen(i).read()\n",
    "#         morph = metamorph.decode(\"utf-8\")\n",
    "#         pattern = \"([a-zA-Z]+(?:'[a-z]+)?)\"\n",
    "#         metamorph_tokens_raw = nltk.regexp_tokenize(morph, pattern)\n",
    "#         metamorph_tokens = [i.lower() for i in metamorph_tokens_raw]\n",
    "#         stop_words = stopwords.words('english')\n",
    "#         metamorph_tokens_stopped = [w for w in metamorph_tokens if not w in stop_words]\n",
    "#         meta_stemmed = [stemmer.stem(word) for word in metamorph_tokens_stopped]\n",
    "#         c = \" \".join(str(x) for x in meta_stemmed)\n",
    "#         cleaned.append(c)\n",
    "#     return cleaned"
   ]
  },
  {
   "cell_type": "code",
   "execution_count": 13,
   "metadata": {},
   "outputs": [],
   "source": [
    "# Transform our tokens into lems:\n",
    "\n",
    "docs_LEMM = clean_docs_LEMM(url_list)\n",
    "# docs_STEM = clean_docs_STEM(url_list)"
   ]
  },
  {
   "cell_type": "code",
   "execution_count": 14,
   "metadata": {},
   "outputs": [
    {
     "data": {
      "text/plain": [
       "b'Sony PSP tipped as a \\'must-have\\'\\n\\nSony\\'s Playstation Portable is the top gadget for 2005, according to a round-up of ultimate gizmos compiled by Stuff Magazine.\\n\\nIt beats the iPod into second place in the Top Ten Essentials list which predicts what gadget-lovers are likely to covet this year. Owning all 10 gadgets will set the gadget lover back \\xc2\\xa37,455. That is \\xc2\\xa31,000 cheaper than last year\\'s list due to falling manufacturing costs making gadgets more affordable.\\n\\nPortable gadgets dominate the list, including Sharp\\'s 902 3G mobile phone, the Pentax Optio SV digital camera and Samsung\\'s Yepp YH-999 video jukebox.\\n\\n\"What this year\\'s Essentials shows is that gadgets are now cheaper, sexier and more indispensable than ever. We\\'ve got to the point where we can\\'t live our lives without certain technology,\" said Adam Vaughan, editor of Stuff Essentials. The proliferation of gadgets in our homes is inexorably altering the role of the high street in our lives thinks Mr Vaughan. \"Take digital cameras, who would now pay to develop an entire film of photos? Or legitimate downloads, who would travel miles to a record shop when they could download the song in minutes for 70p?\" he asks. Next year will see a new set of technologies capturing the imaginations of gadget lovers, Stuff predicts. The Xbox 2, high-definition TV and MP3 mobiles will be among the list of must-haves that will dominate 2006, it says. The spring launch of the PSP in the UK is eagerly awaited by gaming fans.\\n'"
      ]
     },
     "execution_count": 14,
     "metadata": {},
     "output_type": "execute_result"
    }
   ],
   "source": [
    "# Preview of the original doc:\n",
    "\n",
    "urllib.request.urlopen(url_list[2]).read()"
   ]
  },
  {
   "cell_type": "code",
   "execution_count": 15,
   "metadata": {},
   "outputs": [
    {
     "data": {
      "text/plain": [
       "\"sony psp tipped must sony's playstation portable top gadget according round ultimate gizmo compiled stuff magazine beat ipod second place top ten essential list predicts gadget lover likely covet year owning gadget set gadget lover back cheaper last year's list due falling manufacturing cost making gadget affordable portable gadget dominate list including sharp's g mobile phone pentax optio sv digital camera samsung's yepp yh video jukebox year's essential show gadget cheaper sexier indispensable ever we've got point can't live life without certain technology said adam vaughan editor stuff essential proliferation gadget home inexorably altering role high street life think mr vaughan take digital camera would pay develop entire film photo legitimate downloads would travel mile record shop could download song minute p asks next year see new set technology capturing imagination gadget lover stuff predicts xbox high definition tv mp mobile among list must have dominate say spring launch psp uk eagerly awaited gaming fan\""
      ]
     },
     "execution_count": 15,
     "metadata": {},
     "output_type": "execute_result"
    }
   ],
   "source": [
    "# Preview of the lems:\n",
    "\n",
    "clean_docs_LEMM(url_list)[2]"
   ]
  },
  {
   "cell_type": "markdown",
   "metadata": {},
   "source": [
    "---"
   ]
  },
  {
   "cell_type": "code",
   "execution_count": 16,
   "metadata": {},
   "outputs": [],
   "source": [
    "# Instantiate the vectorizer of your choice:\n",
    "\n",
    "# vec = CountVectorizer()\n",
    "tfidf = TfidfVectorizer()"
   ]
  },
  {
   "cell_type": "code",
   "execution_count": 17,
   "metadata": {},
   "outputs": [],
   "source": [
    "X = tfidf.fit_transform(docs_LEMM)\n",
    "\n",
    "df = pd.DataFrame(X.toarray(), columns=tfidf.get_feature_names())"
   ]
  },
  {
   "cell_type": "code",
   "execution_count": 18,
   "metadata": {},
   "outputs": [],
   "source": [
    "# Create our list of labels:\n",
    "\n",
    "target = ['POLITICS', 'POLITICS', 'Not_politics', 'POLITICS', 'POLITICS', 'Not_politics', \n",
    "          'Not_politics', 'POLITICS', 'Not_politics', 'Not_politics', 'POLITICS', 'Not_politics']"
   ]
  },
  {
   "cell_type": "code",
   "execution_count": 19,
   "metadata": {},
   "outputs": [],
   "source": [
    "# Create and transform our target variable:\n",
    "\n",
    "df['TARGET'] = target\n",
    "df['TARGET'] = pd.get_dummies(df.TARGET, drop_first=True)"
   ]
  },
  {
   "cell_type": "code",
   "execution_count": 20,
   "metadata": {},
   "outputs": [
    {
     "data": {
      "text/html": [
       "<div>\n",
       "<style scoped>\n",
       "    .dataframe tbody tr th:only-of-type {\n",
       "        vertical-align: middle;\n",
       "    }\n",
       "\n",
       "    .dataframe tbody tr th {\n",
       "        vertical-align: top;\n",
       "    }\n",
       "\n",
       "    .dataframe thead th {\n",
       "        text-align: right;\n",
       "    }\n",
       "</style>\n",
       "<table border=\"1\" class=\"dataframe\">\n",
       "  <thead>\n",
       "    <tr style=\"text-align: right;\">\n",
       "      <th></th>\n",
       "      <th>abate</th>\n",
       "      <th>abiyote</th>\n",
       "      <th>able</th>\n",
       "      <th>abstain</th>\n",
       "      <th>access</th>\n",
       "      <th>accessed</th>\n",
       "      <th>according</th>\n",
       "      <th>account</th>\n",
       "      <th>accurate</th>\n",
       "      <th>achieve</th>\n",
       "      <th>acre</th>\n",
       "      <th>across</th>\n",
       "      <th>action</th>\n",
       "      <th>activist</th>\n",
       "      <th>actually</th>\n",
       "      <th>adam</th>\n",
       "      <th>add</th>\n",
       "      <th>address</th>\n",
       "      <th>adoption</th>\n",
       "      <th>affair</th>\n",
       "      <th>affected</th>\n",
       "      <th>affordable</th>\n",
       "      <th>agency</th>\n",
       "      <th>agent</th>\n",
       "      <th>aggravated</th>\n",
       "      <th>agio</th>\n",
       "      <th>agreed</th>\n",
       "      <th>agreement</th>\n",
       "      <th>aid</th>\n",
       "      <th>aide</th>\n",
       "      <th>aiming</th>\n",
       "      <th>allaying</th>\n",
       "      <th>allow</th>\n",
       "      <th>allowing</th>\n",
       "      <th>allows</th>\n",
       "      <th>almost</th>\n",
       "      <th>already</th>\n",
       "      <th>also</th>\n",
       "      <th>altering</th>\n",
       "      <th>amazon</th>\n",
       "      <th>american</th>\n",
       "      <th>among</th>\n",
       "      <th>analysis</th>\n",
       "      <th>andrew</th>\n",
       "      <th>announce</th>\n",
       "      <th>announced</th>\n",
       "      <th>annual</th>\n",
       "      <th>another</th>\n",
       "      <th>answer</th>\n",
       "      <th>anti</th>\n",
       "      <th>...</th>\n",
       "      <th>using</th>\n",
       "      <th>variously</th>\n",
       "      <th>vaughan</th>\n",
       "      <th>ve</th>\n",
       "      <th>venue</th>\n",
       "      <th>via</th>\n",
       "      <th>victory</th>\n",
       "      <th>video</th>\n",
       "      <th>view</th>\n",
       "      <th>virgin</th>\n",
       "      <th>virus</th>\n",
       "      <th>vocal</th>\n",
       "      <th>voice</th>\n",
       "      <th>voluntarily</th>\n",
       "      <th>voting</th>\n",
       "      <th>wale</th>\n",
       "      <th>want</th>\n",
       "      <th>warn</th>\n",
       "      <th>warned</th>\n",
       "      <th>warning</th>\n",
       "      <th>watch</th>\n",
       "      <th>way</th>\n",
       "      <th>we</th>\n",
       "      <th>wealthy</th>\n",
       "      <th>website</th>\n",
       "      <th>week</th>\n",
       "      <th>welcome</th>\n",
       "      <th>welcomed</th>\n",
       "      <th>well</th>\n",
       "      <th>went</th>\n",
       "      <th>west</th>\n",
       "      <th>whipped</th>\n",
       "      <th>wi</th>\n",
       "      <th>william</th>\n",
       "      <th>win</th>\n",
       "      <th>winning</th>\n",
       "      <th>wireless</th>\n",
       "      <th>without</th>\n",
       "      <th>women</th>\n",
       "      <th>wondimu</th>\n",
       "      <th>wood</th>\n",
       "      <th>word</th>\n",
       "      <th>world</th>\n",
       "      <th>would</th>\n",
       "      <th>xbox</th>\n",
       "      <th>year</th>\n",
       "      <th>yepp</th>\n",
       "      <th>yh</th>\n",
       "      <th>yorkshire</th>\n",
       "      <th>TARGET</th>\n",
       "    </tr>\n",
       "  </thead>\n",
       "  <tbody>\n",
       "    <tr>\n",
       "      <th>0</th>\n",
       "      <td>0.000000</td>\n",
       "      <td>0.000000</td>\n",
       "      <td>0.000000</td>\n",
       "      <td>0.05826</td>\n",
       "      <td>0.000000</td>\n",
       "      <td>0.000000</td>\n",
       "      <td>0.000000</td>\n",
       "      <td>0.000000</td>\n",
       "      <td>0.000000</td>\n",
       "      <td>0.05826</td>\n",
       "      <td>0.000000</td>\n",
       "      <td>0.000000</td>\n",
       "      <td>0.05826</td>\n",
       "      <td>0.000000</td>\n",
       "      <td>0.000000</td>\n",
       "      <td>0.000000</td>\n",
       "      <td>0.000000</td>\n",
       "      <td>0.000000</td>\n",
       "      <td>0.05826</td>\n",
       "      <td>0.05826</td>\n",
       "      <td>0.000000</td>\n",
       "      <td>0.000000</td>\n",
       "      <td>0.000000</td>\n",
       "      <td>0.000000</td>\n",
       "      <td>0.000000</td>\n",
       "      <td>0.000000</td>\n",
       "      <td>0.000000</td>\n",
       "      <td>0.000000</td>\n",
       "      <td>0.000000</td>\n",
       "      <td>0.000000</td>\n",
       "      <td>0.000000</td>\n",
       "      <td>0.000000</td>\n",
       "      <td>0.000000</td>\n",
       "      <td>0.000000</td>\n",
       "      <td>0.000000</td>\n",
       "      <td>0.000000</td>\n",
       "      <td>0.000000</td>\n",
       "      <td>0.000000</td>\n",
       "      <td>0.000000</td>\n",
       "      <td>0.05826</td>\n",
       "      <td>0.000000</td>\n",
       "      <td>0.000000</td>\n",
       "      <td>0.000000</td>\n",
       "      <td>0.000000</td>\n",
       "      <td>0.000000</td>\n",
       "      <td>0.000000</td>\n",
       "      <td>0.000000</td>\n",
       "      <td>0.000000</td>\n",
       "      <td>0.000000</td>\n",
       "      <td>0.000000</td>\n",
       "      <td>...</td>\n",
       "      <td>0.000000</td>\n",
       "      <td>0.000000</td>\n",
       "      <td>0.000000</td>\n",
       "      <td>0.000000</td>\n",
       "      <td>0.000000</td>\n",
       "      <td>0.000000</td>\n",
       "      <td>0.000000</td>\n",
       "      <td>0.000000</td>\n",
       "      <td>0.000000</td>\n",
       "      <td>0.000000</td>\n",
       "      <td>0.000000</td>\n",
       "      <td>0.05826</td>\n",
       "      <td>0.000000</td>\n",
       "      <td>0.000000</td>\n",
       "      <td>0.05826</td>\n",
       "      <td>0.000000</td>\n",
       "      <td>0.000000</td>\n",
       "      <td>0.000000</td>\n",
       "      <td>0.000000</td>\n",
       "      <td>0.000000</td>\n",
       "      <td>0.000000</td>\n",
       "      <td>0.000000</td>\n",
       "      <td>0.000000</td>\n",
       "      <td>0.000000</td>\n",
       "      <td>0.000000</td>\n",
       "      <td>0.000000</td>\n",
       "      <td>0.000000</td>\n",
       "      <td>0.05826</td>\n",
       "      <td>0.000000</td>\n",
       "      <td>0.000000</td>\n",
       "      <td>0.000000</td>\n",
       "      <td>0.000000</td>\n",
       "      <td>0.000000</td>\n",
       "      <td>0.000000</td>\n",
       "      <td>0.000000</td>\n",
       "      <td>0.000000</td>\n",
       "      <td>0.000000</td>\n",
       "      <td>0.044198</td>\n",
       "      <td>0.000000</td>\n",
       "      <td>0.000000</td>\n",
       "      <td>0.000000</td>\n",
       "      <td>0.05826</td>\n",
       "      <td>0.000000</td>\n",
       "      <td>0.098535</td>\n",
       "      <td>0.000000</td>\n",
       "      <td>0.000000</td>\n",
       "      <td>0.000000</td>\n",
       "      <td>0.000000</td>\n",
       "      <td>0.000000</td>\n",
       "      <td>1</td>\n",
       "    </tr>\n",
       "    <tr>\n",
       "      <th>1</th>\n",
       "      <td>0.000000</td>\n",
       "      <td>0.000000</td>\n",
       "      <td>0.000000</td>\n",
       "      <td>0.00000</td>\n",
       "      <td>0.000000</td>\n",
       "      <td>0.000000</td>\n",
       "      <td>0.000000</td>\n",
       "      <td>0.000000</td>\n",
       "      <td>0.000000</td>\n",
       "      <td>0.00000</td>\n",
       "      <td>0.000000</td>\n",
       "      <td>0.000000</td>\n",
       "      <td>0.00000</td>\n",
       "      <td>0.000000</td>\n",
       "      <td>0.000000</td>\n",
       "      <td>0.000000</td>\n",
       "      <td>0.000000</td>\n",
       "      <td>0.000000</td>\n",
       "      <td>0.00000</td>\n",
       "      <td>0.00000</td>\n",
       "      <td>0.087406</td>\n",
       "      <td>0.000000</td>\n",
       "      <td>0.000000</td>\n",
       "      <td>0.000000</td>\n",
       "      <td>0.000000</td>\n",
       "      <td>0.000000</td>\n",
       "      <td>0.087406</td>\n",
       "      <td>0.087406</td>\n",
       "      <td>0.000000</td>\n",
       "      <td>0.000000</td>\n",
       "      <td>0.000000</td>\n",
       "      <td>0.000000</td>\n",
       "      <td>0.000000</td>\n",
       "      <td>0.000000</td>\n",
       "      <td>0.000000</td>\n",
       "      <td>0.000000</td>\n",
       "      <td>0.000000</td>\n",
       "      <td>0.098554</td>\n",
       "      <td>0.000000</td>\n",
       "      <td>0.00000</td>\n",
       "      <td>0.000000</td>\n",
       "      <td>0.000000</td>\n",
       "      <td>0.087406</td>\n",
       "      <td>0.000000</td>\n",
       "      <td>0.087406</td>\n",
       "      <td>0.075065</td>\n",
       "      <td>0.000000</td>\n",
       "      <td>0.000000</td>\n",
       "      <td>0.000000</td>\n",
       "      <td>0.000000</td>\n",
       "      <td>...</td>\n",
       "      <td>0.000000</td>\n",
       "      <td>0.000000</td>\n",
       "      <td>0.000000</td>\n",
       "      <td>0.000000</td>\n",
       "      <td>0.000000</td>\n",
       "      <td>0.000000</td>\n",
       "      <td>0.000000</td>\n",
       "      <td>0.000000</td>\n",
       "      <td>0.000000</td>\n",
       "      <td>0.000000</td>\n",
       "      <td>0.000000</td>\n",
       "      <td>0.00000</td>\n",
       "      <td>0.000000</td>\n",
       "      <td>0.000000</td>\n",
       "      <td>0.00000</td>\n",
       "      <td>0.000000</td>\n",
       "      <td>0.000000</td>\n",
       "      <td>0.000000</td>\n",
       "      <td>0.000000</td>\n",
       "      <td>0.000000</td>\n",
       "      <td>0.000000</td>\n",
       "      <td>0.000000</td>\n",
       "      <td>0.000000</td>\n",
       "      <td>0.087406</td>\n",
       "      <td>0.000000</td>\n",
       "      <td>0.066310</td>\n",
       "      <td>0.000000</td>\n",
       "      <td>0.00000</td>\n",
       "      <td>0.000000</td>\n",
       "      <td>0.000000</td>\n",
       "      <td>0.000000</td>\n",
       "      <td>0.000000</td>\n",
       "      <td>0.000000</td>\n",
       "      <td>0.000000</td>\n",
       "      <td>0.000000</td>\n",
       "      <td>0.000000</td>\n",
       "      <td>0.000000</td>\n",
       "      <td>0.000000</td>\n",
       "      <td>0.000000</td>\n",
       "      <td>0.000000</td>\n",
       "      <td>0.000000</td>\n",
       "      <td>0.00000</td>\n",
       "      <td>0.049277</td>\n",
       "      <td>0.049277</td>\n",
       "      <td>0.000000</td>\n",
       "      <td>0.035520</td>\n",
       "      <td>0.000000</td>\n",
       "      <td>0.000000</td>\n",
       "      <td>0.000000</td>\n",
       "      <td>1</td>\n",
       "    </tr>\n",
       "    <tr>\n",
       "      <th>2</th>\n",
       "      <td>0.000000</td>\n",
       "      <td>0.000000</td>\n",
       "      <td>0.000000</td>\n",
       "      <td>0.00000</td>\n",
       "      <td>0.000000</td>\n",
       "      <td>0.000000</td>\n",
       "      <td>0.052772</td>\n",
       "      <td>0.000000</td>\n",
       "      <td>0.000000</td>\n",
       "      <td>0.00000</td>\n",
       "      <td>0.000000</td>\n",
       "      <td>0.000000</td>\n",
       "      <td>0.00000</td>\n",
       "      <td>0.000000</td>\n",
       "      <td>0.000000</td>\n",
       "      <td>0.061447</td>\n",
       "      <td>0.000000</td>\n",
       "      <td>0.000000</td>\n",
       "      <td>0.00000</td>\n",
       "      <td>0.00000</td>\n",
       "      <td>0.000000</td>\n",
       "      <td>0.061447</td>\n",
       "      <td>0.000000</td>\n",
       "      <td>0.000000</td>\n",
       "      <td>0.000000</td>\n",
       "      <td>0.000000</td>\n",
       "      <td>0.000000</td>\n",
       "      <td>0.000000</td>\n",
       "      <td>0.000000</td>\n",
       "      <td>0.000000</td>\n",
       "      <td>0.000000</td>\n",
       "      <td>0.000000</td>\n",
       "      <td>0.000000</td>\n",
       "      <td>0.000000</td>\n",
       "      <td>0.000000</td>\n",
       "      <td>0.000000</td>\n",
       "      <td>0.000000</td>\n",
       "      <td>0.000000</td>\n",
       "      <td>0.061447</td>\n",
       "      <td>0.00000</td>\n",
       "      <td>0.000000</td>\n",
       "      <td>0.061447</td>\n",
       "      <td>0.000000</td>\n",
       "      <td>0.000000</td>\n",
       "      <td>0.000000</td>\n",
       "      <td>0.000000</td>\n",
       "      <td>0.000000</td>\n",
       "      <td>0.000000</td>\n",
       "      <td>0.000000</td>\n",
       "      <td>0.000000</td>\n",
       "      <td>...</td>\n",
       "      <td>0.000000</td>\n",
       "      <td>0.000000</td>\n",
       "      <td>0.122894</td>\n",
       "      <td>0.061447</td>\n",
       "      <td>0.000000</td>\n",
       "      <td>0.000000</td>\n",
       "      <td>0.000000</td>\n",
       "      <td>0.052772</td>\n",
       "      <td>0.000000</td>\n",
       "      <td>0.000000</td>\n",
       "      <td>0.000000</td>\n",
       "      <td>0.00000</td>\n",
       "      <td>0.000000</td>\n",
       "      <td>0.000000</td>\n",
       "      <td>0.00000</td>\n",
       "      <td>0.000000</td>\n",
       "      <td>0.000000</td>\n",
       "      <td>0.000000</td>\n",
       "      <td>0.000000</td>\n",
       "      <td>0.000000</td>\n",
       "      <td>0.000000</td>\n",
       "      <td>0.000000</td>\n",
       "      <td>0.061447</td>\n",
       "      <td>0.000000</td>\n",
       "      <td>0.000000</td>\n",
       "      <td>0.000000</td>\n",
       "      <td>0.000000</td>\n",
       "      <td>0.00000</td>\n",
       "      <td>0.000000</td>\n",
       "      <td>0.000000</td>\n",
       "      <td>0.000000</td>\n",
       "      <td>0.000000</td>\n",
       "      <td>0.000000</td>\n",
       "      <td>0.000000</td>\n",
       "      <td>0.000000</td>\n",
       "      <td>0.000000</td>\n",
       "      <td>0.000000</td>\n",
       "      <td>0.046616</td>\n",
       "      <td>0.000000</td>\n",
       "      <td>0.000000</td>\n",
       "      <td>0.000000</td>\n",
       "      <td>0.00000</td>\n",
       "      <td>0.000000</td>\n",
       "      <td>0.069284</td>\n",
       "      <td>0.061447</td>\n",
       "      <td>0.099885</td>\n",
       "      <td>0.061447</td>\n",
       "      <td>0.061447</td>\n",
       "      <td>0.000000</td>\n",
       "      <td>0</td>\n",
       "    </tr>\n",
       "    <tr>\n",
       "      <th>3</th>\n",
       "      <td>0.000000</td>\n",
       "      <td>0.000000</td>\n",
       "      <td>0.000000</td>\n",
       "      <td>0.00000</td>\n",
       "      <td>0.000000</td>\n",
       "      <td>0.000000</td>\n",
       "      <td>0.000000</td>\n",
       "      <td>0.000000</td>\n",
       "      <td>0.000000</td>\n",
       "      <td>0.00000</td>\n",
       "      <td>0.000000</td>\n",
       "      <td>0.000000</td>\n",
       "      <td>0.00000</td>\n",
       "      <td>0.058306</td>\n",
       "      <td>0.000000</td>\n",
       "      <td>0.000000</td>\n",
       "      <td>0.000000</td>\n",
       "      <td>0.000000</td>\n",
       "      <td>0.00000</td>\n",
       "      <td>0.00000</td>\n",
       "      <td>0.000000</td>\n",
       "      <td>0.000000</td>\n",
       "      <td>0.000000</td>\n",
       "      <td>0.058306</td>\n",
       "      <td>0.058306</td>\n",
       "      <td>0.000000</td>\n",
       "      <td>0.000000</td>\n",
       "      <td>0.000000</td>\n",
       "      <td>0.000000</td>\n",
       "      <td>0.000000</td>\n",
       "      <td>0.000000</td>\n",
       "      <td>0.000000</td>\n",
       "      <td>0.000000</td>\n",
       "      <td>0.000000</td>\n",
       "      <td>0.000000</td>\n",
       "      <td>0.000000</td>\n",
       "      <td>0.000000</td>\n",
       "      <td>0.000000</td>\n",
       "      <td>0.000000</td>\n",
       "      <td>0.00000</td>\n",
       "      <td>0.000000</td>\n",
       "      <td>0.000000</td>\n",
       "      <td>0.000000</td>\n",
       "      <td>0.000000</td>\n",
       "      <td>0.000000</td>\n",
       "      <td>0.000000</td>\n",
       "      <td>0.000000</td>\n",
       "      <td>0.058306</td>\n",
       "      <td>0.000000</td>\n",
       "      <td>0.000000</td>\n",
       "      <td>...</td>\n",
       "      <td>0.000000</td>\n",
       "      <td>0.058306</td>\n",
       "      <td>0.000000</td>\n",
       "      <td>0.000000</td>\n",
       "      <td>0.000000</td>\n",
       "      <td>0.000000</td>\n",
       "      <td>0.000000</td>\n",
       "      <td>0.000000</td>\n",
       "      <td>0.000000</td>\n",
       "      <td>0.000000</td>\n",
       "      <td>0.000000</td>\n",
       "      <td>0.00000</td>\n",
       "      <td>0.000000</td>\n",
       "      <td>0.000000</td>\n",
       "      <td>0.00000</td>\n",
       "      <td>0.000000</td>\n",
       "      <td>0.000000</td>\n",
       "      <td>0.000000</td>\n",
       "      <td>0.000000</td>\n",
       "      <td>0.000000</td>\n",
       "      <td>0.000000</td>\n",
       "      <td>0.000000</td>\n",
       "      <td>0.000000</td>\n",
       "      <td>0.000000</td>\n",
       "      <td>0.000000</td>\n",
       "      <td>0.000000</td>\n",
       "      <td>0.000000</td>\n",
       "      <td>0.00000</td>\n",
       "      <td>0.000000</td>\n",
       "      <td>0.000000</td>\n",
       "      <td>0.116612</td>\n",
       "      <td>0.000000</td>\n",
       "      <td>0.000000</td>\n",
       "      <td>0.000000</td>\n",
       "      <td>0.000000</td>\n",
       "      <td>0.000000</td>\n",
       "      <td>0.000000</td>\n",
       "      <td>0.000000</td>\n",
       "      <td>0.000000</td>\n",
       "      <td>0.000000</td>\n",
       "      <td>0.000000</td>\n",
       "      <td>0.00000</td>\n",
       "      <td>0.000000</td>\n",
       "      <td>0.000000</td>\n",
       "      <td>0.000000</td>\n",
       "      <td>0.047389</td>\n",
       "      <td>0.000000</td>\n",
       "      <td>0.000000</td>\n",
       "      <td>0.116612</td>\n",
       "      <td>1</td>\n",
       "    </tr>\n",
       "    <tr>\n",
       "      <th>4</th>\n",
       "      <td>0.000000</td>\n",
       "      <td>0.000000</td>\n",
       "      <td>0.000000</td>\n",
       "      <td>0.00000</td>\n",
       "      <td>0.000000</td>\n",
       "      <td>0.063394</td>\n",
       "      <td>0.054443</td>\n",
       "      <td>0.048093</td>\n",
       "      <td>0.000000</td>\n",
       "      <td>0.00000</td>\n",
       "      <td>0.000000</td>\n",
       "      <td>0.000000</td>\n",
       "      <td>0.00000</td>\n",
       "      <td>0.000000</td>\n",
       "      <td>0.000000</td>\n",
       "      <td>0.000000</td>\n",
       "      <td>0.000000</td>\n",
       "      <td>0.063394</td>\n",
       "      <td>0.00000</td>\n",
       "      <td>0.00000</td>\n",
       "      <td>0.000000</td>\n",
       "      <td>0.000000</td>\n",
       "      <td>0.126788</td>\n",
       "      <td>0.000000</td>\n",
       "      <td>0.000000</td>\n",
       "      <td>0.000000</td>\n",
       "      <td>0.000000</td>\n",
       "      <td>0.000000</td>\n",
       "      <td>0.000000</td>\n",
       "      <td>0.000000</td>\n",
       "      <td>0.000000</td>\n",
       "      <td>0.000000</td>\n",
       "      <td>0.000000</td>\n",
       "      <td>0.000000</td>\n",
       "      <td>0.000000</td>\n",
       "      <td>0.000000</td>\n",
       "      <td>0.000000</td>\n",
       "      <td>0.000000</td>\n",
       "      <td>0.000000</td>\n",
       "      <td>0.00000</td>\n",
       "      <td>0.000000</td>\n",
       "      <td>0.000000</td>\n",
       "      <td>0.000000</td>\n",
       "      <td>0.000000</td>\n",
       "      <td>0.000000</td>\n",
       "      <td>0.000000</td>\n",
       "      <td>0.000000</td>\n",
       "      <td>0.000000</td>\n",
       "      <td>0.054443</td>\n",
       "      <td>0.000000</td>\n",
       "      <td>...</td>\n",
       "      <td>0.000000</td>\n",
       "      <td>0.000000</td>\n",
       "      <td>0.000000</td>\n",
       "      <td>0.000000</td>\n",
       "      <td>0.000000</td>\n",
       "      <td>0.054443</td>\n",
       "      <td>0.000000</td>\n",
       "      <td>0.000000</td>\n",
       "      <td>0.000000</td>\n",
       "      <td>0.000000</td>\n",
       "      <td>0.316969</td>\n",
       "      <td>0.00000</td>\n",
       "      <td>0.000000</td>\n",
       "      <td>0.000000</td>\n",
       "      <td>0.00000</td>\n",
       "      <td>0.000000</td>\n",
       "      <td>0.000000</td>\n",
       "      <td>0.063394</td>\n",
       "      <td>0.063394</td>\n",
       "      <td>0.126788</td>\n",
       "      <td>0.000000</td>\n",
       "      <td>0.000000</td>\n",
       "      <td>0.000000</td>\n",
       "      <td>0.000000</td>\n",
       "      <td>0.063394</td>\n",
       "      <td>0.000000</td>\n",
       "      <td>0.000000</td>\n",
       "      <td>0.00000</td>\n",
       "      <td>0.000000</td>\n",
       "      <td>0.000000</td>\n",
       "      <td>0.000000</td>\n",
       "      <td>0.000000</td>\n",
       "      <td>0.000000</td>\n",
       "      <td>0.000000</td>\n",
       "      <td>0.000000</td>\n",
       "      <td>0.000000</td>\n",
       "      <td>0.000000</td>\n",
       "      <td>0.000000</td>\n",
       "      <td>0.000000</td>\n",
       "      <td>0.000000</td>\n",
       "      <td>0.000000</td>\n",
       "      <td>0.00000</td>\n",
       "      <td>0.000000</td>\n",
       "      <td>0.000000</td>\n",
       "      <td>0.000000</td>\n",
       "      <td>0.000000</td>\n",
       "      <td>0.000000</td>\n",
       "      <td>0.000000</td>\n",
       "      <td>0.000000</td>\n",
       "      <td>1</td>\n",
       "    </tr>\n",
       "    <tr>\n",
       "      <th>5</th>\n",
       "      <td>0.000000</td>\n",
       "      <td>0.000000</td>\n",
       "      <td>0.000000</td>\n",
       "      <td>0.00000</td>\n",
       "      <td>0.000000</td>\n",
       "      <td>0.000000</td>\n",
       "      <td>0.000000</td>\n",
       "      <td>0.000000</td>\n",
       "      <td>0.000000</td>\n",
       "      <td>0.00000</td>\n",
       "      <td>0.000000</td>\n",
       "      <td>0.000000</td>\n",
       "      <td>0.00000</td>\n",
       "      <td>0.000000</td>\n",
       "      <td>0.000000</td>\n",
       "      <td>0.000000</td>\n",
       "      <td>0.000000</td>\n",
       "      <td>0.000000</td>\n",
       "      <td>0.00000</td>\n",
       "      <td>0.00000</td>\n",
       "      <td>0.000000</td>\n",
       "      <td>0.000000</td>\n",
       "      <td>0.000000</td>\n",
       "      <td>0.000000</td>\n",
       "      <td>0.000000</td>\n",
       "      <td>0.092626</td>\n",
       "      <td>0.000000</td>\n",
       "      <td>0.000000</td>\n",
       "      <td>0.000000</td>\n",
       "      <td>0.000000</td>\n",
       "      <td>0.000000</td>\n",
       "      <td>0.000000</td>\n",
       "      <td>0.000000</td>\n",
       "      <td>0.000000</td>\n",
       "      <td>0.000000</td>\n",
       "      <td>0.000000</td>\n",
       "      <td>0.000000</td>\n",
       "      <td>0.052220</td>\n",
       "      <td>0.000000</td>\n",
       "      <td>0.00000</td>\n",
       "      <td>0.000000</td>\n",
       "      <td>0.000000</td>\n",
       "      <td>0.000000</td>\n",
       "      <td>0.000000</td>\n",
       "      <td>0.000000</td>\n",
       "      <td>0.079548</td>\n",
       "      <td>0.000000</td>\n",
       "      <td>0.000000</td>\n",
       "      <td>0.000000</td>\n",
       "      <td>0.000000</td>\n",
       "      <td>...</td>\n",
       "      <td>0.000000</td>\n",
       "      <td>0.000000</td>\n",
       "      <td>0.000000</td>\n",
       "      <td>0.000000</td>\n",
       "      <td>0.000000</td>\n",
       "      <td>0.000000</td>\n",
       "      <td>0.000000</td>\n",
       "      <td>0.000000</td>\n",
       "      <td>0.000000</td>\n",
       "      <td>0.000000</td>\n",
       "      <td>0.000000</td>\n",
       "      <td>0.00000</td>\n",
       "      <td>0.000000</td>\n",
       "      <td>0.000000</td>\n",
       "      <td>0.00000</td>\n",
       "      <td>0.000000</td>\n",
       "      <td>0.000000</td>\n",
       "      <td>0.000000</td>\n",
       "      <td>0.000000</td>\n",
       "      <td>0.000000</td>\n",
       "      <td>0.000000</td>\n",
       "      <td>0.000000</td>\n",
       "      <td>0.000000</td>\n",
       "      <td>0.000000</td>\n",
       "      <td>0.000000</td>\n",
       "      <td>0.070269</td>\n",
       "      <td>0.000000</td>\n",
       "      <td>0.00000</td>\n",
       "      <td>0.000000</td>\n",
       "      <td>0.000000</td>\n",
       "      <td>0.000000</td>\n",
       "      <td>0.000000</td>\n",
       "      <td>0.000000</td>\n",
       "      <td>0.000000</td>\n",
       "      <td>0.000000</td>\n",
       "      <td>0.000000</td>\n",
       "      <td>0.000000</td>\n",
       "      <td>0.000000</td>\n",
       "      <td>0.000000</td>\n",
       "      <td>0.000000</td>\n",
       "      <td>0.000000</td>\n",
       "      <td>0.00000</td>\n",
       "      <td>0.104439</td>\n",
       "      <td>0.104439</td>\n",
       "      <td>0.000000</td>\n",
       "      <td>0.075283</td>\n",
       "      <td>0.000000</td>\n",
       "      <td>0.000000</td>\n",
       "      <td>0.000000</td>\n",
       "      <td>0</td>\n",
       "    </tr>\n",
       "    <tr>\n",
       "      <th>6</th>\n",
       "      <td>0.000000</td>\n",
       "      <td>0.000000</td>\n",
       "      <td>0.000000</td>\n",
       "      <td>0.00000</td>\n",
       "      <td>0.000000</td>\n",
       "      <td>0.000000</td>\n",
       "      <td>0.000000</td>\n",
       "      <td>0.000000</td>\n",
       "      <td>0.000000</td>\n",
       "      <td>0.00000</td>\n",
       "      <td>0.000000</td>\n",
       "      <td>0.000000</td>\n",
       "      <td>0.00000</td>\n",
       "      <td>0.000000</td>\n",
       "      <td>0.000000</td>\n",
       "      <td>0.000000</td>\n",
       "      <td>0.000000</td>\n",
       "      <td>0.000000</td>\n",
       "      <td>0.00000</td>\n",
       "      <td>0.00000</td>\n",
       "      <td>0.000000</td>\n",
       "      <td>0.000000</td>\n",
       "      <td>0.000000</td>\n",
       "      <td>0.000000</td>\n",
       "      <td>0.000000</td>\n",
       "      <td>0.000000</td>\n",
       "      <td>0.000000</td>\n",
       "      <td>0.000000</td>\n",
       "      <td>0.000000</td>\n",
       "      <td>0.000000</td>\n",
       "      <td>0.000000</td>\n",
       "      <td>0.000000</td>\n",
       "      <td>0.000000</td>\n",
       "      <td>0.000000</td>\n",
       "      <td>0.000000</td>\n",
       "      <td>0.054737</td>\n",
       "      <td>0.000000</td>\n",
       "      <td>0.035932</td>\n",
       "      <td>0.000000</td>\n",
       "      <td>0.00000</td>\n",
       "      <td>0.063735</td>\n",
       "      <td>0.000000</td>\n",
       "      <td>0.000000</td>\n",
       "      <td>0.000000</td>\n",
       "      <td>0.000000</td>\n",
       "      <td>0.000000</td>\n",
       "      <td>0.000000</td>\n",
       "      <td>0.000000</td>\n",
       "      <td>0.000000</td>\n",
       "      <td>0.000000</td>\n",
       "      <td>...</td>\n",
       "      <td>0.000000</td>\n",
       "      <td>0.000000</td>\n",
       "      <td>0.000000</td>\n",
       "      <td>0.000000</td>\n",
       "      <td>0.000000</td>\n",
       "      <td>0.000000</td>\n",
       "      <td>0.063735</td>\n",
       "      <td>0.000000</td>\n",
       "      <td>0.000000</td>\n",
       "      <td>0.000000</td>\n",
       "      <td>0.000000</td>\n",
       "      <td>0.00000</td>\n",
       "      <td>0.000000</td>\n",
       "      <td>0.000000</td>\n",
       "      <td>0.00000</td>\n",
       "      <td>0.000000</td>\n",
       "      <td>0.000000</td>\n",
       "      <td>0.000000</td>\n",
       "      <td>0.000000</td>\n",
       "      <td>0.000000</td>\n",
       "      <td>0.000000</td>\n",
       "      <td>0.000000</td>\n",
       "      <td>0.000000</td>\n",
       "      <td>0.000000</td>\n",
       "      <td>0.000000</td>\n",
       "      <td>0.000000</td>\n",
       "      <td>0.000000</td>\n",
       "      <td>0.00000</td>\n",
       "      <td>0.048352</td>\n",
       "      <td>0.000000</td>\n",
       "      <td>0.000000</td>\n",
       "      <td>0.000000</td>\n",
       "      <td>0.000000</td>\n",
       "      <td>0.000000</td>\n",
       "      <td>0.000000</td>\n",
       "      <td>0.054737</td>\n",
       "      <td>0.000000</td>\n",
       "      <td>0.000000</td>\n",
       "      <td>0.063735</td>\n",
       "      <td>0.000000</td>\n",
       "      <td>0.000000</td>\n",
       "      <td>0.00000</td>\n",
       "      <td>0.251525</td>\n",
       "      <td>0.000000</td>\n",
       "      <td>0.000000</td>\n",
       "      <td>0.025901</td>\n",
       "      <td>0.000000</td>\n",
       "      <td>0.000000</td>\n",
       "      <td>0.000000</td>\n",
       "      <td>0</td>\n",
       "    </tr>\n",
       "    <tr>\n",
       "      <th>7</th>\n",
       "      <td>0.000000</td>\n",
       "      <td>0.000000</td>\n",
       "      <td>0.000000</td>\n",
       "      <td>0.00000</td>\n",
       "      <td>0.000000</td>\n",
       "      <td>0.000000</td>\n",
       "      <td>0.000000</td>\n",
       "      <td>0.046725</td>\n",
       "      <td>0.000000</td>\n",
       "      <td>0.00000</td>\n",
       "      <td>0.061591</td>\n",
       "      <td>0.061591</td>\n",
       "      <td>0.00000</td>\n",
       "      <td>0.000000</td>\n",
       "      <td>0.000000</td>\n",
       "      <td>0.000000</td>\n",
       "      <td>0.000000</td>\n",
       "      <td>0.000000</td>\n",
       "      <td>0.00000</td>\n",
       "      <td>0.00000</td>\n",
       "      <td>0.000000</td>\n",
       "      <td>0.000000</td>\n",
       "      <td>0.000000</td>\n",
       "      <td>0.000000</td>\n",
       "      <td>0.000000</td>\n",
       "      <td>0.000000</td>\n",
       "      <td>0.000000</td>\n",
       "      <td>0.000000</td>\n",
       "      <td>0.061591</td>\n",
       "      <td>0.123183</td>\n",
       "      <td>0.000000</td>\n",
       "      <td>0.000000</td>\n",
       "      <td>0.000000</td>\n",
       "      <td>0.000000</td>\n",
       "      <td>0.000000</td>\n",
       "      <td>0.052895</td>\n",
       "      <td>0.000000</td>\n",
       "      <td>0.034723</td>\n",
       "      <td>0.000000</td>\n",
       "      <td>0.00000</td>\n",
       "      <td>0.000000</td>\n",
       "      <td>0.000000</td>\n",
       "      <td>0.000000</td>\n",
       "      <td>0.000000</td>\n",
       "      <td>0.000000</td>\n",
       "      <td>0.000000</td>\n",
       "      <td>0.061591</td>\n",
       "      <td>0.000000</td>\n",
       "      <td>0.052895</td>\n",
       "      <td>0.000000</td>\n",
       "      <td>...</td>\n",
       "      <td>0.000000</td>\n",
       "      <td>0.000000</td>\n",
       "      <td>0.000000</td>\n",
       "      <td>0.000000</td>\n",
       "      <td>0.000000</td>\n",
       "      <td>0.000000</td>\n",
       "      <td>0.000000</td>\n",
       "      <td>0.000000</td>\n",
       "      <td>0.000000</td>\n",
       "      <td>0.000000</td>\n",
       "      <td>0.000000</td>\n",
       "      <td>0.00000</td>\n",
       "      <td>0.000000</td>\n",
       "      <td>0.061591</td>\n",
       "      <td>0.00000</td>\n",
       "      <td>0.123183</td>\n",
       "      <td>0.000000</td>\n",
       "      <td>0.000000</td>\n",
       "      <td>0.000000</td>\n",
       "      <td>0.000000</td>\n",
       "      <td>0.000000</td>\n",
       "      <td>0.000000</td>\n",
       "      <td>0.000000</td>\n",
       "      <td>0.000000</td>\n",
       "      <td>0.000000</td>\n",
       "      <td>0.000000</td>\n",
       "      <td>0.000000</td>\n",
       "      <td>0.00000</td>\n",
       "      <td>0.000000</td>\n",
       "      <td>0.000000</td>\n",
       "      <td>0.000000</td>\n",
       "      <td>0.000000</td>\n",
       "      <td>0.000000</td>\n",
       "      <td>0.061591</td>\n",
       "      <td>0.000000</td>\n",
       "      <td>0.000000</td>\n",
       "      <td>0.000000</td>\n",
       "      <td>0.000000</td>\n",
       "      <td>0.000000</td>\n",
       "      <td>0.000000</td>\n",
       "      <td>0.000000</td>\n",
       "      <td>0.00000</td>\n",
       "      <td>0.000000</td>\n",
       "      <td>0.000000</td>\n",
       "      <td>0.000000</td>\n",
       "      <td>0.025030</td>\n",
       "      <td>0.000000</td>\n",
       "      <td>0.000000</td>\n",
       "      <td>0.000000</td>\n",
       "      <td>1</td>\n",
       "    </tr>\n",
       "    <tr>\n",
       "      <th>8</th>\n",
       "      <td>0.000000</td>\n",
       "      <td>0.000000</td>\n",
       "      <td>0.092736</td>\n",
       "      <td>0.00000</td>\n",
       "      <td>0.092736</td>\n",
       "      <td>0.000000</td>\n",
       "      <td>0.000000</td>\n",
       "      <td>0.035176</td>\n",
       "      <td>0.000000</td>\n",
       "      <td>0.00000</td>\n",
       "      <td>0.000000</td>\n",
       "      <td>0.000000</td>\n",
       "      <td>0.00000</td>\n",
       "      <td>0.000000</td>\n",
       "      <td>0.000000</td>\n",
       "      <td>0.000000</td>\n",
       "      <td>0.039821</td>\n",
       "      <td>0.000000</td>\n",
       "      <td>0.00000</td>\n",
       "      <td>0.00000</td>\n",
       "      <td>0.000000</td>\n",
       "      <td>0.000000</td>\n",
       "      <td>0.000000</td>\n",
       "      <td>0.000000</td>\n",
       "      <td>0.000000</td>\n",
       "      <td>0.000000</td>\n",
       "      <td>0.000000</td>\n",
       "      <td>0.000000</td>\n",
       "      <td>0.000000</td>\n",
       "      <td>0.000000</td>\n",
       "      <td>0.000000</td>\n",
       "      <td>0.000000</td>\n",
       "      <td>0.046368</td>\n",
       "      <td>0.046368</td>\n",
       "      <td>0.046368</td>\n",
       "      <td>0.000000</td>\n",
       "      <td>0.000000</td>\n",
       "      <td>0.026141</td>\n",
       "      <td>0.000000</td>\n",
       "      <td>0.00000</td>\n",
       "      <td>0.000000</td>\n",
       "      <td>0.000000</td>\n",
       "      <td>0.000000</td>\n",
       "      <td>0.000000</td>\n",
       "      <td>0.000000</td>\n",
       "      <td>0.000000</td>\n",
       "      <td>0.000000</td>\n",
       "      <td>0.000000</td>\n",
       "      <td>0.000000</td>\n",
       "      <td>0.000000</td>\n",
       "      <td>...</td>\n",
       "      <td>0.046368</td>\n",
       "      <td>0.000000</td>\n",
       "      <td>0.000000</td>\n",
       "      <td>0.000000</td>\n",
       "      <td>0.000000</td>\n",
       "      <td>0.039821</td>\n",
       "      <td>0.000000</td>\n",
       "      <td>0.039821</td>\n",
       "      <td>0.000000</td>\n",
       "      <td>0.092736</td>\n",
       "      <td>0.000000</td>\n",
       "      <td>0.00000</td>\n",
       "      <td>0.046368</td>\n",
       "      <td>0.000000</td>\n",
       "      <td>0.00000</td>\n",
       "      <td>0.000000</td>\n",
       "      <td>0.000000</td>\n",
       "      <td>0.000000</td>\n",
       "      <td>0.000000</td>\n",
       "      <td>0.000000</td>\n",
       "      <td>0.000000</td>\n",
       "      <td>0.000000</td>\n",
       "      <td>0.000000</td>\n",
       "      <td>0.000000</td>\n",
       "      <td>0.000000</td>\n",
       "      <td>0.035176</td>\n",
       "      <td>0.000000</td>\n",
       "      <td>0.00000</td>\n",
       "      <td>0.070353</td>\n",
       "      <td>0.000000</td>\n",
       "      <td>0.000000</td>\n",
       "      <td>0.000000</td>\n",
       "      <td>0.092736</td>\n",
       "      <td>0.000000</td>\n",
       "      <td>0.000000</td>\n",
       "      <td>0.000000</td>\n",
       "      <td>0.092736</td>\n",
       "      <td>0.035176</td>\n",
       "      <td>0.000000</td>\n",
       "      <td>0.000000</td>\n",
       "      <td>0.000000</td>\n",
       "      <td>0.00000</td>\n",
       "      <td>0.052282</td>\n",
       "      <td>0.026141</td>\n",
       "      <td>0.000000</td>\n",
       "      <td>0.018843</td>\n",
       "      <td>0.000000</td>\n",
       "      <td>0.000000</td>\n",
       "      <td>0.000000</td>\n",
       "      <td>0</td>\n",
       "    </tr>\n",
       "    <tr>\n",
       "      <th>9</th>\n",
       "      <td>0.081156</td>\n",
       "      <td>0.081156</td>\n",
       "      <td>0.000000</td>\n",
       "      <td>0.00000</td>\n",
       "      <td>0.000000</td>\n",
       "      <td>0.000000</td>\n",
       "      <td>0.000000</td>\n",
       "      <td>0.000000</td>\n",
       "      <td>0.000000</td>\n",
       "      <td>0.00000</td>\n",
       "      <td>0.000000</td>\n",
       "      <td>0.000000</td>\n",
       "      <td>0.00000</td>\n",
       "      <td>0.000000</td>\n",
       "      <td>0.000000</td>\n",
       "      <td>0.000000</td>\n",
       "      <td>0.069698</td>\n",
       "      <td>0.000000</td>\n",
       "      <td>0.00000</td>\n",
       "      <td>0.00000</td>\n",
       "      <td>0.000000</td>\n",
       "      <td>0.000000</td>\n",
       "      <td>0.000000</td>\n",
       "      <td>0.000000</td>\n",
       "      <td>0.000000</td>\n",
       "      <td>0.000000</td>\n",
       "      <td>0.000000</td>\n",
       "      <td>0.000000</td>\n",
       "      <td>0.000000</td>\n",
       "      <td>0.000000</td>\n",
       "      <td>0.069698</td>\n",
       "      <td>0.000000</td>\n",
       "      <td>0.000000</td>\n",
       "      <td>0.000000</td>\n",
       "      <td>0.000000</td>\n",
       "      <td>0.000000</td>\n",
       "      <td>0.069698</td>\n",
       "      <td>0.000000</td>\n",
       "      <td>0.000000</td>\n",
       "      <td>0.00000</td>\n",
       "      <td>0.000000</td>\n",
       "      <td>0.000000</td>\n",
       "      <td>0.000000</td>\n",
       "      <td>0.000000</td>\n",
       "      <td>0.000000</td>\n",
       "      <td>0.000000</td>\n",
       "      <td>0.000000</td>\n",
       "      <td>0.000000</td>\n",
       "      <td>0.000000</td>\n",
       "      <td>0.000000</td>\n",
       "      <td>...</td>\n",
       "      <td>0.000000</td>\n",
       "      <td>0.000000</td>\n",
       "      <td>0.000000</td>\n",
       "      <td>0.000000</td>\n",
       "      <td>0.000000</td>\n",
       "      <td>0.000000</td>\n",
       "      <td>0.000000</td>\n",
       "      <td>0.000000</td>\n",
       "      <td>0.000000</td>\n",
       "      <td>0.000000</td>\n",
       "      <td>0.000000</td>\n",
       "      <td>0.00000</td>\n",
       "      <td>0.000000</td>\n",
       "      <td>0.000000</td>\n",
       "      <td>0.00000</td>\n",
       "      <td>0.000000</td>\n",
       "      <td>0.000000</td>\n",
       "      <td>0.000000</td>\n",
       "      <td>0.000000</td>\n",
       "      <td>0.000000</td>\n",
       "      <td>0.000000</td>\n",
       "      <td>0.000000</td>\n",
       "      <td>0.000000</td>\n",
       "      <td>0.000000</td>\n",
       "      <td>0.000000</td>\n",
       "      <td>0.000000</td>\n",
       "      <td>0.000000</td>\n",
       "      <td>0.00000</td>\n",
       "      <td>0.000000</td>\n",
       "      <td>0.000000</td>\n",
       "      <td>0.000000</td>\n",
       "      <td>0.000000</td>\n",
       "      <td>0.000000</td>\n",
       "      <td>0.000000</td>\n",
       "      <td>0.000000</td>\n",
       "      <td>0.000000</td>\n",
       "      <td>0.000000</td>\n",
       "      <td>0.000000</td>\n",
       "      <td>0.000000</td>\n",
       "      <td>0.081156</td>\n",
       "      <td>0.000000</td>\n",
       "      <td>0.00000</td>\n",
       "      <td>0.274521</td>\n",
       "      <td>0.000000</td>\n",
       "      <td>0.000000</td>\n",
       "      <td>0.065961</td>\n",
       "      <td>0.000000</td>\n",
       "      <td>0.000000</td>\n",
       "      <td>0.000000</td>\n",
       "      <td>0</td>\n",
       "    </tr>\n",
       "    <tr>\n",
       "      <th>10</th>\n",
       "      <td>0.000000</td>\n",
       "      <td>0.000000</td>\n",
       "      <td>0.000000</td>\n",
       "      <td>0.00000</td>\n",
       "      <td>0.000000</td>\n",
       "      <td>0.000000</td>\n",
       "      <td>0.000000</td>\n",
       "      <td>0.000000</td>\n",
       "      <td>0.120918</td>\n",
       "      <td>0.00000</td>\n",
       "      <td>0.000000</td>\n",
       "      <td>0.000000</td>\n",
       "      <td>0.00000</td>\n",
       "      <td>0.000000</td>\n",
       "      <td>0.060459</td>\n",
       "      <td>0.000000</td>\n",
       "      <td>0.000000</td>\n",
       "      <td>0.000000</td>\n",
       "      <td>0.00000</td>\n",
       "      <td>0.00000</td>\n",
       "      <td>0.000000</td>\n",
       "      <td>0.000000</td>\n",
       "      <td>0.000000</td>\n",
       "      <td>0.000000</td>\n",
       "      <td>0.000000</td>\n",
       "      <td>0.000000</td>\n",
       "      <td>0.000000</td>\n",
       "      <td>0.000000</td>\n",
       "      <td>0.000000</td>\n",
       "      <td>0.000000</td>\n",
       "      <td>0.000000</td>\n",
       "      <td>0.060459</td>\n",
       "      <td>0.000000</td>\n",
       "      <td>0.000000</td>\n",
       "      <td>0.000000</td>\n",
       "      <td>0.000000</td>\n",
       "      <td>0.103846</td>\n",
       "      <td>0.000000</td>\n",
       "      <td>0.000000</td>\n",
       "      <td>0.00000</td>\n",
       "      <td>0.000000</td>\n",
       "      <td>0.000000</td>\n",
       "      <td>0.000000</td>\n",
       "      <td>0.060459</td>\n",
       "      <td>0.000000</td>\n",
       "      <td>0.000000</td>\n",
       "      <td>0.000000</td>\n",
       "      <td>0.000000</td>\n",
       "      <td>0.000000</td>\n",
       "      <td>0.120918</td>\n",
       "      <td>...</td>\n",
       "      <td>0.000000</td>\n",
       "      <td>0.000000</td>\n",
       "      <td>0.000000</td>\n",
       "      <td>0.000000</td>\n",
       "      <td>0.000000</td>\n",
       "      <td>0.000000</td>\n",
       "      <td>0.000000</td>\n",
       "      <td>0.000000</td>\n",
       "      <td>0.060459</td>\n",
       "      <td>0.000000</td>\n",
       "      <td>0.000000</td>\n",
       "      <td>0.00000</td>\n",
       "      <td>0.000000</td>\n",
       "      <td>0.000000</td>\n",
       "      <td>0.00000</td>\n",
       "      <td>0.000000</td>\n",
       "      <td>0.000000</td>\n",
       "      <td>0.000000</td>\n",
       "      <td>0.000000</td>\n",
       "      <td>0.000000</td>\n",
       "      <td>0.181377</td>\n",
       "      <td>0.060459</td>\n",
       "      <td>0.000000</td>\n",
       "      <td>0.000000</td>\n",
       "      <td>0.000000</td>\n",
       "      <td>0.000000</td>\n",
       "      <td>0.060459</td>\n",
       "      <td>0.00000</td>\n",
       "      <td>0.000000</td>\n",
       "      <td>0.060459</td>\n",
       "      <td>0.000000</td>\n",
       "      <td>0.060459</td>\n",
       "      <td>0.000000</td>\n",
       "      <td>0.000000</td>\n",
       "      <td>0.000000</td>\n",
       "      <td>0.000000</td>\n",
       "      <td>0.000000</td>\n",
       "      <td>0.000000</td>\n",
       "      <td>0.000000</td>\n",
       "      <td>0.000000</td>\n",
       "      <td>0.060459</td>\n",
       "      <td>0.00000</td>\n",
       "      <td>0.000000</td>\n",
       "      <td>0.102255</td>\n",
       "      <td>0.000000</td>\n",
       "      <td>0.024570</td>\n",
       "      <td>0.000000</td>\n",
       "      <td>0.000000</td>\n",
       "      <td>0.000000</td>\n",
       "      <td>1</td>\n",
       "    </tr>\n",
       "    <tr>\n",
       "      <th>11</th>\n",
       "      <td>0.000000</td>\n",
       "      <td>0.000000</td>\n",
       "      <td>0.000000</td>\n",
       "      <td>0.00000</td>\n",
       "      <td>0.000000</td>\n",
       "      <td>0.000000</td>\n",
       "      <td>0.000000</td>\n",
       "      <td>0.000000</td>\n",
       "      <td>0.000000</td>\n",
       "      <td>0.00000</td>\n",
       "      <td>0.000000</td>\n",
       "      <td>0.000000</td>\n",
       "      <td>0.00000</td>\n",
       "      <td>0.000000</td>\n",
       "      <td>0.000000</td>\n",
       "      <td>0.000000</td>\n",
       "      <td>0.000000</td>\n",
       "      <td>0.000000</td>\n",
       "      <td>0.00000</td>\n",
       "      <td>0.00000</td>\n",
       "      <td>0.000000</td>\n",
       "      <td>0.000000</td>\n",
       "      <td>0.000000</td>\n",
       "      <td>0.000000</td>\n",
       "      <td>0.000000</td>\n",
       "      <td>0.000000</td>\n",
       "      <td>0.000000</td>\n",
       "      <td>0.000000</td>\n",
       "      <td>0.000000</td>\n",
       "      <td>0.000000</td>\n",
       "      <td>0.062277</td>\n",
       "      <td>0.000000</td>\n",
       "      <td>0.000000</td>\n",
       "      <td>0.000000</td>\n",
       "      <td>0.000000</td>\n",
       "      <td>0.000000</td>\n",
       "      <td>0.000000</td>\n",
       "      <td>0.040882</td>\n",
       "      <td>0.000000</td>\n",
       "      <td>0.00000</td>\n",
       "      <td>0.000000</td>\n",
       "      <td>0.000000</td>\n",
       "      <td>0.000000</td>\n",
       "      <td>0.000000</td>\n",
       "      <td>0.000000</td>\n",
       "      <td>0.000000</td>\n",
       "      <td>0.000000</td>\n",
       "      <td>0.000000</td>\n",
       "      <td>0.000000</td>\n",
       "      <td>0.000000</td>\n",
       "      <td>...</td>\n",
       "      <td>0.000000</td>\n",
       "      <td>0.000000</td>\n",
       "      <td>0.000000</td>\n",
       "      <td>0.000000</td>\n",
       "      <td>0.072515</td>\n",
       "      <td>0.000000</td>\n",
       "      <td>0.000000</td>\n",
       "      <td>0.000000</td>\n",
       "      <td>0.000000</td>\n",
       "      <td>0.000000</td>\n",
       "      <td>0.000000</td>\n",
       "      <td>0.00000</td>\n",
       "      <td>0.000000</td>\n",
       "      <td>0.000000</td>\n",
       "      <td>0.00000</td>\n",
       "      <td>0.000000</td>\n",
       "      <td>0.072515</td>\n",
       "      <td>0.000000</td>\n",
       "      <td>0.000000</td>\n",
       "      <td>0.000000</td>\n",
       "      <td>0.000000</td>\n",
       "      <td>0.000000</td>\n",
       "      <td>0.000000</td>\n",
       "      <td>0.000000</td>\n",
       "      <td>0.000000</td>\n",
       "      <td>0.000000</td>\n",
       "      <td>0.000000</td>\n",
       "      <td>0.00000</td>\n",
       "      <td>0.055013</td>\n",
       "      <td>0.000000</td>\n",
       "      <td>0.000000</td>\n",
       "      <td>0.000000</td>\n",
       "      <td>0.000000</td>\n",
       "      <td>0.000000</td>\n",
       "      <td>0.072515</td>\n",
       "      <td>0.062277</td>\n",
       "      <td>0.000000</td>\n",
       "      <td>0.000000</td>\n",
       "      <td>0.000000</td>\n",
       "      <td>0.000000</td>\n",
       "      <td>0.000000</td>\n",
       "      <td>0.00000</td>\n",
       "      <td>0.286175</td>\n",
       "      <td>0.000000</td>\n",
       "      <td>0.000000</td>\n",
       "      <td>0.058938</td>\n",
       "      <td>0.000000</td>\n",
       "      <td>0.000000</td>\n",
       "      <td>0.000000</td>\n",
       "      <td>0</td>\n",
       "    </tr>\n",
       "  </tbody>\n",
       "</table>\n",
       "<p>12 rows × 867 columns</p>\n",
       "</div>"
      ],
      "text/plain": [
       "       abate   abiyote      able  abstain    access  accessed  according  \\\n",
       "0   0.000000  0.000000  0.000000  0.05826  0.000000  0.000000   0.000000   \n",
       "1   0.000000  0.000000  0.000000  0.00000  0.000000  0.000000   0.000000   \n",
       "2   0.000000  0.000000  0.000000  0.00000  0.000000  0.000000   0.052772   \n",
       "3   0.000000  0.000000  0.000000  0.00000  0.000000  0.000000   0.000000   \n",
       "4   0.000000  0.000000  0.000000  0.00000  0.000000  0.063394   0.054443   \n",
       "5   0.000000  0.000000  0.000000  0.00000  0.000000  0.000000   0.000000   \n",
       "6   0.000000  0.000000  0.000000  0.00000  0.000000  0.000000   0.000000   \n",
       "7   0.000000  0.000000  0.000000  0.00000  0.000000  0.000000   0.000000   \n",
       "8   0.000000  0.000000  0.092736  0.00000  0.092736  0.000000   0.000000   \n",
       "9   0.081156  0.081156  0.000000  0.00000  0.000000  0.000000   0.000000   \n",
       "10  0.000000  0.000000  0.000000  0.00000  0.000000  0.000000   0.000000   \n",
       "11  0.000000  0.000000  0.000000  0.00000  0.000000  0.000000   0.000000   \n",
       "\n",
       "     account  accurate  achieve      acre    across   action  activist  \\\n",
       "0   0.000000  0.000000  0.05826  0.000000  0.000000  0.05826  0.000000   \n",
       "1   0.000000  0.000000  0.00000  0.000000  0.000000  0.00000  0.000000   \n",
       "2   0.000000  0.000000  0.00000  0.000000  0.000000  0.00000  0.000000   \n",
       "3   0.000000  0.000000  0.00000  0.000000  0.000000  0.00000  0.058306   \n",
       "4   0.048093  0.000000  0.00000  0.000000  0.000000  0.00000  0.000000   \n",
       "5   0.000000  0.000000  0.00000  0.000000  0.000000  0.00000  0.000000   \n",
       "6   0.000000  0.000000  0.00000  0.000000  0.000000  0.00000  0.000000   \n",
       "7   0.046725  0.000000  0.00000  0.061591  0.061591  0.00000  0.000000   \n",
       "8   0.035176  0.000000  0.00000  0.000000  0.000000  0.00000  0.000000   \n",
       "9   0.000000  0.000000  0.00000  0.000000  0.000000  0.00000  0.000000   \n",
       "10  0.000000  0.120918  0.00000  0.000000  0.000000  0.00000  0.000000   \n",
       "11  0.000000  0.000000  0.00000  0.000000  0.000000  0.00000  0.000000   \n",
       "\n",
       "    actually      adam       add   address  adoption   affair  affected  \\\n",
       "0   0.000000  0.000000  0.000000  0.000000   0.05826  0.05826  0.000000   \n",
       "1   0.000000  0.000000  0.000000  0.000000   0.00000  0.00000  0.087406   \n",
       "2   0.000000  0.061447  0.000000  0.000000   0.00000  0.00000  0.000000   \n",
       "3   0.000000  0.000000  0.000000  0.000000   0.00000  0.00000  0.000000   \n",
       "4   0.000000  0.000000  0.000000  0.063394   0.00000  0.00000  0.000000   \n",
       "5   0.000000  0.000000  0.000000  0.000000   0.00000  0.00000  0.000000   \n",
       "6   0.000000  0.000000  0.000000  0.000000   0.00000  0.00000  0.000000   \n",
       "7   0.000000  0.000000  0.000000  0.000000   0.00000  0.00000  0.000000   \n",
       "8   0.000000  0.000000  0.039821  0.000000   0.00000  0.00000  0.000000   \n",
       "9   0.000000  0.000000  0.069698  0.000000   0.00000  0.00000  0.000000   \n",
       "10  0.060459  0.000000  0.000000  0.000000   0.00000  0.00000  0.000000   \n",
       "11  0.000000  0.000000  0.000000  0.000000   0.00000  0.00000  0.000000   \n",
       "\n",
       "    affordable    agency     agent  aggravated      agio    agreed  agreement  \\\n",
       "0     0.000000  0.000000  0.000000    0.000000  0.000000  0.000000   0.000000   \n",
       "1     0.000000  0.000000  0.000000    0.000000  0.000000  0.087406   0.087406   \n",
       "2     0.061447  0.000000  0.000000    0.000000  0.000000  0.000000   0.000000   \n",
       "3     0.000000  0.000000  0.058306    0.058306  0.000000  0.000000   0.000000   \n",
       "4     0.000000  0.126788  0.000000    0.000000  0.000000  0.000000   0.000000   \n",
       "5     0.000000  0.000000  0.000000    0.000000  0.092626  0.000000   0.000000   \n",
       "6     0.000000  0.000000  0.000000    0.000000  0.000000  0.000000   0.000000   \n",
       "7     0.000000  0.000000  0.000000    0.000000  0.000000  0.000000   0.000000   \n",
       "8     0.000000  0.000000  0.000000    0.000000  0.000000  0.000000   0.000000   \n",
       "9     0.000000  0.000000  0.000000    0.000000  0.000000  0.000000   0.000000   \n",
       "10    0.000000  0.000000  0.000000    0.000000  0.000000  0.000000   0.000000   \n",
       "11    0.000000  0.000000  0.000000    0.000000  0.000000  0.000000   0.000000   \n",
       "\n",
       "         aid      aide    aiming  allaying     allow  allowing    allows  \\\n",
       "0   0.000000  0.000000  0.000000  0.000000  0.000000  0.000000  0.000000   \n",
       "1   0.000000  0.000000  0.000000  0.000000  0.000000  0.000000  0.000000   \n",
       "2   0.000000  0.000000  0.000000  0.000000  0.000000  0.000000  0.000000   \n",
       "3   0.000000  0.000000  0.000000  0.000000  0.000000  0.000000  0.000000   \n",
       "4   0.000000  0.000000  0.000000  0.000000  0.000000  0.000000  0.000000   \n",
       "5   0.000000  0.000000  0.000000  0.000000  0.000000  0.000000  0.000000   \n",
       "6   0.000000  0.000000  0.000000  0.000000  0.000000  0.000000  0.000000   \n",
       "7   0.061591  0.123183  0.000000  0.000000  0.000000  0.000000  0.000000   \n",
       "8   0.000000  0.000000  0.000000  0.000000  0.046368  0.046368  0.046368   \n",
       "9   0.000000  0.000000  0.069698  0.000000  0.000000  0.000000  0.000000   \n",
       "10  0.000000  0.000000  0.000000  0.060459  0.000000  0.000000  0.000000   \n",
       "11  0.000000  0.000000  0.062277  0.000000  0.000000  0.000000  0.000000   \n",
       "\n",
       "      almost   already      also  altering   amazon  american     among  \\\n",
       "0   0.000000  0.000000  0.000000  0.000000  0.05826  0.000000  0.000000   \n",
       "1   0.000000  0.000000  0.098554  0.000000  0.00000  0.000000  0.000000   \n",
       "2   0.000000  0.000000  0.000000  0.061447  0.00000  0.000000  0.061447   \n",
       "3   0.000000  0.000000  0.000000  0.000000  0.00000  0.000000  0.000000   \n",
       "4   0.000000  0.000000  0.000000  0.000000  0.00000  0.000000  0.000000   \n",
       "5   0.000000  0.000000  0.052220  0.000000  0.00000  0.000000  0.000000   \n",
       "6   0.054737  0.000000  0.035932  0.000000  0.00000  0.063735  0.000000   \n",
       "7   0.052895  0.000000  0.034723  0.000000  0.00000  0.000000  0.000000   \n",
       "8   0.000000  0.000000  0.026141  0.000000  0.00000  0.000000  0.000000   \n",
       "9   0.000000  0.069698  0.000000  0.000000  0.00000  0.000000  0.000000   \n",
       "10  0.000000  0.103846  0.000000  0.000000  0.00000  0.000000  0.000000   \n",
       "11  0.000000  0.000000  0.040882  0.000000  0.00000  0.000000  0.000000   \n",
       "\n",
       "    analysis    andrew  announce  announced    annual   another    answer  \\\n",
       "0   0.000000  0.000000  0.000000   0.000000  0.000000  0.000000  0.000000   \n",
       "1   0.087406  0.000000  0.087406   0.075065  0.000000  0.000000  0.000000   \n",
       "2   0.000000  0.000000  0.000000   0.000000  0.000000  0.000000  0.000000   \n",
       "3   0.000000  0.000000  0.000000   0.000000  0.000000  0.058306  0.000000   \n",
       "4   0.000000  0.000000  0.000000   0.000000  0.000000  0.000000  0.054443   \n",
       "5   0.000000  0.000000  0.000000   0.079548  0.000000  0.000000  0.000000   \n",
       "6   0.000000  0.000000  0.000000   0.000000  0.000000  0.000000  0.000000   \n",
       "7   0.000000  0.000000  0.000000   0.000000  0.061591  0.000000  0.052895   \n",
       "8   0.000000  0.000000  0.000000   0.000000  0.000000  0.000000  0.000000   \n",
       "9   0.000000  0.000000  0.000000   0.000000  0.000000  0.000000  0.000000   \n",
       "10  0.000000  0.060459  0.000000   0.000000  0.000000  0.000000  0.000000   \n",
       "11  0.000000  0.000000  0.000000   0.000000  0.000000  0.000000  0.000000   \n",
       "\n",
       "        anti  ...     using  variously   vaughan        ve     venue  \\\n",
       "0   0.000000  ...  0.000000   0.000000  0.000000  0.000000  0.000000   \n",
       "1   0.000000  ...  0.000000   0.000000  0.000000  0.000000  0.000000   \n",
       "2   0.000000  ...  0.000000   0.000000  0.122894  0.061447  0.000000   \n",
       "3   0.000000  ...  0.000000   0.058306  0.000000  0.000000  0.000000   \n",
       "4   0.000000  ...  0.000000   0.000000  0.000000  0.000000  0.000000   \n",
       "5   0.000000  ...  0.000000   0.000000  0.000000  0.000000  0.000000   \n",
       "6   0.000000  ...  0.000000   0.000000  0.000000  0.000000  0.000000   \n",
       "7   0.000000  ...  0.000000   0.000000  0.000000  0.000000  0.000000   \n",
       "8   0.000000  ...  0.046368   0.000000  0.000000  0.000000  0.000000   \n",
       "9   0.000000  ...  0.000000   0.000000  0.000000  0.000000  0.000000   \n",
       "10  0.120918  ...  0.000000   0.000000  0.000000  0.000000  0.000000   \n",
       "11  0.000000  ...  0.000000   0.000000  0.000000  0.000000  0.072515   \n",
       "\n",
       "         via   victory     video      view    virgin     virus    vocal  \\\n",
       "0   0.000000  0.000000  0.000000  0.000000  0.000000  0.000000  0.05826   \n",
       "1   0.000000  0.000000  0.000000  0.000000  0.000000  0.000000  0.00000   \n",
       "2   0.000000  0.000000  0.052772  0.000000  0.000000  0.000000  0.00000   \n",
       "3   0.000000  0.000000  0.000000  0.000000  0.000000  0.000000  0.00000   \n",
       "4   0.054443  0.000000  0.000000  0.000000  0.000000  0.316969  0.00000   \n",
       "5   0.000000  0.000000  0.000000  0.000000  0.000000  0.000000  0.00000   \n",
       "6   0.000000  0.063735  0.000000  0.000000  0.000000  0.000000  0.00000   \n",
       "7   0.000000  0.000000  0.000000  0.000000  0.000000  0.000000  0.00000   \n",
       "8   0.039821  0.000000  0.039821  0.000000  0.092736  0.000000  0.00000   \n",
       "9   0.000000  0.000000  0.000000  0.000000  0.000000  0.000000  0.00000   \n",
       "10  0.000000  0.000000  0.000000  0.060459  0.000000  0.000000  0.00000   \n",
       "11  0.000000  0.000000  0.000000  0.000000  0.000000  0.000000  0.00000   \n",
       "\n",
       "       voice  voluntarily   voting      wale      want      warn    warned  \\\n",
       "0   0.000000     0.000000  0.05826  0.000000  0.000000  0.000000  0.000000   \n",
       "1   0.000000     0.000000  0.00000  0.000000  0.000000  0.000000  0.000000   \n",
       "2   0.000000     0.000000  0.00000  0.000000  0.000000  0.000000  0.000000   \n",
       "3   0.000000     0.000000  0.00000  0.000000  0.000000  0.000000  0.000000   \n",
       "4   0.000000     0.000000  0.00000  0.000000  0.000000  0.063394  0.063394   \n",
       "5   0.000000     0.000000  0.00000  0.000000  0.000000  0.000000  0.000000   \n",
       "6   0.000000     0.000000  0.00000  0.000000  0.000000  0.000000  0.000000   \n",
       "7   0.000000     0.061591  0.00000  0.123183  0.000000  0.000000  0.000000   \n",
       "8   0.046368     0.000000  0.00000  0.000000  0.000000  0.000000  0.000000   \n",
       "9   0.000000     0.000000  0.00000  0.000000  0.000000  0.000000  0.000000   \n",
       "10  0.000000     0.000000  0.00000  0.000000  0.000000  0.000000  0.000000   \n",
       "11  0.000000     0.000000  0.00000  0.000000  0.072515  0.000000  0.000000   \n",
       "\n",
       "     warning     watch       way        we   wealthy   website      week  \\\n",
       "0   0.000000  0.000000  0.000000  0.000000  0.000000  0.000000  0.000000   \n",
       "1   0.000000  0.000000  0.000000  0.000000  0.087406  0.000000  0.066310   \n",
       "2   0.000000  0.000000  0.000000  0.061447  0.000000  0.000000  0.000000   \n",
       "3   0.000000  0.000000  0.000000  0.000000  0.000000  0.000000  0.000000   \n",
       "4   0.126788  0.000000  0.000000  0.000000  0.000000  0.063394  0.000000   \n",
       "5   0.000000  0.000000  0.000000  0.000000  0.000000  0.000000  0.070269   \n",
       "6   0.000000  0.000000  0.000000  0.000000  0.000000  0.000000  0.000000   \n",
       "7   0.000000  0.000000  0.000000  0.000000  0.000000  0.000000  0.000000   \n",
       "8   0.000000  0.000000  0.000000  0.000000  0.000000  0.000000  0.035176   \n",
       "9   0.000000  0.000000  0.000000  0.000000  0.000000  0.000000  0.000000   \n",
       "10  0.000000  0.181377  0.060459  0.000000  0.000000  0.000000  0.000000   \n",
       "11  0.000000  0.000000  0.000000  0.000000  0.000000  0.000000  0.000000   \n",
       "\n",
       "     welcome  welcomed      well      went      west   whipped        wi  \\\n",
       "0   0.000000   0.05826  0.000000  0.000000  0.000000  0.000000  0.000000   \n",
       "1   0.000000   0.00000  0.000000  0.000000  0.000000  0.000000  0.000000   \n",
       "2   0.000000   0.00000  0.000000  0.000000  0.000000  0.000000  0.000000   \n",
       "3   0.000000   0.00000  0.000000  0.000000  0.116612  0.000000  0.000000   \n",
       "4   0.000000   0.00000  0.000000  0.000000  0.000000  0.000000  0.000000   \n",
       "5   0.000000   0.00000  0.000000  0.000000  0.000000  0.000000  0.000000   \n",
       "6   0.000000   0.00000  0.048352  0.000000  0.000000  0.000000  0.000000   \n",
       "7   0.000000   0.00000  0.000000  0.000000  0.000000  0.000000  0.000000   \n",
       "8   0.000000   0.00000  0.070353  0.000000  0.000000  0.000000  0.092736   \n",
       "9   0.000000   0.00000  0.000000  0.000000  0.000000  0.000000  0.000000   \n",
       "10  0.060459   0.00000  0.000000  0.060459  0.000000  0.060459  0.000000   \n",
       "11  0.000000   0.00000  0.055013  0.000000  0.000000  0.000000  0.000000   \n",
       "\n",
       "     william       win   winning  wireless   without     women   wondimu  \\\n",
       "0   0.000000  0.000000  0.000000  0.000000  0.044198  0.000000  0.000000   \n",
       "1   0.000000  0.000000  0.000000  0.000000  0.000000  0.000000  0.000000   \n",
       "2   0.000000  0.000000  0.000000  0.000000  0.046616  0.000000  0.000000   \n",
       "3   0.000000  0.000000  0.000000  0.000000  0.000000  0.000000  0.000000   \n",
       "4   0.000000  0.000000  0.000000  0.000000  0.000000  0.000000  0.000000   \n",
       "5   0.000000  0.000000  0.000000  0.000000  0.000000  0.000000  0.000000   \n",
       "6   0.000000  0.000000  0.054737  0.000000  0.000000  0.063735  0.000000   \n",
       "7   0.061591  0.000000  0.000000  0.000000  0.000000  0.000000  0.000000   \n",
       "8   0.000000  0.000000  0.000000  0.092736  0.035176  0.000000  0.000000   \n",
       "9   0.000000  0.000000  0.000000  0.000000  0.000000  0.000000  0.081156   \n",
       "10  0.000000  0.000000  0.000000  0.000000  0.000000  0.000000  0.000000   \n",
       "11  0.000000  0.072515  0.062277  0.000000  0.000000  0.000000  0.000000   \n",
       "\n",
       "        wood     word     world     would      xbox      year      yepp  \\\n",
       "0   0.000000  0.05826  0.000000  0.098535  0.000000  0.000000  0.000000   \n",
       "1   0.000000  0.00000  0.049277  0.049277  0.000000  0.035520  0.000000   \n",
       "2   0.000000  0.00000  0.000000  0.069284  0.061447  0.099885  0.061447   \n",
       "3   0.000000  0.00000  0.000000  0.000000  0.000000  0.047389  0.000000   \n",
       "4   0.000000  0.00000  0.000000  0.000000  0.000000  0.000000  0.000000   \n",
       "5   0.000000  0.00000  0.104439  0.104439  0.000000  0.075283  0.000000   \n",
       "6   0.000000  0.00000  0.251525  0.000000  0.000000  0.025901  0.000000   \n",
       "7   0.000000  0.00000  0.000000  0.000000  0.000000  0.025030  0.000000   \n",
       "8   0.000000  0.00000  0.052282  0.026141  0.000000  0.018843  0.000000   \n",
       "9   0.000000  0.00000  0.274521  0.000000  0.000000  0.065961  0.000000   \n",
       "10  0.060459  0.00000  0.000000  0.102255  0.000000  0.024570  0.000000   \n",
       "11  0.000000  0.00000  0.286175  0.000000  0.000000  0.058938  0.000000   \n",
       "\n",
       "          yh  yorkshire  TARGET  \n",
       "0   0.000000   0.000000       1  \n",
       "1   0.000000   0.000000       1  \n",
       "2   0.061447   0.000000       0  \n",
       "3   0.000000   0.116612       1  \n",
       "4   0.000000   0.000000       1  \n",
       "5   0.000000   0.000000       0  \n",
       "6   0.000000   0.000000       0  \n",
       "7   0.000000   0.000000       1  \n",
       "8   0.000000   0.000000       0  \n",
       "9   0.000000   0.000000       0  \n",
       "10  0.000000   0.000000       1  \n",
       "11  0.000000   0.000000       0  \n",
       "\n",
       "[12 rows x 867 columns]"
      ]
     },
     "execution_count": 20,
     "metadata": {},
     "output_type": "execute_result"
    }
   ],
   "source": [
    "df.head(12)"
   ]
  },
  {
   "cell_type": "markdown",
   "metadata": {},
   "source": [
    "## Corpus Statistics \n",
    "\n",
    "**How many non-zero elements are there?**\n",
    "- Adapt the code below, using the `df` version of the `response` object to replace everywhere below it says `DATA`\n",
    "- Interpret the findings\n"
   ]
  },
  {
   "cell_type": "code",
   "execution_count": 21,
   "metadata": {},
   "outputs": [],
   "source": [
    "features = df.iloc[:, :-1]\n",
    "\n",
    "# target = df.TARGET"
   ]
  },
  {
   "cell_type": "code",
   "execution_count": 22,
   "metadata": {},
   "outputs": [
    {
     "name": "stdout",
     "output_type": "stream",
     "text": [
      "Average Number of Non-Zero Elements in Vectorized Articles: 93.0\n",
      "Percentage of columns containing 0: 0.8926096997690531\n"
     ]
    }
   ],
   "source": [
    "# Edit code before running it\n",
    "\n",
    "non_zero_cols = np.count_nonzero(features) / float(features.shape[0])\n",
    "print(\"Average Number of Non-Zero Elements in Vectorized Articles: {}\".format(non_zero_cols))\n",
    "\n",
    "percent_sparse = 1 - (non_zero_cols / float(features.shape[1]))\n",
    "print('Percentage of columns containing 0: {}'.format(percent_sparse))"
   ]
  },
  {
   "cell_type": "markdown",
   "metadata": {},
   "source": [
    "---"
   ]
  },
  {
   "cell_type": "markdown",
   "metadata": {},
   "source": [
    "**Let's check the total vocab for each label:**"
   ]
  },
  {
   "cell_type": "code",
   "execution_count": 23,
   "metadata": {},
   "outputs": [],
   "source": [
    "# Create a dataframe with the lemmed docs:\n",
    "\n",
    "df_LEMM_articles = pd.DataFrame(docs_LEMM)"
   ]
  },
  {
   "cell_type": "code",
   "execution_count": 24,
   "metadata": {},
   "outputs": [],
   "source": [
    "# adding for processing:\n",
    "\n",
    "# df_LEMM_articles['TARGET'] = target\n",
    "df_LEMM_articles['TARGET'] = pd.get_dummies(df.TARGET, drop_first=True)\n",
    "\n",
    "df_LEMM_articles.columns = ['body', 'TARGET']"
   ]
  },
  {
   "cell_type": "code",
   "execution_count": 25,
   "metadata": {},
   "outputs": [
    {
     "data": {
      "text/html": [
       "<div>\n",
       "<style scoped>\n",
       "    .dataframe tbody tr th:only-of-type {\n",
       "        vertical-align: middle;\n",
       "    }\n",
       "\n",
       "    .dataframe tbody tr th {\n",
       "        vertical-align: top;\n",
       "    }\n",
       "\n",
       "    .dataframe thead th {\n",
       "        text-align: right;\n",
       "    }\n",
       "</style>\n",
       "<table border=\"1\" class=\"dataframe\">\n",
       "  <thead>\n",
       "    <tr style=\"text-align: right;\">\n",
       "      <th></th>\n",
       "      <th>body</th>\n",
       "      <th>TARGET</th>\n",
       "    </tr>\n",
       "  </thead>\n",
       "  <tbody>\n",
       "    <tr>\n",
       "      <th>0</th>\n",
       "      <td>reboot ordered eu patent law european parliame...</td>\n",
       "      <td>1</td>\n",
       "    </tr>\n",
       "    <tr>\n",
       "      <th>1</th>\n",
       "      <td>tsunami debt deal announced chancellor gordon ...</td>\n",
       "      <td>1</td>\n",
       "    </tr>\n",
       "    <tr>\n",
       "      <th>2</th>\n",
       "      <td>sony psp tipped must sony's playstation portab...</td>\n",
       "      <td>0</td>\n",
       "    </tr>\n",
       "    <tr>\n",
       "      <th>3</th>\n",
       "      <td>bnp leader nick griffin arrested leader britis...</td>\n",
       "      <td>1</td>\n",
       "    </tr>\n",
       "    <tr>\n",
       "      <th>4</th>\n",
       "      <td>security warning fbi virus u federal bureau in...</td>\n",
       "      <td>1</td>\n",
       "    </tr>\n",
       "  </tbody>\n",
       "</table>\n",
       "</div>"
      ],
      "text/plain": [
       "                                                body  TARGET\n",
       "0  reboot ordered eu patent law european parliame...       1\n",
       "1  tsunami debt deal announced chancellor gordon ...       1\n",
       "2  sony psp tipped must sony's playstation portab...       0\n",
       "3  bnp leader nick griffin arrested leader britis...       1\n",
       "4  security warning fbi virus u federal bureau in...       1"
      ]
     },
     "execution_count": 25,
     "metadata": {},
     "output_type": "execute_result"
    }
   ],
   "source": [
    "df_LEMM_articles.head()"
   ]
  },
  {
   "cell_type": "code",
   "execution_count": 26,
   "metadata": {},
   "outputs": [
    {
     "data": {
      "text/plain": [
       "'reboot ordered eu patent law european parliament committee ordered rewrite proposal controversial new european union rule govern computer based invention legal affair committee juri said commission submit computer implemented invention directive meps failed back vocal critic say could favour large small firm impact open source software innovation supporter say would let firm protect invention directive intended offer patent protection invention use software achieve effect word computer implemented invention draft law suffered setback poland one largest eu member state rejected adoption twice two month intense lobbying issue started gain momentum national parliament putting immense pressure two meps backed draft law juri meeting one voting abstain opponent draft directive welcomed decision said new first reading proposal would give eu chance fuller debate implication member state u patenting computer program internet business method permitted mean u based amazon com hold patent one click shopping service example critic concerned directive could lead similar model happening europe fear could hurt small software developer legal financial might larger company fight patent legal action court supporter say current law inefficient would serve even playing field without bringing eu law line u'"
      ]
     },
     "execution_count": 26,
     "metadata": {},
     "output_type": "execute_result"
    }
   ],
   "source": [
    "df_LEMM_articles.iloc[0,0]"
   ]
  },
  {
   "cell_type": "code",
   "execution_count": 27,
   "metadata": {},
   "outputs": [],
   "source": [
    "# Function used to tokenize our articles.\n",
    "# We don't need to remove the stop words again,\n",
    "# but I wanted to demonstrate how to tokenize and remove stopwords in one swoop:\n",
    "\n",
    "stop_words = stopwords.words('english')\n",
    "\n",
    "def process_article(article):\n",
    "    tokens = nltk.word_tokenize(article)\n",
    "    stopwords_removed = [token.lower() for token in tokens if token.lower() not in stop_words]\n",
    "    return stopwords_removed "
   ]
  },
  {
   "cell_type": "code",
   "execution_count": 28,
   "metadata": {},
   "outputs": [],
   "source": [
    "# Separate the dataframe by target into two dataframes\n",
    "\n",
    "df_freq_politics = df_LEMM_articles[df_LEMM_articles['TARGET']==1]\n",
    "df_freq_not_politics = df_LEMM_articles[df_LEMM_articles['TARGET']==0]"
   ]
  },
  {
   "cell_type": "code",
   "execution_count": 29,
   "metadata": {},
   "outputs": [],
   "source": [
    "# Set your data to the 'body' column:\n",
    "\n",
    "data_politics = df_freq_politics['body']\n",
    "data_not_politics = df_freq_not_politics['body']"
   ]
  },
  {
   "cell_type": "code",
   "execution_count": 31,
   "metadata": {},
   "outputs": [
    {
     "name": "stderr",
     "output_type": "stream",
     "text": [
      "[nltk_data] Downloading package punkt to\n",
      "[nltk_data]     /Users/kylebaranko/nltk_data...\n",
      "[nltk_data]   Unzipping tokenizers/punkt.zip.\n"
     ]
    },
    {
     "data": {
      "text/plain": [
       "True"
      ]
     },
     "execution_count": 31,
     "metadata": {},
     "output_type": "execute_result"
    }
   ],
   "source": [
    "nltk.download('punkt')"
   ]
  },
  {
   "cell_type": "code",
   "execution_count": 32,
   "metadata": {},
   "outputs": [],
   "source": [
    "# Tokenize the articles:\n",
    "\n",
    "pros_politics = list(map(process_article, data_politics))\n",
    "pros_not_politics = list(map(process_article, data_not_politics))"
   ]
  },
  {
   "cell_type": "code",
   "execution_count": 33,
   "metadata": {},
   "outputs": [
    {
     "data": {
      "text/plain": [
       "485"
      ]
     },
     "execution_count": 33,
     "metadata": {},
     "output_type": "execute_result"
    }
   ],
   "source": [
    "# Total vocabulary for POLITICS\n",
    "\n",
    "total_vocab_politics = set()\n",
    "for article in pros_politics:\n",
    "    total_vocab_politics.update(article)\n",
    "    \n",
    "len(total_vocab_politics)"
   ]
  },
  {
   "cell_type": "code",
   "execution_count": 34,
   "metadata": {},
   "outputs": [
    {
     "data": {
      "text/plain": [
       "468"
      ]
     },
     "execution_count": 34,
     "metadata": {},
     "output_type": "execute_result"
    }
   ],
   "source": [
    "# Total vocabulary for NOT POLITICS\n",
    "\n",
    "total_vocab_NOT_politics = set()\n",
    "for article in pros_not_politics:\n",
    "    total_vocab_NOT_politics.update(article)\n",
    "    \n",
    "len(total_vocab_NOT_politics)"
   ]
  },
  {
   "cell_type": "markdown",
   "metadata": {},
   "source": [
    "**Let's check the frequency of words:**"
   ]
  },
  {
   "cell_type": "code",
   "execution_count": 35,
   "metadata": {},
   "outputs": [],
   "source": [
    "# How to flatten the data according to nltk's array requriements:\n",
    "# flat_list = [item for sublist in main_list for item in sublist]\n",
    "\n",
    "flat_politics = [item for sublist in pros_politics for item in sublist]\n",
    "flat_not_politics = [item for sublist in pros_not_politics for item in sublist]"
   ]
  },
  {
   "cell_type": "code",
   "execution_count": 36,
   "metadata": {},
   "outputs": [],
   "source": [
    "politics_freq = FreqDist(flat_politics)\n",
    "not_politics_freq = FreqDist(flat_not_politics)"
   ]
  },
  {
   "cell_type": "code",
   "execution_count": 37,
   "metadata": {
    "scrolled": true
   },
   "outputs": [
    {
     "data": {
      "text/plain": [
       "[('said', 15),\n",
       " ('arrested', 9),\n",
       " ('fbi', 8),\n",
       " ('computer', 7),\n",
       " ('would', 7),\n",
       " ('duchy', 7),\n",
       " ('immigration', 7),\n",
       " ('independent', 7),\n",
       " ('say', 6),\n",
       " ('e', 6)]"
      ]
     },
     "execution_count": 37,
     "metadata": {},
     "output_type": "execute_result"
    }
   ],
   "source": [
    "politics_freq.most_common(10)"
   ]
  },
  {
   "cell_type": "code",
   "execution_count": 38,
   "metadata": {},
   "outputs": [
    {
     "data": {
      "text/plain": [
       "[('world', 24),\n",
       " (\"'s\", 22),\n",
       " ('year', 12),\n",
       " ('record', 12),\n",
       " ('indoor', 12),\n",
       " ('olympic', 10),\n",
       " ('user', 10),\n",
       " ('gadget', 9),\n",
       " ('skype', 9),\n",
       " ('mark', 8)]"
      ]
     },
     "execution_count": 38,
     "metadata": {},
     "output_type": "execute_result"
    }
   ],
   "source": [
    "not_politics_freq.most_common(10)"
   ]
  },
  {
   "cell_type": "markdown",
   "metadata": {},
   "source": [
    "# Classification"
   ]
  },
  {
   "cell_type": "markdown",
   "metadata": {},
   "source": [
    "## Preprocessing"
   ]
  },
  {
   "cell_type": "code",
   "execution_count": 39,
   "metadata": {},
   "outputs": [],
   "source": [
    "df = pd.read_csv('nlp_classification.csv')"
   ]
  },
  {
   "cell_type": "code",
   "execution_count": 40,
   "metadata": {},
   "outputs": [
    {
     "data": {
      "text/html": [
       "<div>\n",
       "<style scoped>\n",
       "    .dataframe tbody tr th:only-of-type {\n",
       "        vertical-align: middle;\n",
       "    }\n",
       "\n",
       "    .dataframe tbody tr th {\n",
       "        vertical-align: top;\n",
       "    }\n",
       "\n",
       "    .dataframe thead th {\n",
       "        text-align: right;\n",
       "    }\n",
       "</style>\n",
       "<table border=\"1\" class=\"dataframe\">\n",
       "  <thead>\n",
       "    <tr style=\"text-align: right;\">\n",
       "      <th></th>\n",
       "      <th>body</th>\n",
       "      <th>target</th>\n",
       "    </tr>\n",
       "  </thead>\n",
       "  <tbody>\n",
       "    <tr>\n",
       "      <th>0</th>\n",
       "      <td>Noting that the resignation of James Mattis as...</td>\n",
       "      <td>1</td>\n",
       "    </tr>\n",
       "    <tr>\n",
       "      <th>1</th>\n",
       "      <td>Desperate to unwind after months of nonstop wo...</td>\n",
       "      <td>1</td>\n",
       "    </tr>\n",
       "    <tr>\n",
       "      <th>2</th>\n",
       "      <td>Nearly halfway through his presidential term, ...</td>\n",
       "      <td>1</td>\n",
       "    </tr>\n",
       "    <tr>\n",
       "      <th>3</th>\n",
       "      <td>Attempting to make amends for gross abuses of ...</td>\n",
       "      <td>1</td>\n",
       "    </tr>\n",
       "    <tr>\n",
       "      <th>4</th>\n",
       "      <td>Decrying the Senate’s resolution blaming the c...</td>\n",
       "      <td>1</td>\n",
       "    </tr>\n",
       "  </tbody>\n",
       "</table>\n",
       "</div>"
      ],
      "text/plain": [
       "                                                body  target\n",
       "0  Noting that the resignation of James Mattis as...       1\n",
       "1  Desperate to unwind after months of nonstop wo...       1\n",
       "2  Nearly halfway through his presidential term, ...       1\n",
       "3  Attempting to make amends for gross abuses of ...       1\n",
       "4  Decrying the Senate’s resolution blaming the c...       1"
      ]
     },
     "execution_count": 40,
     "metadata": {},
     "output_type": "execute_result"
    }
   ],
   "source": [
    "df.head()"
   ]
  },
  {
   "cell_type": "code",
   "execution_count": 41,
   "metadata": {},
   "outputs": [],
   "source": [
    "# df.body[0]"
   ]
  },
  {
   "cell_type": "code",
   "execution_count": 42,
   "metadata": {},
   "outputs": [],
   "source": [
    "data = df['body']\n",
    "target = df['target']"
   ]
  },
  {
   "cell_type": "code",
   "execution_count": 43,
   "metadata": {},
   "outputs": [
    {
     "data": {
      "text/plain": [
       "'!\"#$%&\\'()*+,-./:;<=>?@[\\\\]^_`{|}~'"
      ]
     },
     "execution_count": 43,
     "metadata": {},
     "output_type": "execute_result"
    }
   ],
   "source": [
    "# checkout all punctuation... notice that it is one long string...\n",
    "string.punctuation"
   ]
  },
  {
   "cell_type": "code",
   "execution_count": 44,
   "metadata": {},
   "outputs": [],
   "source": [
    "sw_list = stopwords.words('english')\n",
    "sw_list += list(string.punctuation)\n",
    "sw_list += [\"''\", '\"\"', '...', '``', '’', '“', '’', '”', '‘', '‘', '©',\n",
    "            'said', 'one', 'com', 'satirewire', '-', '–', '—', 'satirewire.com']\n",
    "sw_set = set(sw_list)"
   ]
  },
  {
   "cell_type": "code",
   "execution_count": 45,
   "metadata": {},
   "outputs": [],
   "source": [
    "# sw_list"
   ]
  },
  {
   "cell_type": "code",
   "execution_count": 46,
   "metadata": {},
   "outputs": [],
   "source": [
    "# One possible punctuation removal technique...\n",
    "# Still need to complete/improve... IGNORE this for now!!!\n",
    "\n",
    "# def remove_punc(text):\n",
    "#     words = text.split()\n",
    "#     # remove punctuation from each word\n",
    "#     table = str.maketrans('', '', string.punctuation)\n",
    "#     stripped = [w.translate(table) for w in words]\n",
    "#     removed = [w.lower() for w in stripped]\n",
    "#     return removed"
   ]
  },
  {
   "cell_type": "code",
   "execution_count": 47,
   "metadata": {},
   "outputs": [],
   "source": [
    "def process_article(article):\n",
    "    tokens = nltk.word_tokenize(article)\n",
    "    stopwords_removed = [token.lower() for token in tokens if token.lower() not in sw_set]\n",
    "    return stopwords_removed "
   ]
  },
  {
   "cell_type": "code",
   "execution_count": 48,
   "metadata": {},
   "outputs": [
    {
     "data": {
      "text/plain": [
       "body      0\n",
       "target    0\n",
       "dtype: int64"
      ]
     },
     "execution_count": 48,
     "metadata": {},
     "output_type": "execute_result"
    }
   ],
   "source": [
    "df.isna().sum()"
   ]
  },
  {
   "cell_type": "code",
   "execution_count": 49,
   "metadata": {},
   "outputs": [],
   "source": [
    "processed_data = list(map(process_article, data))"
   ]
  },
  {
   "cell_type": "code",
   "execution_count": 50,
   "metadata": {},
   "outputs": [
    {
     "name": "stdout",
     "output_type": "stream",
     "text": [
      "[['noting', 'resignation', 'james', 'mattis', 'secretary', 'defense', 'marked', 'ouster', 'third', 'top', 'administration', 'official', 'less', 'three', 'weeks', 'worried', 'populace', 'told', 'reporters', 'friday', 'unsure', 'many', 'former', 'trump', 'staffers', 'could', 'safely', 'reabsorb', 'jesus', 'take', 'back', 'assholes', 'once—we', 'need', 'time', 'process', 'get', 'next', '53-year-old', 'gregory', 'birch', 'naperville', 'il', 'echoing', 'concerns', '323', 'million', 'americans', 'also', 'noting', 'country', 'truly', 'beginning', 'reintegrate', 'former', 'national', 'security', 'advisor', 'michael', 'flynn', 'sustainable', 'say', 'handle', 'maybe', 'two', 'former', 'members', 'trump', 'inner', 'circle', 'remainder', 'year', 'country', 'limits.', 'u.s.', 'populace', 'confirmed', 'could', 'handle', 'pieces', 'shit', 'trying', 'rejoin', 'society'], ['desperate', 'unwind', 'months', 'nonstop', 'work', 'investigating', 'russian', 'influence', '2016', 'election', 'visibly', 'exhausted', 'special', 'counsel', 'robert', 'mueller', 'powered', 'phone', 'friday', 'order', 'give', 'break', 'news', 'concerning', 'probe', 'holiday', 'break', 'last', 'thing', 'want', 'spending', 'time', 'family', 'cascade', 'push', 'notifications', 'telling', 'yet', 'another', 'russian', 'oligarch', 'political', 'operative', 'highly', 'placed', 'socialite', 'used', 'deutsche', 'bank', 'channels', 'funnel', 'money', 'campaign', 'former', 'fbi', 'director', 'firmly', 'holding', 'phone', 'power', 'button', 'adding', 'wants', 'completely', 'present', 'moment', 'celebrating', 'loved', 'ones', 'ruminating', 'met', 'diplomat', 'whether', 'someone', 'using', 'social', 'media', 'tamper', 'witnesses', 'want', 'two', 'calm', 'weeks', 'even', 'think', 'individual', 'even', 'say', 'name', 'wait', 'hear', 'important', 'developments', 'january', 'since', 'know', 'second', 'read', 'say', 'something', 'eric', 'involved', 'deeply', 'previously', 'suspected', 'get', 'pulled', 'back', 'ruin', 'whole', 'vacation.', 'press', 'time', 'mueller', 'reactivated', 'phone', 'check', 'news', 'real', 'quick']]\n"
     ]
    }
   ],
   "source": [
    "# Preview the transformation:\n",
    "\n",
    "print(processed_data[:2])"
   ]
  },
  {
   "cell_type": "markdown",
   "metadata": {},
   "source": [
    "---"
   ]
  },
  {
   "cell_type": "code",
   "execution_count": 51,
   "metadata": {},
   "outputs": [
    {
     "data": {
      "text/plain": [
       "26668"
      ]
     },
     "execution_count": 51,
     "metadata": {},
     "output_type": "execute_result"
    }
   ],
   "source": [
    "total_vocab = set()\n",
    "for comment in processed_data:\n",
    "    total_vocab.update(comment)\n",
    "len(total_vocab)"
   ]
  },
  {
   "cell_type": "code",
   "execution_count": 52,
   "metadata": {},
   "outputs": [],
   "source": [
    "# def join_list(listy): \n",
    "#     ' '.join(listy)\n",
    "        \n",
    "# X = [' '.join(d) for d in processed_data]\n",
    "# y = target\n",
    "# X[3]"
   ]
  },
  {
   "cell_type": "code",
   "execution_count": 53,
   "metadata": {},
   "outputs": [],
   "source": [
    "lemmatized_output = []\n",
    "\n",
    "for listy in processed_data:\n",
    "    lemmed = ' '.join([lemmatizer.lemmatize(w) for w in listy])\n",
    "    lemmatized_output.append(lemmed)"
   ]
  },
  {
   "cell_type": "code",
   "execution_count": 54,
   "metadata": {},
   "outputs": [],
   "source": [
    "# lemmatized_output[:5]"
   ]
  },
  {
   "cell_type": "code",
   "execution_count": 55,
   "metadata": {},
   "outputs": [],
   "source": [
    "X_lem = lemmatized_output\n",
    "# [' '.join(d) for d in processed_data]\n",
    "\n",
    "y_lem = target\n",
    "# X[3]"
   ]
  },
  {
   "cell_type": "code",
   "execution_count": 56,
   "metadata": {},
   "outputs": [],
   "source": [
    "# X_lem"
   ]
  },
  {
   "cell_type": "markdown",
   "metadata": {},
   "source": [
    "### LEMMING TRAIN TEST SPLIT ###"
   ]
  },
  {
   "cell_type": "code",
   "execution_count": 57,
   "metadata": {},
   "outputs": [],
   "source": [
    "X_train_lem, X_test_lem, y_train_lem, y_test_lem = train_test_split(X_lem, y_lem, test_size=0.20, random_state=1)"
   ]
  },
  {
   "cell_type": "code",
   "execution_count": 58,
   "metadata": {},
   "outputs": [
    {
     "data": {
      "text/plain": [
       "<800x19673 sparse matrix of type '<class 'numpy.float64'>'\n",
       "\twith 130781 stored elements in Compressed Sparse Row format>"
      ]
     },
     "execution_count": 58,
     "metadata": {},
     "output_type": "execute_result"
    }
   ],
   "source": [
    "tfidf = TfidfVectorizer()\n",
    "\n",
    "tfidf_data_train_lem = tfidf.fit_transform(X_train_lem)\n",
    "tfidf_data_test_lem = tfidf.transform(X_test_lem)\n",
    "\n",
    "tfidf_data_train_lem"
   ]
  },
  {
   "cell_type": "markdown",
   "metadata": {},
   "source": [
    "### Lets classify"
   ]
  },
  {
   "cell_type": "code",
   "execution_count": 59,
   "metadata": {},
   "outputs": [],
   "source": [
    "rf_classifier_lem = RandomForestClassifier(n_estimators=100, random_state=0)"
   ]
  },
  {
   "cell_type": "code",
   "execution_count": 60,
   "metadata": {},
   "outputs": [],
   "source": [
    "rf_classifier_lem.fit(tfidf_data_train_lem, y_train_lem)\n",
    "\n",
    "rf_test_preds_lem = rf_classifier_lem.predict(tfidf_data_test_lem)"
   ]
  },
  {
   "cell_type": "code",
   "execution_count": 61,
   "metadata": {},
   "outputs": [
    {
     "name": "stdout",
     "output_type": "stream",
     "text": [
      "Random Forest w/ Lemmatization\n",
      "Testing Accuracy: 0.97\n",
      "\n",
      "F1 Score: 0.9691\n"
     ]
    }
   ],
   "source": [
    "rf_acc_score_lem = accuracy_score(y_test_lem, rf_test_preds_lem)\n",
    "rf_f1_score_lem = f1_score(y_test_lem, rf_test_preds_lem)\n",
    "print('Random Forest w/ Lemmatization')\n",
    "print(\"Testing Accuracy: {:.4}\".format(rf_acc_score_lem))\n",
    "print()\n",
    "print(\"F1 Score: {:.4}\".format(rf_f1_score_lem))"
   ]
  },
  {
   "cell_type": "code",
   "execution_count": 62,
   "metadata": {},
   "outputs": [
    {
     "data": {
      "image/png": "[encoded data removed]",
      "text/plain": [
       "<Figure size 432x288 with 1 Axes>"
      ]
     },
     "metadata": {},
     "output_type": "display_data"
    }
   ],
   "source": [
    "from sklearn.metrics import confusion_matrix\n",
    "import seaborn as sns; sns.set()\n",
    "\n",
    "\n",
    "mat = confusion_matrix(y_test_lem, rf_test_preds_lem)\n",
    "sns.heatmap(mat.T, square=True, annot=True, fmt='d', cbar=False,\n",
    "            xticklabels=['Satire', 'Not_Satire'], yticklabels=['Satire', 'Not_Satire'])\n",
    "plt.xlabel('true label')\n",
    "plt.ylabel('predicted label');"
   ]
  },
  {
   "cell_type": "code",
   "execution_count": 63,
   "metadata": {},
   "outputs": [
    {
     "data": {
      "text/plain": [
       "(800, 19673)"
      ]
     },
     "execution_count": 63,
     "metadata": {},
     "output_type": "execute_result"
    }
   ],
   "source": [
    "tfidf_data_train_lem.shape"
   ]
  },
  {
   "cell_type": "markdown",
   "metadata": {},
   "source": [
    "### Some corpus statistics:"
   ]
  },
  {
   "cell_type": "code",
   "execution_count": 64,
   "metadata": {},
   "outputs": [
    {
     "name": "stdout",
     "output_type": "stream",
     "text": [
      "Average Number of Non-Zero Elements in Vectorized Articles: 163.47625\n",
      "Percentage of columns containing ZERO: 0.9916903243023433\n"
     ]
    }
   ],
   "source": [
    "non_zero_cols = tfidf_data_train_lem.nnz / float(tfidf_data_train_lem.shape[0])\n",
    "print(\"Average Number of Non-Zero Elements in Vectorized Articles: {}\".format(non_zero_cols))\n",
    "\n",
    "percent_sparse = 1 - (non_zero_cols / float(tfidf_data_train_lem.shape[1]))\n",
    "print('Percentage of columns containing ZERO: {}'.format(percent_sparse))"
   ]
  },
  {
   "cell_type": "markdown",
   "metadata": {},
   "source": [
    "#### Most frequent words:"
   ]
  },
  {
   "cell_type": "code",
   "execution_count": 65,
   "metadata": {},
   "outputs": [],
   "source": [
    "df_freq_satire = df[df['target']==1]\n",
    "df_freq_not_satire = df[df['target']==0]"
   ]
  },
  {
   "cell_type": "code",
   "execution_count": 66,
   "metadata": {},
   "outputs": [],
   "source": [
    "data_sat = df_freq_satire['body']\n",
    "data_not_sat = df_freq_not_satire['body']"
   ]
  },
  {
   "cell_type": "code",
   "execution_count": 67,
   "metadata": {},
   "outputs": [],
   "source": [
    "pros_satire = list(map(process_article, data_sat))\n",
    "pros_not_satire = list(map(process_article, data_not_sat))"
   ]
  },
  {
   "cell_type": "code",
   "execution_count": 68,
   "metadata": {},
   "outputs": [
    {
     "data": {
      "text/plain": [
       "19090"
      ]
     },
     "execution_count": 68,
     "metadata": {},
     "output_type": "execute_result"
    }
   ],
   "source": [
    "total_vocab_sat = set()\n",
    "for comment in pros_satire:\n",
    "    total_vocab_sat.update(comment)\n",
    "len(total_vocab_sat)"
   ]
  },
  {
   "cell_type": "code",
   "execution_count": 69,
   "metadata": {},
   "outputs": [
    {
     "data": {
      "text/plain": [
       "15185"
      ]
     },
     "execution_count": 69,
     "metadata": {},
     "output_type": "execute_result"
    }
   ],
   "source": [
    "total_vocab_NOT_sat = set()\n",
    "for comment in pros_not_satire:\n",
    "    total_vocab_NOT_sat.update(comment)\n",
    "len(total_vocab_NOT_sat)"
   ]
  },
  {
   "cell_type": "code",
   "execution_count": 70,
   "metadata": {},
   "outputs": [
    {
     "name": "stdout",
     "output_type": "stream",
     "text": [
      "[['noting', 'resignation', 'james', 'mattis', 'secretary', 'defense', 'marked', 'ouster', 'third', 'top', 'administration', 'official', 'less', 'three', 'weeks', 'worried', 'populace', 'told', 'reporters', 'friday', 'unsure', 'many', 'former', 'trump', 'staffers', 'could', 'safely', 'reabsorb', 'jesus', 'take', 'back', 'assholes', 'once—we', 'need', 'time', 'process', 'get', 'next', '53-year-old', 'gregory', 'birch', 'naperville', 'il', 'echoing', 'concerns', '323', 'million', 'americans', 'also', 'noting', 'country', 'truly', 'beginning', 'reintegrate', 'former', 'national', 'security', 'advisor', 'michael', 'flynn', 'sustainable', 'say', 'handle', 'maybe', 'two', 'former', 'members', 'trump', 'inner', 'circle', 'remainder', 'year', 'country', 'limits.', 'u.s.', 'populace', 'confirmed', 'could', 'handle', 'pieces', 'shit', 'trying', 'rejoin', 'society'], ['desperate', 'unwind', 'months', 'nonstop', 'work', 'investigating', 'russian', 'influence', '2016', 'election', 'visibly', 'exhausted', 'special', 'counsel', 'robert', 'mueller', 'powered', 'phone', 'friday', 'order', 'give', 'break', 'news', 'concerning', 'probe', 'holiday', 'break', 'last', 'thing', 'want', 'spending', 'time', 'family', 'cascade', 'push', 'notifications', 'telling', 'yet', 'another', 'russian', 'oligarch', 'political', 'operative', 'highly', 'placed', 'socialite', 'used', 'deutsche', 'bank', 'channels', 'funnel', 'money', 'campaign', 'former', 'fbi', 'director', 'firmly', 'holding', 'phone', 'power', 'button', 'adding', 'wants', 'completely', 'present', 'moment', 'celebrating', 'loved', 'ones', 'ruminating', 'met', 'diplomat', 'whether', 'someone', 'using', 'social', 'media', 'tamper', 'witnesses', 'want', 'two', 'calm', 'weeks', 'even', 'think', 'individual', 'even', 'say', 'name', 'wait', 'hear', 'important', 'developments', 'january', 'since', 'know', 'second', 'read', 'say', 'something', 'eric', 'involved', 'deeply', 'previously', 'suspected', 'get', 'pulled', 'back', 'ruin', 'whole', 'vacation.', 'press', 'time', 'mueller', 'reactivated', 'phone', 'check', 'news', 'real', 'quick']]\n"
     ]
    }
   ],
   "source": [
    "print(pros_satire[:2])"
   ]
  },
  {
   "cell_type": "code",
   "execution_count": 71,
   "metadata": {},
   "outputs": [],
   "source": [
    "# Preprocessing:\n",
    "# We will use these again later on\n",
    "# FORMAT:  flat_list = [item for sublist in l for item in sublist]\n",
    "\n",
    "flat_satire = [item for sublist in pros_satire for item in sublist]\n",
    "flat_not_satire = [item for sublist in pros_not_satire for item in sublist]"
   ]
  },
  {
   "cell_type": "code",
   "execution_count": 72,
   "metadata": {},
   "outputs": [],
   "source": [
    "satire_freq = FreqDist(flat_satire)\n",
    "not_satire_freq = FreqDist(flat_not_satire)"
   ]
  },
  {
   "cell_type": "code",
   "execution_count": 73,
   "metadata": {},
   "outputs": [
    {
     "data": {
      "text/plain": [
       "[('people', 606),\n",
       " ('eu', 585),\n",
       " ('would', 563),\n",
       " ('may', 504),\n",
       " ('like', 474),\n",
       " ('even', 415),\n",
       " ('time', 381),\n",
       " ('many', 380),\n",
       " ('get', 346),\n",
       " ('also', 346),\n",
       " ('brexit', 336),\n",
       " ('britain', 312),\n",
       " ('world', 301),\n",
       " ('way', 289),\n",
       " ('well', 289),\n",
       " ('new', 281),\n",
       " ('see', 270),\n",
       " ('every', 262),\n",
       " ('right', 256),\n",
       " ('us', 251)]"
      ]
     },
     "execution_count": 73,
     "metadata": {},
     "output_type": "execute_result"
    }
   ],
   "source": [
    "# Top 20 satire words:\n",
    "\n",
    "satire_freq.most_common(20)"
   ]
  },
  {
   "cell_type": "code",
   "execution_count": 74,
   "metadata": {},
   "outputs": [
    {
     "data": {
      "text/plain": [
       "[('u.s.', 675),\n",
       " ('trump', 617),\n",
       " ('government', 578),\n",
       " ('would', 524),\n",
       " ('president', 516),\n",
       " ('people', 389),\n",
       " ('state', 365),\n",
       " ('year', 336),\n",
       " ('told', 332),\n",
       " ('new', 324),\n",
       " ('security', 322),\n",
       " ('also', 319),\n",
       " ('last', 319),\n",
       " ('two', 309),\n",
       " ('united', 301),\n",
       " ('reuters', 295),\n",
       " ('could', 294),\n",
       " ('china', 283),\n",
       " ('country', 279),\n",
       " ('percent', 274)]"
      ]
     },
     "execution_count": 74,
     "metadata": {},
     "output_type": "execute_result"
    }
   ],
   "source": [
    "# Top 20 non-satire words:\n",
    "\n",
    "not_satire_freq.most_common(20)"
   ]
  },
  {
   "cell_type": "markdown",
   "metadata": {},
   "source": [
    "#### Normalized word frequencies:"
   ]
  },
  {
   "cell_type": "code",
   "execution_count": 75,
   "metadata": {},
   "outputs": [
    {
     "name": "stdout",
     "output_type": "stream",
     "text": [
      "Word \t\t Normalized Frequency\n",
      "\n",
      "people \t\t 0.005193\n",
      "eu \t\t 0.005013\n",
      "would \t\t 0.004825\n",
      "may \t\t 0.004319\n",
      "like \t\t 0.004062\n",
      "even \t\t 0.003556\n",
      "time \t\t 0.003265\n",
      "many \t\t 0.003256\n",
      "get \t\t 0.002965\n",
      "also \t\t 0.002965\n",
      "brexit \t\t 0.002879\n",
      "britain \t\t 0.002674\n",
      "world \t\t 0.002579\n",
      "way \t\t 0.002477\n",
      "well \t\t 0.002477\n",
      "new \t\t 0.002408\n",
      "see \t\t 0.002314\n",
      "every \t\t 0.002245\n",
      "right \t\t 0.002194\n",
      "us \t\t 0.002151\n",
      "much \t\t 0.002074\n",
      "however \t\t 0.002048\n",
      "could \t\t 0.00204\n",
      "trump \t\t 0.002022\n",
      "theresa \t\t 0.001945\n"
     ]
    }
   ],
   "source": [
    "satire_total_word_count = sum(satire_freq.values())\n",
    "satire_top_25 = satire_freq.most_common(25)\n",
    "print(\"Word \\t\\t Normalized Frequency\")\n",
    "print()\n",
    "for word in satire_top_25:\n",
    "    normalized_frequency = word[1]/satire_total_word_count\n",
    "    print(\"{} \\t\\t {:.4}\".format(word[0], normalized_frequency))"
   ]
  },
  {
   "cell_type": "code",
   "execution_count": 76,
   "metadata": {},
   "outputs": [
    {
     "name": "stdout",
     "output_type": "stream",
     "text": [
      "Word \t\t Normalized Frequency\n",
      "\n",
      "u.s. \t\t 0.006156\n",
      "trump \t\t 0.005627\n",
      "government \t\t 0.005272\n",
      "would \t\t 0.004779\n",
      "president \t\t 0.004706\n",
      "people \t\t 0.003548\n",
      "state \t\t 0.003329\n",
      "year \t\t 0.003065\n",
      "told \t\t 0.003028\n",
      "new \t\t 0.002955\n",
      "security \t\t 0.002937\n",
      "also \t\t 0.002909\n",
      "last \t\t 0.002909\n",
      "two \t\t 0.002818\n",
      "united \t\t 0.002745\n",
      "reuters \t\t 0.002691\n",
      "could \t\t 0.002681\n",
      "china \t\t 0.002581\n",
      "country \t\t 0.002545\n",
      "percent \t\t 0.002499\n",
      "since \t\t 0.002344\n",
      "states \t\t 0.002271\n",
      "monday \t\t 0.002253\n",
      "house \t\t 0.002244\n",
      "police \t\t 0.002079\n"
     ]
    }
   ],
   "source": [
    "not_satire_total_word_count = sum(not_satire_freq.values())\n",
    "not_satire_top_25 = not_satire_freq.most_common(25)\n",
    "print(\"Word \\t\\t Normalized Frequency\")\n",
    "print()\n",
    "for word in not_satire_top_25:\n",
    "    normalized_frequency = word[1]/not_satire_total_word_count\n",
    "    print(\"{} \\t\\t {:.4}\".format(word[0], normalized_frequency))"
   ]
  },
  {
   "cell_type": "markdown",
   "metadata": {},
   "source": [
    "#### Let's visualize it:"
   ]
  },
  {
   "cell_type": "code",
   "execution_count": 77,
   "metadata": {},
   "outputs": [],
   "source": [
    "satire_bar_counts = [x[1] for x in satire_freq.most_common(25)]\n",
    "satire_bar_words = [x[0] for x in satire_freq.most_common(25)]\n",
    "\n",
    "not_satire_bar_counts = [x[1] for x in not_satire_freq.most_common(25)]\n",
    "not_satire_bar_words = [x[0] for x in not_satire_freq.most_common(25)]"
   ]
  },
  {
   "cell_type": "code",
   "execution_count": 78,
   "metadata": {},
   "outputs": [],
   "source": [
    "from matplotlib import cm\n",
    "color = cm.viridis_r(np.linspace(.4,.8, 30))"
   ]
  },
  {
   "cell_type": "code",
   "execution_count": 79,
   "metadata": {},
   "outputs": [
    {
     "data": {
      "image/png": "[encoded data removed]",
      "text/plain": [
       "<Figure size 1152x288 with 2 Axes>"
      ]
     },
     "metadata": {},
     "output_type": "display_data"
    }
   ],
   "source": [
    "new_figure = plt.figure(figsize=(16,4))\n",
    "\n",
    "ax = new_figure.add_subplot(121)\n",
    "ax2 = new_figure.add_subplot(122)\n",
    "\n",
    "# Generate a line plot on first axes\n",
    "ax.bar(satire_bar_words, satire_bar_counts, color=color)\n",
    "# ax.plot(colormap='PRGn')\n",
    "\n",
    "# Draw a scatter plot on 2nd axes\n",
    "ax2.bar(not_satire_bar_words, not_satire_bar_counts, color=color )\n",
    "\n",
    "ax.title.set_text('Satire')\n",
    "ax2.title.set_text('Not Satire')\n",
    "\n",
    "for ax in new_figure.axes:\n",
    "    plt.sca(ax)\n",
    "    plt.xticks(rotation=60)\n",
    "\n",
    "plt.tight_layout(pad=0)\n",
    "\n",
    "# plt.savefig('word count bar graphs.png')\n",
    "\n",
    "plt.show()"
   ]
  },
  {
   "cell_type": "markdown",
   "metadata": {},
   "source": [
    "---"
   ]
  },
  {
   "cell_type": "markdown",
   "metadata": {},
   "source": [
    "### Word Clouds:"
   ]
  },
  {
   "cell_type": "code",
   "execution_count": 80,
   "metadata": {},
   "outputs": [],
   "source": [
    "# Getting our data into a dictionary\n",
    "# FORMAT:  dictionary = dict(zip(keys, values))\n",
    "\n",
    "satire_dictionary = dict(zip(satire_bar_words, satire_bar_counts))\n",
    "not_satire_dictionary = dict(zip(not_satire_bar_words, not_satire_bar_counts))"
   ]
  },
  {
   "cell_type": "code",
   "execution_count": 81,
   "metadata": {},
   "outputs": [],
   "source": [
    "# Preview the satire dictionary:\n",
    "\n",
    "# satire_dictionary"
   ]
  },
  {
   "cell_type": "code",
   "execution_count": 86,
   "metadata": {},
   "outputs": [
    {
     "ename": "IndentationError",
     "evalue": "unexpected indent (<ipython-input-86-d847af5b9255>, line 3)",
     "output_type": "error",
     "traceback": [
      "\u001b[0;36m  File \u001b[0;32m\"<ipython-input-86-d847af5b9255>\"\u001b[0;36m, line \u001b[0;32m3\u001b[0m\n\u001b[0;31m    get_ipython().system('pip install wordcloud')\u001b[0m\n\u001b[0m    ^\u001b[0m\n\u001b[0;31mIndentationError\u001b[0m\u001b[0;31m:\u001b[0m unexpected indent\n"
     ]
    }
   ],
   "source": [
    "# If you haven't done so already, uncomment the next line and run the cell:\n",
    "\n",
    " !pip install wordcloud"
   ]
  },
  {
   "cell_type": "code",
   "execution_count": 83,
   "metadata": {},
   "outputs": [
    {
     "ename": "ModuleNotFoundError",
     "evalue": "No module named 'wordcloud'",
     "output_type": "error",
     "traceback": [
      "\u001b[0;31m---------------------------------------------------------------------------\u001b[0m",
      "\u001b[0;31mModuleNotFoundError\u001b[0m                       Traceback (most recent call last)",
      "\u001b[0;32m<ipython-input-83-021e0a03a31f>\u001b[0m in \u001b[0;36m<module>\u001b[0;34m\u001b[0m\n\u001b[0;32m----> 1\u001b[0;31m \u001b[0;32mfrom\u001b[0m \u001b[0mwordcloud\u001b[0m \u001b[0;32mimport\u001b[0m \u001b[0mWordCloud\u001b[0m\u001b[0;34m\u001b[0m\u001b[0;34m\u001b[0m\u001b[0m\n\u001b[0m",
      "\u001b[0;31mModuleNotFoundError\u001b[0m: No module named 'wordcloud'"
     ]
    }
   ],
   "source": [
    "from wordcloud import WordCloud"
   ]
  },
  {
   "cell_type": "code",
   "execution_count": 85,
   "metadata": {},
   "outputs": [
    {
     "ename": "NameError",
     "evalue": "name 'WordCloud' is not defined",
     "output_type": "error",
     "traceback": [
      "\u001b[0;31m---------------------------------------------------------------------------\u001b[0m",
      "\u001b[0;31mNameError\u001b[0m                                 Traceback (most recent call last)",
      "\u001b[0;32m<ipython-input-85-e9a02e8a9353>\u001b[0m in \u001b[0;36m<module>\u001b[0;34m\u001b[0m\n\u001b[1;32m      1\u001b[0m \u001b[0;31m# Create the word cloud:\u001b[0m\u001b[0;34m\u001b[0m\u001b[0;34m\u001b[0m\u001b[0;34m\u001b[0m\u001b[0m\n\u001b[1;32m      2\u001b[0m \u001b[0;34m\u001b[0m\u001b[0m\n\u001b[0;32m----> 3\u001b[0;31m \u001b[0mwordcloud\u001b[0m \u001b[0;34m=\u001b[0m \u001b[0mWordCloud\u001b[0m\u001b[0;34m(\u001b[0m\u001b[0mcolormap\u001b[0m\u001b[0;34m=\u001b[0m\u001b[0;34m'Spectral'\u001b[0m\u001b[0;34m)\u001b[0m\u001b[0;34m.\u001b[0m\u001b[0mgenerate_from_frequencies\u001b[0m\u001b[0;34m(\u001b[0m\u001b[0msatire_dictionary\u001b[0m\u001b[0;34m)\u001b[0m\u001b[0;34m\u001b[0m\u001b[0;34m\u001b[0m\u001b[0m\n\u001b[0m\u001b[1;32m      4\u001b[0m \u001b[0;34m\u001b[0m\u001b[0m\n\u001b[1;32m      5\u001b[0m \u001b[0;31m# Display the generated image w/ matplotlib:\u001b[0m\u001b[0;34m\u001b[0m\u001b[0;34m\u001b[0m\u001b[0;34m\u001b[0m\u001b[0m\n",
      "\u001b[0;31mNameError\u001b[0m: name 'WordCloud' is not defined"
     ]
    }
   ],
   "source": [
    "# Create the word cloud:\n",
    "\n",
    "wordcloud = WordCloud(colormap='Spectral').generate_from_frequencies(satire_dictionary)\n",
    "\n",
    "# Display the generated image w/ matplotlib:\n",
    "\n",
    "plt.figure(figsize=(10,10), facecolor='k')\n",
    "plt.imshow(wordcloud, interpolation='bilinear')\n",
    "plt.axis(\"off\")\n",
    "plt.tight_layout(pad=0)\n",
    "\n",
    "# Uncomment the next line if you want to save your image:\n",
    "plt.savefig('satire_wordcloud.png')\n",
    "\n",
    "plt.show()"
   ]
  },
  {
   "cell_type": "code",
   "execution_count": 79,
   "metadata": {},
   "outputs": [
    {
     "data": {
      "image/png": "[encoded data removed]",
      "text/plain": [
       "<Figure size 720x720 with 1 Axes>"
      ]
     },
     "metadata": {},
     "output_type": "display_data"
    }
   ],
   "source": [
    "wordcloud = WordCloud(colormap='Spectral').generate_from_frequencies(not_satire_dictionary)\n",
    "\n",
    "plt.figure(figsize=(10,10), facecolor='k')\n",
    "plt.imshow(wordcloud, interpolation='bilinear')\n",
    "plt.axis(\"off\")\n",
    "plt.tight_layout(pad=0)\n",
    "# plt.savefig('not_satire_wordcloud.png')\n",
    "\n",
    "plt.show()"
   ]
  },
  {
   "cell_type": "markdown",
   "metadata": {},
   "source": [
    "## Bi-grams:"
   ]
  },
  {
   "cell_type": "markdown",
   "metadata": {},
   "source": [
    "Below, we are going to calculate the counts for each bigram within our satire data.\n",
    "\n",
    "REVIEW: Bigrams are two adjacent words, such as ‘CT scan’, ‘machine learning’, or ‘social media’. \n",
    "\n",
    "Feel free to add cells below if you want to calculate the bigram counts for not_satire data"
   ]
  },
  {
   "cell_type": "code",
   "execution_count": 80,
   "metadata": {},
   "outputs": [],
   "source": [
    "#bigrams for just satire articles\n",
    "\n",
    "# instantiate finder object\n",
    "finder = nltk.collocations.BigramCollocationFinder\n",
    "\n",
    "# instantiate bigramFinder\n",
    "bigrams_found = finder.from_words(flat_satire)\n",
    "\n",
    "\n",
    "bigram_freq = bigrams_found.ngram_fd.items()\n",
    "\n",
    "\n",
    "bigram_freq_table = pd.DataFrame(list(bigram_freq), \n",
    "                                 columns=['bigram','freq']).sort_values(by='freq', ascending=False)"
   ]
  },
  {
   "cell_type": "code",
   "execution_count": 81,
   "metadata": {},
   "outputs": [
    {
     "data": {
      "application/vnd.jupyter.widget-view+json": {
       "model_id": "aaec7140b7a64a1e9b6a4062fc53169d"
      },
      "text/html": [
       "<div>\n",
       "<style scoped>\n",
       "    .dataframe tbody tr th:only-of-type {\n",
       "        vertical-align: middle;\n",
       "    }\n",
       "\n",
       "    .dataframe tbody tr th {\n",
       "        vertical-align: top;\n",
       "    }\n",
       "\n",
       "    .dataframe thead th {\n",
       "        text-align: right;\n",
       "    }\n",
       "</style>\n",
       "<table border=\"1\" class=\"dataframe\">\n",
       "  <thead>\n",
       "    <tr style=\"text-align: right;\">\n",
       "      <th></th>\n",
       "      <th>bigram</th>\n",
       "      <th>freq</th>\n",
       "    </tr>\n",
       "  </thead>\n",
       "  <tbody>\n",
       "    <tr>\n",
       "      <th>3438</th>\n",
       "      <td>(theresa, may)</td>\n",
       "      <td>218</td>\n",
       "    </tr>\n",
       "    <tr>\n",
       "      <th>3797</th>\n",
       "      <td>(prime, minister)</td>\n",
       "      <td>118</td>\n",
       "    </tr>\n",
       "    <tr>\n",
       "      <th>78735</th>\n",
       "      <td>(right, hon)</td>\n",
       "      <td>60</td>\n",
       "    </tr>\n",
       "    <tr>\n",
       "      <th>159</th>\n",
       "      <td>(social, media)</td>\n",
       "      <td>59</td>\n",
       "    </tr>\n",
       "    <tr>\n",
       "      <th>2842</th>\n",
       "      <td>(daily, squib)</td>\n",
       "      <td>56</td>\n",
       "    </tr>\n",
       "    <tr>\n",
       "      <th>208</th>\n",
       "      <td>(donald, trump)</td>\n",
       "      <td>52</td>\n",
       "    </tr>\n",
       "    <tr>\n",
       "      <th>78736</th>\n",
       "      <td>(hon, friend)</td>\n",
       "      <td>49</td>\n",
       "    </tr>\n",
       "    <tr>\n",
       "      <th>4549</th>\n",
       "      <td>(even, though)</td>\n",
       "      <td>48</td>\n",
       "    </tr>\n",
       "    <tr>\n",
       "      <th>5894</th>\n",
       "      <td>(jeremy, corbyn)</td>\n",
       "      <td>45</td>\n",
       "    </tr>\n",
       "    <tr>\n",
       "      <th>393</th>\n",
       "      <td>(united, states)</td>\n",
       "      <td>41</td>\n",
       "    </tr>\n",
       "    <tr>\n",
       "      <th>10176</th>\n",
       "      <td>(fake, news)</td>\n",
       "      <td>39</td>\n",
       "    </tr>\n",
       "    <tr>\n",
       "      <th>18465</th>\n",
       "      <td>(free, speech)</td>\n",
       "      <td>38</td>\n",
       "    </tr>\n",
       "    <tr>\n",
       "      <th>3456</th>\n",
       "      <td>(every, day)</td>\n",
       "      <td>37</td>\n",
       "    </tr>\n",
       "    <tr>\n",
       "      <th>14507</th>\n",
       "      <td>(much, like)</td>\n",
       "      <td>35</td>\n",
       "    </tr>\n",
       "    <tr>\n",
       "      <th>20224</th>\n",
       "      <td>(single, currency)</td>\n",
       "      <td>34</td>\n",
       "    </tr>\n",
       "  </tbody>\n",
       "</table>\n",
       "</div>"
      ],
      "text/plain": [
       "                   bigram  freq\n",
       "3438       (theresa, may)   218\n",
       "3797    (prime, minister)   118\n",
       "78735        (right, hon)    60\n",
       "159       (social, media)    59\n",
       "2842       (daily, squib)    56\n",
       "208       (donald, trump)    52\n",
       "78736       (hon, friend)    49\n",
       "4549       (even, though)    48\n",
       "5894     (jeremy, corbyn)    45\n",
       "393      (united, states)    41\n",
       "10176        (fake, news)    39\n",
       "18465      (free, speech)    38\n",
       "3456         (every, day)    37\n",
       "14507        (much, like)    35\n",
       "20224  (single, currency)    34"
      ]
     },
     "metadata": {},
     "output_type": "display_data"
    }
   ],
   "source": [
    "bigram_freq_table.head(15)"
   ]
  },
  {
   "cell_type": "markdown",
   "metadata": {},
   "source": [
    "---"
   ]
  },
  {
   "cell_type": "markdown",
   "metadata": {},
   "source": [
    "#### Creating Bigram Frequencies:\n",
    "\n",
    "Knowing individual word frequencies is somewhat informative, but in practice, some of these tokens are actually parts of larger phrases that should be treated as a single unit. Let's create some bigram frequencies, and see which combinations of words are most telling."
   ]
  },
  {
   "cell_type": "markdown",
   "metadata": {},
   "source": [
    "In the cells below:\n",
    "\n",
    "* We'll begin by aliasing a particularly long method name to make it easier to call. Store `nltk.collocations.BigramAssociationMeasures()` inside of the variable `bigram_measures`.\n",
    "* Next, we'll need to create a **_finder_**. Pass `flat_satire` into `BigramCollocationFinder.from_words()` and store the result returned inside of `satire_finder`.\n",
    "* Once we have a finder, we can use it to compute bigram scores, so we can see the combinations that **occur most frequently.** \n",
    "* Call the `satire_finder` object's `score_ngrams()` method and pass in `bigram_measures.raw_freq` as the input. \n",
    "* Display first 20 elements in the `satire_scored` list to see the 20 most common bigrams in satire. \n",
    "* Do the same for `flat_not_satire`"
   ]
  },
  {
   "cell_type": "code",
   "execution_count": 82,
   "metadata": {
    "scrolled": true
   },
   "outputs": [],
   "source": [
    "satire_bigram_measures = nltk.collocations.BigramAssocMeasures()\n",
    "satire_finder = BigramCollocationFinder.from_words(flat_satire)\n",
    "satire_scored = satire_finder.score_ngrams(satire_bigram_measures.raw_freq)"
   ]
  },
  {
   "cell_type": "code",
   "execution_count": 83,
   "metadata": {
    "scrolled": true
   },
   "outputs": [
    {
     "data": {
      "text/plain": [
       "[(('theresa', 'may'), 0.0018681657697185753),\n",
       " (('prime', 'minister'), 0.0010112089946183115),\n",
       " (('right', 'hon'), 0.0005141740650601584),\n",
       " (('social', 'media'), 0.0005056044973091558),\n",
       " (('daily', 'squib'), 0.0004798957940561478),\n",
       " (('donald', 'trump'), 0.00044561752305213723),\n",
       " (('hon', 'friend'), 0.00041990881979912933),\n",
       " (('even', 'though'), 0.0004113392520481267),\n",
       " (('jeremy', 'corbyn'), 0.00038563054879511876),\n",
       " (('united', 'states'), 0.00035135227779110824)]"
      ]
     },
     "execution_count": 83,
     "metadata": {},
     "output_type": "execute_result"
    }
   ],
   "source": [
    "satire_scored[:10]"
   ]
  },
  {
   "cell_type": "markdown",
   "metadata": {},
   "source": [
    "- We can see below that if you divide the `('theresa', 'may')` count by the sum of all bigram counts, we get the correct frequency"
   ]
  },
  {
   "cell_type": "code",
   "execution_count": 84,
   "metadata": {},
   "outputs": [
    {
     "data": {
      "text/plain": [
       "3438    0.001868\n",
       "Name: freq, dtype: float64"
      ]
     },
     "execution_count": 84,
     "metadata": {},
     "output_type": "execute_result"
    }
   ],
   "source": [
    "# Checking our work:\n",
    "\n",
    "theresa_may_count = bigram_freq_table.freq.head(1) # 218\n",
    "total_bigrams = bigram_freq_table.freq.sum() # 116691\n",
    "\n",
    "theresa_may_count / total_bigrams  # 218/116691"
   ]
  },
  {
   "cell_type": "code",
   "execution_count": 85,
   "metadata": {},
   "outputs": [],
   "source": [
    "not_satire_bigram_measures = nltk.collocations.BigramAssocMeasures()\n",
    "not_satire_finder = BigramCollocationFinder.from_words(flat_not_satire)\n",
    "not_satire_scored = not_satire_finder.score_ngrams(not_satire_bigram_measures.raw_freq)"
   ]
  },
  {
   "cell_type": "code",
   "execution_count": 86,
   "metadata": {
    "scrolled": true
   },
   "outputs": [
    {
     "data": {
      "text/plain": [
       "[(('united', 'states'), 0.002024771529158534),\n",
       " (('donald', 'trump'), 0.0012404005764214444),\n",
       " (('president', 'donald'), 0.0011947976140530088),\n",
       " (('white', 'house'), 0.0010488681344740154),\n",
       " (('15', 'minutes'), 0.001012385764579267),\n",
       " (('last', 'year'), 0.00100326517210558),\n",
       " (('2019', 'reuters'), 0.0009941445796318928),\n",
       " (('complete', 'list'), 0.0009941445796318928),\n",
       " (('delayed', 'minimum'), 0.0009941445796318928),\n",
       " (('delays', '2019'), 0.0009941445796318928)]"
      ]
     },
     "execution_count": 86,
     "metadata": {},
     "output_type": "execute_result"
    }
   ],
   "source": [
    "not_satire_scored[:10]"
   ]
  },
  {
   "cell_type": "markdown",
   "metadata": {},
   "source": [
    "### Mutual Info Scores"
   ]
  },
  {
   "cell_type": "markdown",
   "metadata": {},
   "source": [
    "These look a bit more interesting. We can see here that some of the most common ones are proper names, such as 'Donald Trump' and 'Theresa May', while others seem to be common phrases used in the play. \n",
    "\n",
    "To wrap up our initial examination of _Satire_, let's end by calculating **_Mutual Information Scores_**.\n",
    "\n",
    "#### What exactly are mutual information scores?\n",
    "\n",
    "---\n",
    "\n",
    "**Pointwise mutual information (PMI)  is a correlation measure for two events, `x` and `y`.**\n",
    "\n",
    "Mutual information measures the pointwise mutual information over all possible events: that is, MI is the expectation (average) of PMI over all possible outcomes. \n",
    "\n",
    "The pointwise aspect of PMI indicates that we are considering specific events.  For example, `x = rain` and `y = thunder`.\n",
    "\n",
    "Consider the following formula.\n",
    "\n",
    "$ \\begin{align}\n",
    "pmi(𝑥;𝑦)≡\\text{ log } \\dfrac{𝑝(𝑥,𝑦)}{𝑝(𝑥)𝑝(𝑦)}= \\text{ log } \\dfrac{𝑝(𝑥|𝑦)}{𝑝(𝑥)}= \\text{ log } \\dfrac{𝑝(𝑦|𝑥)}{𝑝(𝑦)}.\n",
    "\\end{align} $\n",
    "\n",
    "\n",
    "\n",
    "If you ignore the logarithms, PMI is a ratio of two events occurring together under a joint distribution to two events occurring together under the assumption that x and y are independent, (i.e., `x` doesn't **predict** `y` and vice versa).  Applying the logarithms, base 2, converts this to a value that can be measured in bits, *i.e., Shannon information.*\n",
    "\n",
    "Given events, x and y, from random variables X and Y, respectively:\n",
    "\n",
    "    pmi(x,y) = log [likelihood(x occurs with y under p(x,y)) / likelihood(x occurs with y under p(x)p(y)]\n",
    "\n",
    "    = log [liklihood(x occurs given y occurs) / likelihood(x occurs under any circumstance)]\n",
    "\n",
    "    = log [how much y indicates x]\n",
    "\n",
    "    = how much information to x and y share\n",
    "\n",
    "The formula pmi(x,y) = log [p(x,y) / p(x)p(y)] intuitively gives you this information content ratio.  The numerator is the probability of `x` and `y` under the joint distribution; the denominator is the probability of each event independently.  Thus, if `x` and `y` are independent, p(x,y)=p(x)p(y), and your PMI is log(1) = 0, meaning that `y` and `x` share no information.  Intuitively, if x and y share no information, if you know x, you can make much better predictions if you also know `y`, because observing `y` tells you things that you would not have known at all with only `x`.  In contrast, if they share all of their information, then knowing y in addition to x gets you nothing, because it gives you no more predictive power.\n"
   ]
  },
  {
   "cell_type": "markdown",
   "metadata": {},
   "source": [
    "---"
   ]
  },
  {
   "cell_type": "markdown",
   "metadata": {},
   "source": [
    "**The main intuition is that it measures how much more likely the words co-occur than if they were independent.**\n",
    "\n",
    "However, it is very sensitive to rare combination of words. For example, if a random bigram ‘abc xyz’ appears, and neither ‘abc’ nor ‘xyz’ appeared anywhere else in the text, ‘abc xyz’ will be identified as highly significant bigram when it could just be a random misspelling or a phrase too rare to generalize as a bigram. Therefore, this method is often used with a frequency filter."
   ]
  },
  {
   "cell_type": "markdown",
   "metadata": {},
   "source": [
    "#### Using Mutual Information Scores\n",
    "\n",
    "To calculate Mutual Information Scores, first we'll need to  create a frequency filter. This is so that we only examine bigrams that occur more than a set number of times--for our purposes, we'll set this limit to 5. \n",
    "\n",
    "\n",
    "In NLTK, mutual information is often referred to as `pmi`, for **_Pointwise Mutual Information_**. Calculating PMI scores works much the same way that we created bigrams, with a few notable differences.\n",
    "\n",
    "In the cell below:\n",
    "\n",
    "* We'll start by creating another finder for pmi. Create a `BigramCollocationFinder.from_words` and pass in `flat_satire` as the input. Store this is the variable `satire_pmi_finder`.\n",
    "* Once we have our finder, we'll need to apply our frequency filter. Call `satire_pmi_finder`'s `apply_freq_filter` and pass in the number `5` as the input. \n",
    "* Now, we can use the finder to calculate pmi scores. Use the pmi finder's `.score_ngrams()` function, and pass in `bigram_measures.pmi` as the argument. Store this in `satire_pmi_scored`.\n",
    "* Examine the first 15 elements in `satire_pmi_scored`.\n",
    "* Do the same for `flat_not_satire`"
   ]
  },
  {
   "cell_type": "code",
   "execution_count": 87,
   "metadata": {},
   "outputs": [],
   "source": [
    "satire_pmi_finder = BigramCollocationFinder.from_words(flat_satire)\n",
    "satire_pmi_finder.apply_freq_filter(5)\n",
    "satire_pmi_scored = satire_pmi_finder.score_ngrams(satire_bigram_measures.pmi)"
   ]
  },
  {
   "cell_type": "code",
   "execution_count": 88,
   "metadata": {},
   "outputs": [
    {
     "data": {
      "text/plain": [
       "[(('skid', 'row'), 14.24738363196792),\n",
       " (('anna', 'soubry'), 14.024991210631473),\n",
       " (('priti', 'patel'), 14.024991210631473),\n",
       " (('hans', 'soylo'), 13.832346132689075),\n",
       " (('michel', 'barnier'), 13.832346132689075),\n",
       " (('gon', 'na'), 13.662421131246763),\n",
       " (('kim', 'jong-un'), 13.662421131246763),\n",
       " (('octopus', 'grip'), 13.510418037801717),\n",
       " (('48', 'hrs'), 13.510418037801713),\n",
       " (('los', 'angeles'), 13.37291451405178),\n",
       " (('knackers', 'yard'), 13.372914514051779),\n",
       " (('echo', 'chamber'), 13.24738363196792),\n",
       " (('margaret', 'thatcher'), 13.24738363196792),\n",
       " (('tiffany', 'haddish'), 13.24738363196792),\n",
       " (('winston', 'churchill'), 13.24738363196792)]"
      ]
     },
     "execution_count": 88,
     "metadata": {},
     "output_type": "execute_result"
    }
   ],
   "source": [
    "satire_pmi_scored[:15]"
   ]
  },
  {
   "cell_type": "code",
   "execution_count": 89,
   "metadata": {},
   "outputs": [],
   "source": [
    "not_satire_pmi_finder = BigramCollocationFinder.from_words(flat_not_satire)\n",
    "not_satire_pmi_finder.apply_freq_filter(5)\n",
    "not_satire_pmi_scored = not_satire_pmi_finder.score_ngrams(not_satire_bigram_measures.pmi)"
   ]
  },
  {
   "cell_type": "code",
   "execution_count": 90,
   "metadata": {
    "scrolled": true
   },
   "outputs": [
    {
     "data": {
      "text/plain": [
       "[(('gerauds', 'wilfried'), 14.420512929532865),\n",
       " (('nakhon', 'si'), 14.420512929532865),\n",
       " (('si', 'thammarat'), 14.420512929532865),\n",
       " (('srey', 'heng'), 14.420512929532865),\n",
       " (('anak', 'krakatau'), 14.15747852369907),\n",
       " (('mick', 'mulvaney'), 14.15747852369907),\n",
       " (('guy-bertrand', 'mapangou'), 13.935086102362622),\n",
       " (('sar-e', 'pul'), 13.935086102362622),\n",
       " (('zaw', 'htay'), 13.935086102362622),\n",
       " (('corneille', 'nangaa'), 13.742441024420227),\n",
       " (('santos', 'cruz'), 13.742441024420227),\n",
       " (('andres', 'manuel'), 13.742441024420224),\n",
       " (('bharatiya', 'janata'), 13.742441024420224),\n",
       " (('koh', 'samui'), 13.712693681026174),\n",
       " (('jia', 'kurd'), 13.572516022977915)]"
      ]
     },
     "execution_count": 90,
     "metadata": {},
     "output_type": "execute_result"
    }
   ],
   "source": [
    "not_satire_pmi_scored[:15]"
   ]
  },
  {
   "cell_type": "code",
   "execution_count": null,
   "metadata": {},
   "outputs": [],
   "source": []
  }
 ],
 "metadata": {
  "kernelspec": {
   "display_name": "Python 3",
   "language": "python",
   "name": "python3"
  },
  "language_info": {
   "codemirror_mode": {
    "name": "ipython",
    "version": 3
   },
   "file_extension": ".py",
   "mimetype": "text/x-python",
   "name": "python",
   "nbconvert_exporter": "python",
   "pygments_lexer": "ipython3",
   "version": "3.7.3"
  },
  "toc": {
   "base_numbering": 1,
   "nav_menu": {},
   "number_sections": true,
   "sideBar": true,
   "skip_h1_title": false,
   "title_cell": "Table of Contents",
   "title_sidebar": "Contents",
   "toc_cell": false,
   "toc_position": {},
   "toc_section_display": true,
   "toc_window_display": false
  }
 },
 "nbformat": 4,
 "nbformat_minor": 2
}
